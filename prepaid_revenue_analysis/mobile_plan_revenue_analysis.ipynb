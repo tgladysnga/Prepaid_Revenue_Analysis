{
 "cells": [
  {
   "cell_type": "markdown",
   "metadata": {},
   "source": [
    "# MOBILE PLAN REVENUE ANALYSIS"
   ]
  },
  {
   "cell_type": "markdown",
   "metadata": {},
   "source": [
    "## Introduction\n",
    "\n",
    "The purpose of this project is to provide conclusive data determining which prepaid plan, surf or ultimate, brings in more revenue. We are going to carry out a preliminary analysis of the plans based on a relatively small client selection by analyzing clients' behavior and details: who the clients are, where they're from, which plan they use, and the number of calls they made and text messages they sent in 2018.\n",
    "\n",
    "### Contents\n",
    "\n",
    "- Introduction\n",
    "- Initialization\n",
    "- Data preprocessing\n",
    "    - Missing values\n",
    "    - Correct data types\n",
    "    - Merging dataframes\n",
    "- Data exploration\n",
    "    - Plot histograms for calls, messages and internet usage\n",
    "    - Plot bar charts for both plans\n",
    "- Testing the hypotheses\n",
    "    - The average revenue from users of Ultimate and Surf calling plans differs\n",
    "    - The average revenue from users in NY-NJ area is different from that of the users from other regions\n",
    "- General Conclusion"
   ]
  },
  {
   "cell_type": "markdown",
   "metadata": {},
   "source": [
    "## Initialization"
   ]
  },
  {
   "cell_type": "markdown",
   "metadata": {},
   "source": [
    "Loading necessary libraries"
   ]
  },
  {
   "cell_type": "code",
   "execution_count": 1,
   "metadata": {},
   "outputs": [],
   "source": [
    "# loading the pandas library\n",
    "import pandas as pd"
   ]
  },
  {
   "cell_type": "code",
   "execution_count": 2,
   "metadata": {},
   "outputs": [],
   "source": [
    "# loading the math library\n",
    "import math"
   ]
  },
  {
   "cell_type": "code",
   "execution_count": 3,
   "metadata": {},
   "outputs": [],
   "source": [
    "# Loading matplotlib library\n",
    "import matplotlib.pyplot as plt"
   ]
  },
  {
   "cell_type": "code",
   "execution_count": 4,
   "metadata": {},
   "outputs": [],
   "source": [
    "# loading the numpy library\n",
    "import numpy as np"
   ]
  },
  {
   "cell_type": "code",
   "execution_count": 5,
   "metadata": {},
   "outputs": [],
   "source": [
    "# Loading the scipy library\n",
    "from scipy import stats as st"
   ]
  },
  {
   "cell_type": "markdown",
   "metadata": {},
   "source": [
    "Loading the data files"
   ]
  },
  {
   "cell_type": "code",
   "execution_count": 6,
   "metadata": {},
   "outputs": [],
   "source": [
    "# Load the data file into a DataFrame\n",
    "megaline_user_data = pd.read_csv('/datasets/megaline_users.csv')"
   ]
  },
  {
   "cell_type": "code",
   "execution_count": 7,
   "metadata": {},
   "outputs": [],
   "source": [
    "# Load the data file into a DataFrame\n",
    "megaline_call_data = pd.read_csv('/datasets/megaline_calls.csv')"
   ]
  },
  {
   "cell_type": "code",
   "execution_count": 8,
   "metadata": {},
   "outputs": [],
   "source": [
    "# Load the data file into a DataFrame\n",
    "megaline_msg_data = pd.read_csv('/datasets/megaline_messages.csv')"
   ]
  },
  {
   "cell_type": "code",
   "execution_count": 9,
   "metadata": {},
   "outputs": [],
   "source": [
    "# Load the data file into a DataFrame\n",
    "megaline_internet_data = pd.read_csv('/datasets/megaline_internet.csv')"
   ]
  },
  {
   "cell_type": "code",
   "execution_count": 10,
   "metadata": {},
   "outputs": [],
   "source": [
    "# Load the data file into a DataFrame\n",
    "megaline_plan_data = pd.read_csv('/datasets/megaline_plans.csv')"
   ]
  },
  {
   "cell_type": "markdown",
   "metadata": {},
   "source": [
    "Set float format of dataframes to 3 decimal places"
   ]
  },
  {
   "cell_type": "code",
   "execution_count": 11,
   "metadata": {},
   "outputs": [],
   "source": [
    "# This function changes the display of float values in the data to 3 decimal places    \n",
    "pd.set_option('display.float_format', lambda x: '%.3f' % x)"
   ]
  },
  {
   "cell_type": "markdown",
   "metadata": {},
   "source": [
    "## Data Preprocessing"
   ]
  },
  {
   "cell_type": "markdown",
   "metadata": {},
   "source": [
    "### Changing data type in analysis datasets"
   ]
  },
  {
   "cell_type": "markdown",
   "metadata": {},
   "source": [
    "Load basic information of the call dataset"
   ]
  },
  {
   "cell_type": "code",
   "execution_count": 12,
   "metadata": {},
   "outputs": [
    {
     "name": "stdout",
     "output_type": "stream",
     "text": [
      "<class 'pandas.core.frame.DataFrame'>\n",
      "RangeIndex: 137735 entries, 0 to 137734\n",
      "Data columns (total 4 columns):\n",
      " #   Column     Non-Null Count   Dtype  \n",
      "---  ------     --------------   -----  \n",
      " 0   id         137735 non-null  object \n",
      " 1   user_id    137735 non-null  int64  \n",
      " 2   call_date  137735 non-null  object \n",
      " 3   duration   137735 non-null  float64\n",
      "dtypes: float64(1), int64(1), object(2)\n",
      "memory usage: 4.2+ MB\n"
     ]
    }
   ],
   "source": [
    "# basic info of call dataset\n",
    "megaline_call_data.info()"
   ]
  },
  {
   "cell_type": "code",
   "execution_count": 13,
   "metadata": {},
   "outputs": [
    {
     "data": {
      "text/html": [
       "<div>\n",
       "<style scoped>\n",
       "    .dataframe tbody tr th:only-of-type {\n",
       "        vertical-align: middle;\n",
       "    }\n",
       "\n",
       "    .dataframe tbody tr th {\n",
       "        vertical-align: top;\n",
       "    }\n",
       "\n",
       "    .dataframe thead th {\n",
       "        text-align: right;\n",
       "    }\n",
       "</style>\n",
       "<table border=\"1\" class=\"dataframe\">\n",
       "  <thead>\n",
       "    <tr style=\"text-align: right;\">\n",
       "      <th></th>\n",
       "      <th>id</th>\n",
       "      <th>user_id</th>\n",
       "      <th>call_date</th>\n",
       "      <th>duration</th>\n",
       "    </tr>\n",
       "  </thead>\n",
       "  <tbody>\n",
       "    <tr>\n",
       "      <th>71015</th>\n",
       "      <td>1252_467</td>\n",
       "      <td>1252</td>\n",
       "      <td>2018-10-04</td>\n",
       "      <td>17.340</td>\n",
       "    </tr>\n",
       "  </tbody>\n",
       "</table>\n",
       "</div>"
      ],
      "text/plain": [
       "             id  user_id   call_date  duration\n",
       "71015  1252_467     1252  2018-10-04    17.340"
      ]
     },
     "execution_count": 13,
     "metadata": {},
     "output_type": "execute_result"
    }
   ],
   "source": [
    "# sample of call dataset\n",
    "megaline_call_data.sample()"
   ]
  },
  {
   "cell_type": "markdown",
   "metadata": {},
   "source": [
    "Per the output, we need to change the data type of the `'call_date'` column to dateTime"
   ]
  },
  {
   "cell_type": "code",
   "execution_count": 14,
   "metadata": {},
   "outputs": [],
   "source": [
    "# changing data type to datetime\n",
    "megaline_call_data['call_date'] = pd.to_datetime(megaline_call_data['call_date'], format = '%Y-%m-%d')"
   ]
  },
  {
   "cell_type": "code",
   "execution_count": 15,
   "metadata": {},
   "outputs": [
    {
     "name": "stdout",
     "output_type": "stream",
     "text": [
      "<class 'pandas.core.frame.DataFrame'>\n",
      "RangeIndex: 137735 entries, 0 to 137734\n",
      "Data columns (total 4 columns):\n",
      " #   Column     Non-Null Count   Dtype         \n",
      "---  ------     --------------   -----         \n",
      " 0   id         137735 non-null  object        \n",
      " 1   user_id    137735 non-null  int64         \n",
      " 2   call_date  137735 non-null  datetime64[ns]\n",
      " 3   duration   137735 non-null  float64       \n",
      "dtypes: datetime64[ns](1), float64(1), int64(1), object(1)\n",
      "memory usage: 4.2+ MB\n"
     ]
    }
   ],
   "source": [
    "# showing changes to data type\n",
    "megaline_call_data.info()"
   ]
  },
  {
   "cell_type": "markdown",
   "metadata": {},
   "source": [
    "We also need to set the `'month'` column in the call dataframe as the analysis is done on data per month"
   ]
  },
  {
   "cell_type": "code",
   "execution_count": 16,
   "metadata": {},
   "outputs": [],
   "source": [
    "# set month data in a column\n",
    "megaline_call_data['month'] = pd.DatetimeIndex(megaline_call_data['call_date']).month"
   ]
  },
  {
   "cell_type": "markdown",
   "metadata": {},
   "source": [
    "Now onto the text message dataset"
   ]
  },
  {
   "cell_type": "code",
   "execution_count": 17,
   "metadata": {},
   "outputs": [
    {
     "name": "stdout",
     "output_type": "stream",
     "text": [
      "<class 'pandas.core.frame.DataFrame'>\n",
      "RangeIndex: 76051 entries, 0 to 76050\n",
      "Data columns (total 3 columns):\n",
      " #   Column        Non-Null Count  Dtype \n",
      "---  ------        --------------  ----- \n",
      " 0   id            76051 non-null  object\n",
      " 1   user_id       76051 non-null  int64 \n",
      " 2   message_date  76051 non-null  object\n",
      "dtypes: int64(1), object(2)\n",
      "memory usage: 1.7+ MB\n"
     ]
    }
   ],
   "source": [
    "# general info on message dataset\n",
    "megaline_msg_data.info()"
   ]
  },
  {
   "cell_type": "code",
   "execution_count": 18,
   "metadata": {},
   "outputs": [
    {
     "data": {
      "text/html": [
       "<div>\n",
       "<style scoped>\n",
       "    .dataframe tbody tr th:only-of-type {\n",
       "        vertical-align: middle;\n",
       "    }\n",
       "\n",
       "    .dataframe tbody tr th {\n",
       "        vertical-align: top;\n",
       "    }\n",
       "\n",
       "    .dataframe thead th {\n",
       "        text-align: right;\n",
       "    }\n",
       "</style>\n",
       "<table border=\"1\" class=\"dataframe\">\n",
       "  <thead>\n",
       "    <tr style=\"text-align: right;\">\n",
       "      <th></th>\n",
       "      <th>id</th>\n",
       "      <th>user_id</th>\n",
       "      <th>message_date</th>\n",
       "    </tr>\n",
       "  </thead>\n",
       "  <tbody>\n",
       "    <tr>\n",
       "      <th>37784</th>\n",
       "      <td>1250_37</td>\n",
       "      <td>1250</td>\n",
       "      <td>2018-12-31</td>\n",
       "    </tr>\n",
       "  </tbody>\n",
       "</table>\n",
       "</div>"
      ],
      "text/plain": [
       "            id  user_id message_date\n",
       "37784  1250_37     1250   2018-12-31"
      ]
     },
     "execution_count": 18,
     "metadata": {},
     "output_type": "execute_result"
    }
   ],
   "source": [
    "# sample of message dataset\n",
    "megaline_msg_data.sample()"
   ]
  },
  {
   "cell_type": "markdown",
   "metadata": {},
   "source": [
    "Changing data type of `'message_date'` column to dateTime"
   ]
  },
  {
   "cell_type": "code",
   "execution_count": 19,
   "metadata": {},
   "outputs": [],
   "source": [
    "# changing data type to datetime\n",
    "megaline_msg_data['message_date'] = pd.to_datetime(megaline_msg_data['message_date'], format = '%Y-%m-%d')"
   ]
  },
  {
   "cell_type": "code",
   "execution_count": 20,
   "metadata": {},
   "outputs": [
    {
     "name": "stdout",
     "output_type": "stream",
     "text": [
      "<class 'pandas.core.frame.DataFrame'>\n",
      "RangeIndex: 76051 entries, 0 to 76050\n",
      "Data columns (total 3 columns):\n",
      " #   Column        Non-Null Count  Dtype         \n",
      "---  ------        --------------  -----         \n",
      " 0   id            76051 non-null  object        \n",
      " 1   user_id       76051 non-null  int64         \n",
      " 2   message_date  76051 non-null  datetime64[ns]\n",
      "dtypes: datetime64[ns](1), int64(1), object(1)\n",
      "memory usage: 1.7+ MB\n"
     ]
    }
   ],
   "source": [
    "# result of datatype change\n",
    "megaline_msg_data.info()"
   ]
  },
  {
   "cell_type": "code",
   "execution_count": 21,
   "metadata": {},
   "outputs": [],
   "source": [
    "# month column for message dataframe\n",
    "megaline_msg_data['month'] = pd.DatetimeIndex(megaline_msg_data['message_date']).month"
   ]
  },
  {
   "cell_type": "markdown",
   "metadata": {},
   "source": [
    "Moving on to the internet data"
   ]
  },
  {
   "cell_type": "code",
   "execution_count": 22,
   "metadata": {},
   "outputs": [
    {
     "name": "stdout",
     "output_type": "stream",
     "text": [
      "<class 'pandas.core.frame.DataFrame'>\n",
      "RangeIndex: 104825 entries, 0 to 104824\n",
      "Data columns (total 4 columns):\n",
      " #   Column        Non-Null Count   Dtype  \n",
      "---  ------        --------------   -----  \n",
      " 0   id            104825 non-null  object \n",
      " 1   user_id       104825 non-null  int64  \n",
      " 2   session_date  104825 non-null  object \n",
      " 3   mb_used       104825 non-null  float64\n",
      "dtypes: float64(1), int64(1), object(2)\n",
      "memory usage: 3.2+ MB\n"
     ]
    }
   ],
   "source": [
    "# general info\n",
    "megaline_internet_data.info()"
   ]
  },
  {
   "cell_type": "code",
   "execution_count": 23,
   "metadata": {},
   "outputs": [
    {
     "data": {
      "text/html": [
       "<div>\n",
       "<style scoped>\n",
       "    .dataframe tbody tr th:only-of-type {\n",
       "        vertical-align: middle;\n",
       "    }\n",
       "\n",
       "    .dataframe tbody tr th {\n",
       "        vertical-align: top;\n",
       "    }\n",
       "\n",
       "    .dataframe thead th {\n",
       "        text-align: right;\n",
       "    }\n",
       "</style>\n",
       "<table border=\"1\" class=\"dataframe\">\n",
       "  <thead>\n",
       "    <tr style=\"text-align: right;\">\n",
       "      <th></th>\n",
       "      <th>id</th>\n",
       "      <th>user_id</th>\n",
       "      <th>session_date</th>\n",
       "      <th>mb_used</th>\n",
       "    </tr>\n",
       "  </thead>\n",
       "  <tbody>\n",
       "    <tr>\n",
       "      <th>93982</th>\n",
       "      <td>1439_35</td>\n",
       "      <td>1439</td>\n",
       "      <td>2018-08-24</td>\n",
       "      <td>0.000</td>\n",
       "    </tr>\n",
       "  </tbody>\n",
       "</table>\n",
       "</div>"
      ],
      "text/plain": [
       "            id  user_id session_date  mb_used\n",
       "93982  1439_35     1439   2018-08-24    0.000"
      ]
     },
     "execution_count": 23,
     "metadata": {},
     "output_type": "execute_result"
    }
   ],
   "source": [
    "# sample data\n",
    "megaline_internet_data.sample()"
   ]
  },
  {
   "cell_type": "code",
   "execution_count": 24,
   "metadata": {},
   "outputs": [],
   "source": [
    "# changing data type to datetime\n",
    "megaline_internet_data['session_date'] = pd.to_datetime(megaline_internet_data['session_date'], format = '%Y-%m-%d')"
   ]
  },
  {
   "cell_type": "code",
   "execution_count": 25,
   "metadata": {},
   "outputs": [
    {
     "name": "stdout",
     "output_type": "stream",
     "text": [
      "<class 'pandas.core.frame.DataFrame'>\n",
      "RangeIndex: 104825 entries, 0 to 104824\n",
      "Data columns (total 4 columns):\n",
      " #   Column        Non-Null Count   Dtype         \n",
      "---  ------        --------------   -----         \n",
      " 0   id            104825 non-null  object        \n",
      " 1   user_id       104825 non-null  int64         \n",
      " 2   session_date  104825 non-null  datetime64[ns]\n",
      " 3   mb_used       104825 non-null  float64       \n",
      "dtypes: datetime64[ns](1), float64(1), int64(1), object(1)\n",
      "memory usage: 3.2+ MB\n"
     ]
    }
   ],
   "source": [
    "# result of data type change\n",
    "megaline_internet_data.info()"
   ]
  },
  {
   "cell_type": "code",
   "execution_count": 26,
   "metadata": {},
   "outputs": [],
   "source": [
    "# month column for internet data\n",
    "megaline_internet_data['month'] = pd.DatetimeIndex(megaline_internet_data['session_date']).month"
   ]
  },
  {
   "cell_type": "markdown",
   "metadata": {},
   "source": [
    "### Handling Missing Values in User Data and Changing Data Type"
   ]
  },
  {
   "cell_type": "markdown",
   "metadata": {},
   "source": [
    "Now that the analysis dataframes have been configured, we can move on to the plan and user dataframes"
   ]
  },
  {
   "cell_type": "code",
   "execution_count": 27,
   "metadata": {},
   "outputs": [
    {
     "name": "stdout",
     "output_type": "stream",
     "text": [
      "<class 'pandas.core.frame.DataFrame'>\n",
      "RangeIndex: 2 entries, 0 to 1\n",
      "Data columns (total 8 columns):\n",
      " #   Column                 Non-Null Count  Dtype  \n",
      "---  ------                 --------------  -----  \n",
      " 0   messages_included      2 non-null      int64  \n",
      " 1   mb_per_month_included  2 non-null      int64  \n",
      " 2   minutes_included       2 non-null      int64  \n",
      " 3   usd_monthly_pay        2 non-null      int64  \n",
      " 4   usd_per_gb             2 non-null      int64  \n",
      " 5   usd_per_message        2 non-null      float64\n",
      " 6   usd_per_minute         2 non-null      float64\n",
      " 7   plan_name              2 non-null      object \n",
      "dtypes: float64(2), int64(5), object(1)\n",
      "memory usage: 256.0+ bytes\n"
     ]
    }
   ],
   "source": [
    "# general info on plan data\n",
    "megaline_plan_data.info()"
   ]
  },
  {
   "cell_type": "code",
   "execution_count": 28,
   "metadata": {},
   "outputs": [
    {
     "name": "stdout",
     "output_type": "stream",
     "text": [
      "<class 'pandas.core.frame.DataFrame'>\n",
      "RangeIndex: 500 entries, 0 to 499\n",
      "Data columns (total 8 columns):\n",
      " #   Column      Non-Null Count  Dtype \n",
      "---  ------      --------------  ----- \n",
      " 0   user_id     500 non-null    int64 \n",
      " 1   first_name  500 non-null    object\n",
      " 2   last_name   500 non-null    object\n",
      " 3   age         500 non-null    int64 \n",
      " 4   city        500 non-null    object\n",
      " 5   reg_date    500 non-null    object\n",
      " 6   plan        500 non-null    object\n",
      " 7   churn_date  34 non-null     object\n",
      "dtypes: int64(2), object(6)\n",
      "memory usage: 31.4+ KB\n"
     ]
    }
   ],
   "source": [
    "# general info on user data\n",
    "megaline_user_data.info()"
   ]
  },
  {
   "cell_type": "code",
   "execution_count": 29,
   "metadata": {},
   "outputs": [
    {
     "data": {
      "text/plain": [
       "93.2"
      ]
     },
     "execution_count": 29,
     "metadata": {},
     "output_type": "execute_result"
    }
   ],
   "source": [
    "# percent of missing data\n",
    "megaline_user_data['churn_date'].isna().sum() / len(megaline_user_data) * 100"
   ]
  },
  {
   "cell_type": "markdown",
   "metadata": {},
   "source": [
    "From the outputs above, there are missing values in the `'churn_date'` column which need to be fixed as over 90% of the dataframe is affected. Since the churn date represents the last day the plan was used by the user and the data represented records data for 2018, we can use a wrong date to fill the missing values to avoid confusions, in this case 2222-11-11."
   ]
  },
  {
   "cell_type": "code",
   "execution_count": 30,
   "metadata": {},
   "outputs": [],
   "source": [
    "#fill missing values in churn date column\n",
    "megaline_user_data['churn_date'].fillna('2222-11-11', inplace = True)"
   ]
  },
  {
   "cell_type": "code",
   "execution_count": 31,
   "metadata": {},
   "outputs": [
    {
     "data": {
      "text/plain": [
       "0"
      ]
     },
     "execution_count": 31,
     "metadata": {},
     "output_type": "execute_result"
    }
   ],
   "source": [
    "# check to see if filled\n",
    "megaline_user_data['churn_date'].isna().sum()"
   ]
  },
  {
   "cell_type": "markdown",
   "metadata": {},
   "source": [
    "Now that the missing values are filled, we can change the data type for the respective date time columns"
   ]
  },
  {
   "cell_type": "code",
   "execution_count": 32,
   "metadata": {},
   "outputs": [],
   "source": [
    "# changing data type to datetime\n",
    "megaline_user_data['churn_date'] = pd.to_datetime(megaline_user_data['churn_date'], format = '%Y-%m-%d')"
   ]
  },
  {
   "cell_type": "code",
   "execution_count": 33,
   "metadata": {},
   "outputs": [],
   "source": [
    "# changing data type to datetime\n",
    "megaline_user_data['reg_date'] = pd.to_datetime(megaline_user_data['reg_date'], format = '%Y-%m-%d')"
   ]
  },
  {
   "cell_type": "code",
   "execution_count": 34,
   "metadata": {},
   "outputs": [
    {
     "name": "stdout",
     "output_type": "stream",
     "text": [
      "<class 'pandas.core.frame.DataFrame'>\n",
      "RangeIndex: 500 entries, 0 to 499\n",
      "Data columns (total 8 columns):\n",
      " #   Column      Non-Null Count  Dtype         \n",
      "---  ------      --------------  -----         \n",
      " 0   user_id     500 non-null    int64         \n",
      " 1   first_name  500 non-null    object        \n",
      " 2   last_name   500 non-null    object        \n",
      " 3   age         500 non-null    int64         \n",
      " 4   city        500 non-null    object        \n",
      " 5   reg_date    500 non-null    datetime64[ns]\n",
      " 6   plan        500 non-null    object        \n",
      " 7   churn_date  500 non-null    datetime64[ns]\n",
      "dtypes: datetime64[ns](2), int64(2), object(4)\n",
      "memory usage: 31.4+ KB\n"
     ]
    }
   ],
   "source": [
    "# result of data type change\n",
    "megaline_user_data.info()"
   ]
  },
  {
   "cell_type": "markdown",
   "metadata": {},
   "source": [
    "### Merging Dataframes"
   ]
  },
  {
   "cell_type": "markdown",
   "metadata": {},
   "source": [
    "To perform accurate analysis on the data provided, we need to merge the different dataframes to `'megaline_user_data'` by plan and month"
   ]
  },
  {
   "cell_type": "markdown",
   "metadata": {},
   "source": [
    "To do this, we will create pivot tables of message count, call time and internet usage monthly for integration of the calculated values with the `'megaline_user_data'` dataframe"
   ]
  },
  {
   "cell_type": "code",
   "execution_count": 35,
   "metadata": {},
   "outputs": [
    {
     "data": {
      "text/html": [
       "<div>\n",
       "<style scoped>\n",
       "    .dataframe tbody tr th:only-of-type {\n",
       "        vertical-align: middle;\n",
       "    }\n",
       "\n",
       "    .dataframe tbody tr th {\n",
       "        vertical-align: top;\n",
       "    }\n",
       "\n",
       "    .dataframe thead th {\n",
       "        text-align: right;\n",
       "    }\n",
       "</style>\n",
       "<table border=\"1\" class=\"dataframe\">\n",
       "  <thead>\n",
       "    <tr style=\"text-align: right;\">\n",
       "      <th></th>\n",
       "      <th>user_id</th>\n",
       "      <th>month</th>\n",
       "      <th>id</th>\n",
       "    </tr>\n",
       "  </thead>\n",
       "  <tbody>\n",
       "    <tr>\n",
       "      <th>0</th>\n",
       "      <td>1000</td>\n",
       "      <td>12</td>\n",
       "      <td>11</td>\n",
       "    </tr>\n",
       "    <tr>\n",
       "      <th>1</th>\n",
       "      <td>1001</td>\n",
       "      <td>8</td>\n",
       "      <td>30</td>\n",
       "    </tr>\n",
       "    <tr>\n",
       "      <th>2</th>\n",
       "      <td>1001</td>\n",
       "      <td>9</td>\n",
       "      <td>44</td>\n",
       "    </tr>\n",
       "    <tr>\n",
       "      <th>3</th>\n",
       "      <td>1001</td>\n",
       "      <td>10</td>\n",
       "      <td>53</td>\n",
       "    </tr>\n",
       "    <tr>\n",
       "      <th>4</th>\n",
       "      <td>1001</td>\n",
       "      <td>11</td>\n",
       "      <td>36</td>\n",
       "    </tr>\n",
       "    <tr>\n",
       "      <th>...</th>\n",
       "      <td>...</td>\n",
       "      <td>...</td>\n",
       "      <td>...</td>\n",
       "    </tr>\n",
       "    <tr>\n",
       "      <th>1801</th>\n",
       "      <td>1496</td>\n",
       "      <td>9</td>\n",
       "      <td>21</td>\n",
       "    </tr>\n",
       "    <tr>\n",
       "      <th>1802</th>\n",
       "      <td>1496</td>\n",
       "      <td>10</td>\n",
       "      <td>18</td>\n",
       "    </tr>\n",
       "    <tr>\n",
       "      <th>1803</th>\n",
       "      <td>1496</td>\n",
       "      <td>11</td>\n",
       "      <td>13</td>\n",
       "    </tr>\n",
       "    <tr>\n",
       "      <th>1804</th>\n",
       "      <td>1496</td>\n",
       "      <td>12</td>\n",
       "      <td>11</td>\n",
       "    </tr>\n",
       "    <tr>\n",
       "      <th>1805</th>\n",
       "      <td>1497</td>\n",
       "      <td>12</td>\n",
       "      <td>50</td>\n",
       "    </tr>\n",
       "  </tbody>\n",
       "</table>\n",
       "<p>1806 rows × 3 columns</p>\n",
       "</div>"
      ],
      "text/plain": [
       "      user_id  month  id\n",
       "0        1000     12  11\n",
       "1        1001      8  30\n",
       "2        1001      9  44\n",
       "3        1001     10  53\n",
       "4        1001     11  36\n",
       "...       ...    ...  ..\n",
       "1801     1496      9  21\n",
       "1802     1496     10  18\n",
       "1803     1496     11  13\n",
       "1804     1496     12  11\n",
       "1805     1497     12  50\n",
       "\n",
       "[1806 rows x 3 columns]"
      ]
     },
     "execution_count": 35,
     "metadata": {},
     "output_type": "execute_result"
    }
   ],
   "source": [
    "# pivot table of message count per month\n",
    "msg_table = megaline_msg_data.pivot_table(index = ['user_id','month'], values = 'id', aggfunc = 'count').reset_index()\n",
    "msg_table"
   ]
  },
  {
   "cell_type": "code",
   "execution_count": 36,
   "metadata": {},
   "outputs": [
    {
     "data": {
      "text/html": [
       "<div>\n",
       "<style scoped>\n",
       "    .dataframe tbody tr th:only-of-type {\n",
       "        vertical-align: middle;\n",
       "    }\n",
       "\n",
       "    .dataframe tbody tr th {\n",
       "        vertical-align: top;\n",
       "    }\n",
       "\n",
       "    .dataframe thead th {\n",
       "        text-align: right;\n",
       "    }\n",
       "</style>\n",
       "<table border=\"1\" class=\"dataframe\">\n",
       "  <thead>\n",
       "    <tr style=\"text-align: right;\">\n",
       "      <th></th>\n",
       "      <th>user_id</th>\n",
       "      <th>month</th>\n",
       "      <th>mb_used</th>\n",
       "    </tr>\n",
       "  </thead>\n",
       "  <tbody>\n",
       "    <tr>\n",
       "      <th>0</th>\n",
       "      <td>1000</td>\n",
       "      <td>12</td>\n",
       "      <td>1901.470</td>\n",
       "    </tr>\n",
       "    <tr>\n",
       "      <th>1</th>\n",
       "      <td>1001</td>\n",
       "      <td>8</td>\n",
       "      <td>6919.150</td>\n",
       "    </tr>\n",
       "    <tr>\n",
       "      <th>2</th>\n",
       "      <td>1001</td>\n",
       "      <td>9</td>\n",
       "      <td>13314.820</td>\n",
       "    </tr>\n",
       "    <tr>\n",
       "      <th>3</th>\n",
       "      <td>1001</td>\n",
       "      <td>10</td>\n",
       "      <td>22330.490</td>\n",
       "    </tr>\n",
       "    <tr>\n",
       "      <th>4</th>\n",
       "      <td>1001</td>\n",
       "      <td>11</td>\n",
       "      <td>18504.300</td>\n",
       "    </tr>\n",
       "    <tr>\n",
       "      <th>...</th>\n",
       "      <td>...</td>\n",
       "      <td>...</td>\n",
       "      <td>...</td>\n",
       "    </tr>\n",
       "    <tr>\n",
       "      <th>2272</th>\n",
       "      <td>1498</td>\n",
       "      <td>12</td>\n",
       "      <td>23137.690</td>\n",
       "    </tr>\n",
       "    <tr>\n",
       "      <th>2273</th>\n",
       "      <td>1499</td>\n",
       "      <td>9</td>\n",
       "      <td>12984.760</td>\n",
       "    </tr>\n",
       "    <tr>\n",
       "      <th>2274</th>\n",
       "      <td>1499</td>\n",
       "      <td>10</td>\n",
       "      <td>19492.430</td>\n",
       "    </tr>\n",
       "    <tr>\n",
       "      <th>2275</th>\n",
       "      <td>1499</td>\n",
       "      <td>11</td>\n",
       "      <td>16813.830</td>\n",
       "    </tr>\n",
       "    <tr>\n",
       "      <th>2276</th>\n",
       "      <td>1499</td>\n",
       "      <td>12</td>\n",
       "      <td>22059.210</td>\n",
       "    </tr>\n",
       "  </tbody>\n",
       "</table>\n",
       "<p>2277 rows × 3 columns</p>\n",
       "</div>"
      ],
      "text/plain": [
       "      user_id  month   mb_used\n",
       "0        1000     12  1901.470\n",
       "1        1001      8  6919.150\n",
       "2        1001      9 13314.820\n",
       "3        1001     10 22330.490\n",
       "4        1001     11 18504.300\n",
       "...       ...    ...       ...\n",
       "2272     1498     12 23137.690\n",
       "2273     1499      9 12984.760\n",
       "2274     1499     10 19492.430\n",
       "2275     1499     11 16813.830\n",
       "2276     1499     12 22059.210\n",
       "\n",
       "[2277 rows x 3 columns]"
      ]
     },
     "execution_count": 36,
     "metadata": {},
     "output_type": "execute_result"
    }
   ],
   "source": [
    "# pivot table of internet usage per month\n",
    "internet_table = megaline_internet_data.pivot_table(index = ['user_id','month'], values = 'mb_used', aggfunc = 'sum').reset_index()\n",
    "internet_table"
   ]
  },
  {
   "cell_type": "code",
   "execution_count": 37,
   "metadata": {},
   "outputs": [
    {
     "data": {
      "text/html": [
       "<div>\n",
       "<style scoped>\n",
       "    .dataframe tbody tr th:only-of-type {\n",
       "        vertical-align: middle;\n",
       "    }\n",
       "\n",
       "    .dataframe tbody tr th {\n",
       "        vertical-align: top;\n",
       "    }\n",
       "\n",
       "    .dataframe thead th {\n",
       "        text-align: right;\n",
       "    }\n",
       "</style>\n",
       "<table border=\"1\" class=\"dataframe\">\n",
       "  <thead>\n",
       "    <tr style=\"text-align: right;\">\n",
       "      <th></th>\n",
       "      <th>user_id</th>\n",
       "      <th>month</th>\n",
       "      <th>count</th>\n",
       "      <th>sum</th>\n",
       "    </tr>\n",
       "  </thead>\n",
       "  <tbody>\n",
       "    <tr>\n",
       "      <th>0</th>\n",
       "      <td>1000</td>\n",
       "      <td>12</td>\n",
       "      <td>16</td>\n",
       "      <td>116.830</td>\n",
       "    </tr>\n",
       "    <tr>\n",
       "      <th>1</th>\n",
       "      <td>1001</td>\n",
       "      <td>8</td>\n",
       "      <td>27</td>\n",
       "      <td>171.140</td>\n",
       "    </tr>\n",
       "    <tr>\n",
       "      <th>2</th>\n",
       "      <td>1001</td>\n",
       "      <td>9</td>\n",
       "      <td>49</td>\n",
       "      <td>297.690</td>\n",
       "    </tr>\n",
       "    <tr>\n",
       "      <th>3</th>\n",
       "      <td>1001</td>\n",
       "      <td>10</td>\n",
       "      <td>65</td>\n",
       "      <td>374.110</td>\n",
       "    </tr>\n",
       "    <tr>\n",
       "      <th>4</th>\n",
       "      <td>1001</td>\n",
       "      <td>11</td>\n",
       "      <td>64</td>\n",
       "      <td>404.590</td>\n",
       "    </tr>\n",
       "    <tr>\n",
       "      <th>...</th>\n",
       "      <td>...</td>\n",
       "      <td>...</td>\n",
       "      <td>...</td>\n",
       "      <td>...</td>\n",
       "    </tr>\n",
       "    <tr>\n",
       "      <th>2253</th>\n",
       "      <td>1498</td>\n",
       "      <td>12</td>\n",
       "      <td>39</td>\n",
       "      <td>324.770</td>\n",
       "    </tr>\n",
       "    <tr>\n",
       "      <th>2254</th>\n",
       "      <td>1499</td>\n",
       "      <td>9</td>\n",
       "      <td>41</td>\n",
       "      <td>330.370</td>\n",
       "    </tr>\n",
       "    <tr>\n",
       "      <th>2255</th>\n",
       "      <td>1499</td>\n",
       "      <td>10</td>\n",
       "      <td>53</td>\n",
       "      <td>363.280</td>\n",
       "    </tr>\n",
       "    <tr>\n",
       "      <th>2256</th>\n",
       "      <td>1499</td>\n",
       "      <td>11</td>\n",
       "      <td>45</td>\n",
       "      <td>288.560</td>\n",
       "    </tr>\n",
       "    <tr>\n",
       "      <th>2257</th>\n",
       "      <td>1499</td>\n",
       "      <td>12</td>\n",
       "      <td>65</td>\n",
       "      <td>468.100</td>\n",
       "    </tr>\n",
       "  </tbody>\n",
       "</table>\n",
       "<p>2258 rows × 4 columns</p>\n",
       "</div>"
      ],
      "text/plain": [
       "      user_id  month  count     sum\n",
       "0        1000     12     16 116.830\n",
       "1        1001      8     27 171.140\n",
       "2        1001      9     49 297.690\n",
       "3        1001     10     65 374.110\n",
       "4        1001     11     64 404.590\n",
       "...       ...    ...    ...     ...\n",
       "2253     1498     12     39 324.770\n",
       "2254     1499      9     41 330.370\n",
       "2255     1499     10     53 363.280\n",
       "2256     1499     11     45 288.560\n",
       "2257     1499     12     65 468.100\n",
       "\n",
       "[2258 rows x 4 columns]"
      ]
     },
     "execution_count": 37,
     "metadata": {},
     "output_type": "execute_result"
    }
   ],
   "source": [
    "# pivot table of call count and total call time monthly\n",
    "call_table = megaline_call_data.pivot_table(index= ['user_id','month'], values= 'duration', aggfunc = ('count', 'sum')).reset_index()\n",
    "call_table"
   ]
  },
  {
   "cell_type": "markdown",
   "metadata": {},
   "source": [
    "We can then merge the tables to the user dataframe"
   ]
  },
  {
   "cell_type": "code",
   "execution_count": 38,
   "metadata": {},
   "outputs": [
    {
     "data": {
      "text/html": [
       "<div>\n",
       "<style scoped>\n",
       "    .dataframe tbody tr th:only-of-type {\n",
       "        vertical-align: middle;\n",
       "    }\n",
       "\n",
       "    .dataframe tbody tr th {\n",
       "        vertical-align: top;\n",
       "    }\n",
       "\n",
       "    .dataframe thead th {\n",
       "        text-align: right;\n",
       "    }\n",
       "</style>\n",
       "<table border=\"1\" class=\"dataframe\">\n",
       "  <thead>\n",
       "    <tr style=\"text-align: right;\">\n",
       "      <th></th>\n",
       "      <th>user_id</th>\n",
       "      <th>first_name</th>\n",
       "      <th>last_name</th>\n",
       "      <th>age</th>\n",
       "      <th>city</th>\n",
       "      <th>reg_date</th>\n",
       "      <th>plan</th>\n",
       "      <th>churn_date</th>\n",
       "      <th>month</th>\n",
       "      <th>count</th>\n",
       "      <th>sum</th>\n",
       "    </tr>\n",
       "  </thead>\n",
       "  <tbody>\n",
       "    <tr>\n",
       "      <th>0</th>\n",
       "      <td>1000</td>\n",
       "      <td>Anamaria</td>\n",
       "      <td>Bauer</td>\n",
       "      <td>45</td>\n",
       "      <td>Atlanta-Sandy Springs-Roswell, GA MSA</td>\n",
       "      <td>2018-12-24</td>\n",
       "      <td>ultimate</td>\n",
       "      <td>2222-11-11</td>\n",
       "      <td>12</td>\n",
       "      <td>16</td>\n",
       "      <td>116.830</td>\n",
       "    </tr>\n",
       "    <tr>\n",
       "      <th>1</th>\n",
       "      <td>1001</td>\n",
       "      <td>Mickey</td>\n",
       "      <td>Wilkerson</td>\n",
       "      <td>28</td>\n",
       "      <td>Seattle-Tacoma-Bellevue, WA MSA</td>\n",
       "      <td>2018-08-13</td>\n",
       "      <td>surf</td>\n",
       "      <td>2222-11-11</td>\n",
       "      <td>8</td>\n",
       "      <td>27</td>\n",
       "      <td>171.140</td>\n",
       "    </tr>\n",
       "    <tr>\n",
       "      <th>2</th>\n",
       "      <td>1001</td>\n",
       "      <td>Mickey</td>\n",
       "      <td>Wilkerson</td>\n",
       "      <td>28</td>\n",
       "      <td>Seattle-Tacoma-Bellevue, WA MSA</td>\n",
       "      <td>2018-08-13</td>\n",
       "      <td>surf</td>\n",
       "      <td>2222-11-11</td>\n",
       "      <td>9</td>\n",
       "      <td>49</td>\n",
       "      <td>297.690</td>\n",
       "    </tr>\n",
       "    <tr>\n",
       "      <th>3</th>\n",
       "      <td>1001</td>\n",
       "      <td>Mickey</td>\n",
       "      <td>Wilkerson</td>\n",
       "      <td>28</td>\n",
       "      <td>Seattle-Tacoma-Bellevue, WA MSA</td>\n",
       "      <td>2018-08-13</td>\n",
       "      <td>surf</td>\n",
       "      <td>2222-11-11</td>\n",
       "      <td>10</td>\n",
       "      <td>65</td>\n",
       "      <td>374.110</td>\n",
       "    </tr>\n",
       "    <tr>\n",
       "      <th>4</th>\n",
       "      <td>1001</td>\n",
       "      <td>Mickey</td>\n",
       "      <td>Wilkerson</td>\n",
       "      <td>28</td>\n",
       "      <td>Seattle-Tacoma-Bellevue, WA MSA</td>\n",
       "      <td>2018-08-13</td>\n",
       "      <td>surf</td>\n",
       "      <td>2222-11-11</td>\n",
       "      <td>11</td>\n",
       "      <td>64</td>\n",
       "      <td>404.590</td>\n",
       "    </tr>\n",
       "    <tr>\n",
       "      <th>...</th>\n",
       "      <td>...</td>\n",
       "      <td>...</td>\n",
       "      <td>...</td>\n",
       "      <td>...</td>\n",
       "      <td>...</td>\n",
       "      <td>...</td>\n",
       "      <td>...</td>\n",
       "      <td>...</td>\n",
       "      <td>...</td>\n",
       "      <td>...</td>\n",
       "      <td>...</td>\n",
       "    </tr>\n",
       "    <tr>\n",
       "      <th>2253</th>\n",
       "      <td>1498</td>\n",
       "      <td>Scot</td>\n",
       "      <td>Williamson</td>\n",
       "      <td>51</td>\n",
       "      <td>New York-Newark-Jersey City, NY-NJ-PA MSA</td>\n",
       "      <td>2018-02-04</td>\n",
       "      <td>surf</td>\n",
       "      <td>2222-11-11</td>\n",
       "      <td>12</td>\n",
       "      <td>39</td>\n",
       "      <td>324.770</td>\n",
       "    </tr>\n",
       "    <tr>\n",
       "      <th>2254</th>\n",
       "      <td>1499</td>\n",
       "      <td>Shena</td>\n",
       "      <td>Dickson</td>\n",
       "      <td>37</td>\n",
       "      <td>Orlando-Kissimmee-Sanford, FL MSA</td>\n",
       "      <td>2018-05-06</td>\n",
       "      <td>surf</td>\n",
       "      <td>2222-11-11</td>\n",
       "      <td>9</td>\n",
       "      <td>41</td>\n",
       "      <td>330.370</td>\n",
       "    </tr>\n",
       "    <tr>\n",
       "      <th>2255</th>\n",
       "      <td>1499</td>\n",
       "      <td>Shena</td>\n",
       "      <td>Dickson</td>\n",
       "      <td>37</td>\n",
       "      <td>Orlando-Kissimmee-Sanford, FL MSA</td>\n",
       "      <td>2018-05-06</td>\n",
       "      <td>surf</td>\n",
       "      <td>2222-11-11</td>\n",
       "      <td>10</td>\n",
       "      <td>53</td>\n",
       "      <td>363.280</td>\n",
       "    </tr>\n",
       "    <tr>\n",
       "      <th>2256</th>\n",
       "      <td>1499</td>\n",
       "      <td>Shena</td>\n",
       "      <td>Dickson</td>\n",
       "      <td>37</td>\n",
       "      <td>Orlando-Kissimmee-Sanford, FL MSA</td>\n",
       "      <td>2018-05-06</td>\n",
       "      <td>surf</td>\n",
       "      <td>2222-11-11</td>\n",
       "      <td>11</td>\n",
       "      <td>45</td>\n",
       "      <td>288.560</td>\n",
       "    </tr>\n",
       "    <tr>\n",
       "      <th>2257</th>\n",
       "      <td>1499</td>\n",
       "      <td>Shena</td>\n",
       "      <td>Dickson</td>\n",
       "      <td>37</td>\n",
       "      <td>Orlando-Kissimmee-Sanford, FL MSA</td>\n",
       "      <td>2018-05-06</td>\n",
       "      <td>surf</td>\n",
       "      <td>2222-11-11</td>\n",
       "      <td>12</td>\n",
       "      <td>65</td>\n",
       "      <td>468.100</td>\n",
       "    </tr>\n",
       "  </tbody>\n",
       "</table>\n",
       "<p>2258 rows × 11 columns</p>\n",
       "</div>"
      ],
      "text/plain": [
       "      user_id first_name   last_name  age  \\\n",
       "0        1000   Anamaria       Bauer   45   \n",
       "1        1001     Mickey   Wilkerson   28   \n",
       "2        1001     Mickey   Wilkerson   28   \n",
       "3        1001     Mickey   Wilkerson   28   \n",
       "4        1001     Mickey   Wilkerson   28   \n",
       "...       ...        ...         ...  ...   \n",
       "2253     1498       Scot  Williamson   51   \n",
       "2254     1499      Shena     Dickson   37   \n",
       "2255     1499      Shena     Dickson   37   \n",
       "2256     1499      Shena     Dickson   37   \n",
       "2257     1499      Shena     Dickson   37   \n",
       "\n",
       "                                           city   reg_date      plan  \\\n",
       "0         Atlanta-Sandy Springs-Roswell, GA MSA 2018-12-24  ultimate   \n",
       "1               Seattle-Tacoma-Bellevue, WA MSA 2018-08-13      surf   \n",
       "2               Seattle-Tacoma-Bellevue, WA MSA 2018-08-13      surf   \n",
       "3               Seattle-Tacoma-Bellevue, WA MSA 2018-08-13      surf   \n",
       "4               Seattle-Tacoma-Bellevue, WA MSA 2018-08-13      surf   \n",
       "...                                         ...        ...       ...   \n",
       "2253  New York-Newark-Jersey City, NY-NJ-PA MSA 2018-02-04      surf   \n",
       "2254          Orlando-Kissimmee-Sanford, FL MSA 2018-05-06      surf   \n",
       "2255          Orlando-Kissimmee-Sanford, FL MSA 2018-05-06      surf   \n",
       "2256          Orlando-Kissimmee-Sanford, FL MSA 2018-05-06      surf   \n",
       "2257          Orlando-Kissimmee-Sanford, FL MSA 2018-05-06      surf   \n",
       "\n",
       "     churn_date  month  count     sum  \n",
       "0    2222-11-11     12     16 116.830  \n",
       "1    2222-11-11      8     27 171.140  \n",
       "2    2222-11-11      9     49 297.690  \n",
       "3    2222-11-11     10     65 374.110  \n",
       "4    2222-11-11     11     64 404.590  \n",
       "...         ...    ...    ...     ...  \n",
       "2253 2222-11-11     12     39 324.770  \n",
       "2254 2222-11-11      9     41 330.370  \n",
       "2255 2222-11-11     10     53 363.280  \n",
       "2256 2222-11-11     11     45 288.560  \n",
       "2257 2222-11-11     12     65 468.100  \n",
       "\n",
       "[2258 rows x 11 columns]"
      ]
     },
     "execution_count": 38,
     "metadata": {},
     "output_type": "execute_result"
    }
   ],
   "source": [
    "# merge call data table to megaline_user_data\n",
    "megaline_user_data = megaline_user_data.merge(call_table, on = 'user_id')\n",
    "megaline_user_data"
   ]
  },
  {
   "cell_type": "code",
   "execution_count": 39,
   "metadata": {},
   "outputs": [
    {
     "data": {
      "text/plain": [
       "481"
      ]
     },
     "execution_count": 39,
     "metadata": {},
     "output_type": "execute_result"
    }
   ],
   "source": [
    "# chedcking number of unique users after merge\n",
    "megaline_user_data['user_id'].nunique()"
   ]
  },
  {
   "cell_type": "code",
   "execution_count": 40,
   "metadata": {},
   "outputs": [
    {
     "data": {
      "text/html": [
       "<div>\n",
       "<style scoped>\n",
       "    .dataframe tbody tr th:only-of-type {\n",
       "        vertical-align: middle;\n",
       "    }\n",
       "\n",
       "    .dataframe tbody tr th {\n",
       "        vertical-align: top;\n",
       "    }\n",
       "\n",
       "    .dataframe thead th {\n",
       "        text-align: right;\n",
       "    }\n",
       "</style>\n",
       "<table border=\"1\" class=\"dataframe\">\n",
       "  <thead>\n",
       "    <tr style=\"text-align: right;\">\n",
       "      <th></th>\n",
       "      <th>user_id</th>\n",
       "      <th>first_name</th>\n",
       "      <th>last_name</th>\n",
       "      <th>age</th>\n",
       "      <th>city</th>\n",
       "      <th>reg_date</th>\n",
       "      <th>plan</th>\n",
       "      <th>churn_date</th>\n",
       "      <th>month</th>\n",
       "      <th>count</th>\n",
       "      <th>sum</th>\n",
       "      <th>id</th>\n",
       "    </tr>\n",
       "  </thead>\n",
       "  <tbody>\n",
       "    <tr>\n",
       "      <th>0</th>\n",
       "      <td>1000</td>\n",
       "      <td>Anamaria</td>\n",
       "      <td>Bauer</td>\n",
       "      <td>45</td>\n",
       "      <td>Atlanta-Sandy Springs-Roswell, GA MSA</td>\n",
       "      <td>2018-12-24</td>\n",
       "      <td>ultimate</td>\n",
       "      <td>2222-11-11</td>\n",
       "      <td>12</td>\n",
       "      <td>16</td>\n",
       "      <td>116.830</td>\n",
       "      <td>11.000</td>\n",
       "    </tr>\n",
       "    <tr>\n",
       "      <th>1</th>\n",
       "      <td>1001</td>\n",
       "      <td>Mickey</td>\n",
       "      <td>Wilkerson</td>\n",
       "      <td>28</td>\n",
       "      <td>Seattle-Tacoma-Bellevue, WA MSA</td>\n",
       "      <td>2018-08-13</td>\n",
       "      <td>surf</td>\n",
       "      <td>2222-11-11</td>\n",
       "      <td>8</td>\n",
       "      <td>27</td>\n",
       "      <td>171.140</td>\n",
       "      <td>30.000</td>\n",
       "    </tr>\n",
       "    <tr>\n",
       "      <th>2</th>\n",
       "      <td>1001</td>\n",
       "      <td>Mickey</td>\n",
       "      <td>Wilkerson</td>\n",
       "      <td>28</td>\n",
       "      <td>Seattle-Tacoma-Bellevue, WA MSA</td>\n",
       "      <td>2018-08-13</td>\n",
       "      <td>surf</td>\n",
       "      <td>2222-11-11</td>\n",
       "      <td>9</td>\n",
       "      <td>49</td>\n",
       "      <td>297.690</td>\n",
       "      <td>44.000</td>\n",
       "    </tr>\n",
       "    <tr>\n",
       "      <th>3</th>\n",
       "      <td>1001</td>\n",
       "      <td>Mickey</td>\n",
       "      <td>Wilkerson</td>\n",
       "      <td>28</td>\n",
       "      <td>Seattle-Tacoma-Bellevue, WA MSA</td>\n",
       "      <td>2018-08-13</td>\n",
       "      <td>surf</td>\n",
       "      <td>2222-11-11</td>\n",
       "      <td>10</td>\n",
       "      <td>65</td>\n",
       "      <td>374.110</td>\n",
       "      <td>53.000</td>\n",
       "    </tr>\n",
       "    <tr>\n",
       "      <th>4</th>\n",
       "      <td>1001</td>\n",
       "      <td>Mickey</td>\n",
       "      <td>Wilkerson</td>\n",
       "      <td>28</td>\n",
       "      <td>Seattle-Tacoma-Bellevue, WA MSA</td>\n",
       "      <td>2018-08-13</td>\n",
       "      <td>surf</td>\n",
       "      <td>2222-11-11</td>\n",
       "      <td>11</td>\n",
       "      <td>64</td>\n",
       "      <td>404.590</td>\n",
       "      <td>36.000</td>\n",
       "    </tr>\n",
       "    <tr>\n",
       "      <th>...</th>\n",
       "      <td>...</td>\n",
       "      <td>...</td>\n",
       "      <td>...</td>\n",
       "      <td>...</td>\n",
       "      <td>...</td>\n",
       "      <td>...</td>\n",
       "      <td>...</td>\n",
       "      <td>...</td>\n",
       "      <td>...</td>\n",
       "      <td>...</td>\n",
       "      <td>...</td>\n",
       "      <td>...</td>\n",
       "    </tr>\n",
       "    <tr>\n",
       "      <th>2253</th>\n",
       "      <td>1498</td>\n",
       "      <td>Scot</td>\n",
       "      <td>Williamson</td>\n",
       "      <td>51</td>\n",
       "      <td>New York-Newark-Jersey City, NY-NJ-PA MSA</td>\n",
       "      <td>2018-02-04</td>\n",
       "      <td>surf</td>\n",
       "      <td>2222-11-11</td>\n",
       "      <td>12</td>\n",
       "      <td>39</td>\n",
       "      <td>324.770</td>\n",
       "      <td>NaN</td>\n",
       "    </tr>\n",
       "    <tr>\n",
       "      <th>2254</th>\n",
       "      <td>1499</td>\n",
       "      <td>Shena</td>\n",
       "      <td>Dickson</td>\n",
       "      <td>37</td>\n",
       "      <td>Orlando-Kissimmee-Sanford, FL MSA</td>\n",
       "      <td>2018-05-06</td>\n",
       "      <td>surf</td>\n",
       "      <td>2222-11-11</td>\n",
       "      <td>9</td>\n",
       "      <td>41</td>\n",
       "      <td>330.370</td>\n",
       "      <td>NaN</td>\n",
       "    </tr>\n",
       "    <tr>\n",
       "      <th>2255</th>\n",
       "      <td>1499</td>\n",
       "      <td>Shena</td>\n",
       "      <td>Dickson</td>\n",
       "      <td>37</td>\n",
       "      <td>Orlando-Kissimmee-Sanford, FL MSA</td>\n",
       "      <td>2018-05-06</td>\n",
       "      <td>surf</td>\n",
       "      <td>2222-11-11</td>\n",
       "      <td>10</td>\n",
       "      <td>53</td>\n",
       "      <td>363.280</td>\n",
       "      <td>NaN</td>\n",
       "    </tr>\n",
       "    <tr>\n",
       "      <th>2256</th>\n",
       "      <td>1499</td>\n",
       "      <td>Shena</td>\n",
       "      <td>Dickson</td>\n",
       "      <td>37</td>\n",
       "      <td>Orlando-Kissimmee-Sanford, FL MSA</td>\n",
       "      <td>2018-05-06</td>\n",
       "      <td>surf</td>\n",
       "      <td>2222-11-11</td>\n",
       "      <td>11</td>\n",
       "      <td>45</td>\n",
       "      <td>288.560</td>\n",
       "      <td>NaN</td>\n",
       "    </tr>\n",
       "    <tr>\n",
       "      <th>2257</th>\n",
       "      <td>1499</td>\n",
       "      <td>Shena</td>\n",
       "      <td>Dickson</td>\n",
       "      <td>37</td>\n",
       "      <td>Orlando-Kissimmee-Sanford, FL MSA</td>\n",
       "      <td>2018-05-06</td>\n",
       "      <td>surf</td>\n",
       "      <td>2222-11-11</td>\n",
       "      <td>12</td>\n",
       "      <td>65</td>\n",
       "      <td>468.100</td>\n",
       "      <td>NaN</td>\n",
       "    </tr>\n",
       "  </tbody>\n",
       "</table>\n",
       "<p>2258 rows × 12 columns</p>\n",
       "</div>"
      ],
      "text/plain": [
       "      user_id first_name   last_name  age  \\\n",
       "0        1000   Anamaria       Bauer   45   \n",
       "1        1001     Mickey   Wilkerson   28   \n",
       "2        1001     Mickey   Wilkerson   28   \n",
       "3        1001     Mickey   Wilkerson   28   \n",
       "4        1001     Mickey   Wilkerson   28   \n",
       "...       ...        ...         ...  ...   \n",
       "2253     1498       Scot  Williamson   51   \n",
       "2254     1499      Shena     Dickson   37   \n",
       "2255     1499      Shena     Dickson   37   \n",
       "2256     1499      Shena     Dickson   37   \n",
       "2257     1499      Shena     Dickson   37   \n",
       "\n",
       "                                           city   reg_date      plan  \\\n",
       "0         Atlanta-Sandy Springs-Roswell, GA MSA 2018-12-24  ultimate   \n",
       "1               Seattle-Tacoma-Bellevue, WA MSA 2018-08-13      surf   \n",
       "2               Seattle-Tacoma-Bellevue, WA MSA 2018-08-13      surf   \n",
       "3               Seattle-Tacoma-Bellevue, WA MSA 2018-08-13      surf   \n",
       "4               Seattle-Tacoma-Bellevue, WA MSA 2018-08-13      surf   \n",
       "...                                         ...        ...       ...   \n",
       "2253  New York-Newark-Jersey City, NY-NJ-PA MSA 2018-02-04      surf   \n",
       "2254          Orlando-Kissimmee-Sanford, FL MSA 2018-05-06      surf   \n",
       "2255          Orlando-Kissimmee-Sanford, FL MSA 2018-05-06      surf   \n",
       "2256          Orlando-Kissimmee-Sanford, FL MSA 2018-05-06      surf   \n",
       "2257          Orlando-Kissimmee-Sanford, FL MSA 2018-05-06      surf   \n",
       "\n",
       "     churn_date  month  count     sum     id  \n",
       "0    2222-11-11     12     16 116.830 11.000  \n",
       "1    2222-11-11      8     27 171.140 30.000  \n",
       "2    2222-11-11      9     49 297.690 44.000  \n",
       "3    2222-11-11     10     65 374.110 53.000  \n",
       "4    2222-11-11     11     64 404.590 36.000  \n",
       "...         ...    ...    ...     ...    ...  \n",
       "2253 2222-11-11     12     39 324.770    NaN  \n",
       "2254 2222-11-11      9     41 330.370    NaN  \n",
       "2255 2222-11-11     10     53 363.280    NaN  \n",
       "2256 2222-11-11     11     45 288.560    NaN  \n",
       "2257 2222-11-11     12     65 468.100    NaN  \n",
       "\n",
       "[2258 rows x 12 columns]"
      ]
     },
     "execution_count": 40,
     "metadata": {},
     "output_type": "execute_result"
    }
   ],
   "source": [
    "# merge nessage data table to megaline_user_data\n",
    "megaline_user_data = megaline_user_data.merge(msg_table, on = ['user_id', 'month'], how = 'left')\n",
    "megaline_user_data"
   ]
  },
  {
   "cell_type": "code",
   "execution_count": 41,
   "metadata": {},
   "outputs": [
    {
     "data": {
      "text/plain": [
       "481"
      ]
     },
     "execution_count": 41,
     "metadata": {},
     "output_type": "execute_result"
    }
   ],
   "source": [
    "# checking number of unique users after merge\n",
    "megaline_user_data['user_id'].nunique()"
   ]
  },
  {
   "cell_type": "code",
   "execution_count": 42,
   "metadata": {},
   "outputs": [
    {
     "data": {
      "text/html": [
       "<div>\n",
       "<style scoped>\n",
       "    .dataframe tbody tr th:only-of-type {\n",
       "        vertical-align: middle;\n",
       "    }\n",
       "\n",
       "    .dataframe tbody tr th {\n",
       "        vertical-align: top;\n",
       "    }\n",
       "\n",
       "    .dataframe thead th {\n",
       "        text-align: right;\n",
       "    }\n",
       "</style>\n",
       "<table border=\"1\" class=\"dataframe\">\n",
       "  <thead>\n",
       "    <tr style=\"text-align: right;\">\n",
       "      <th></th>\n",
       "      <th>user_id</th>\n",
       "      <th>first_name</th>\n",
       "      <th>last_name</th>\n",
       "      <th>age</th>\n",
       "      <th>city</th>\n",
       "      <th>reg_date</th>\n",
       "      <th>plan</th>\n",
       "      <th>churn_date</th>\n",
       "      <th>month</th>\n",
       "      <th>count</th>\n",
       "      <th>sum</th>\n",
       "      <th>id</th>\n",
       "      <th>mb_used</th>\n",
       "    </tr>\n",
       "  </thead>\n",
       "  <tbody>\n",
       "    <tr>\n",
       "      <th>0</th>\n",
       "      <td>1000</td>\n",
       "      <td>Anamaria</td>\n",
       "      <td>Bauer</td>\n",
       "      <td>45</td>\n",
       "      <td>Atlanta-Sandy Springs-Roswell, GA MSA</td>\n",
       "      <td>2018-12-24</td>\n",
       "      <td>ultimate</td>\n",
       "      <td>2222-11-11</td>\n",
       "      <td>12</td>\n",
       "      <td>16</td>\n",
       "      <td>116.830</td>\n",
       "      <td>11.000</td>\n",
       "      <td>1901.470</td>\n",
       "    </tr>\n",
       "    <tr>\n",
       "      <th>1</th>\n",
       "      <td>1001</td>\n",
       "      <td>Mickey</td>\n",
       "      <td>Wilkerson</td>\n",
       "      <td>28</td>\n",
       "      <td>Seattle-Tacoma-Bellevue, WA MSA</td>\n",
       "      <td>2018-08-13</td>\n",
       "      <td>surf</td>\n",
       "      <td>2222-11-11</td>\n",
       "      <td>8</td>\n",
       "      <td>27</td>\n",
       "      <td>171.140</td>\n",
       "      <td>30.000</td>\n",
       "      <td>6919.150</td>\n",
       "    </tr>\n",
       "    <tr>\n",
       "      <th>2</th>\n",
       "      <td>1001</td>\n",
       "      <td>Mickey</td>\n",
       "      <td>Wilkerson</td>\n",
       "      <td>28</td>\n",
       "      <td>Seattle-Tacoma-Bellevue, WA MSA</td>\n",
       "      <td>2018-08-13</td>\n",
       "      <td>surf</td>\n",
       "      <td>2222-11-11</td>\n",
       "      <td>9</td>\n",
       "      <td>49</td>\n",
       "      <td>297.690</td>\n",
       "      <td>44.000</td>\n",
       "      <td>13314.820</td>\n",
       "    </tr>\n",
       "    <tr>\n",
       "      <th>3</th>\n",
       "      <td>1001</td>\n",
       "      <td>Mickey</td>\n",
       "      <td>Wilkerson</td>\n",
       "      <td>28</td>\n",
       "      <td>Seattle-Tacoma-Bellevue, WA MSA</td>\n",
       "      <td>2018-08-13</td>\n",
       "      <td>surf</td>\n",
       "      <td>2222-11-11</td>\n",
       "      <td>10</td>\n",
       "      <td>65</td>\n",
       "      <td>374.110</td>\n",
       "      <td>53.000</td>\n",
       "      <td>22330.490</td>\n",
       "    </tr>\n",
       "    <tr>\n",
       "      <th>4</th>\n",
       "      <td>1001</td>\n",
       "      <td>Mickey</td>\n",
       "      <td>Wilkerson</td>\n",
       "      <td>28</td>\n",
       "      <td>Seattle-Tacoma-Bellevue, WA MSA</td>\n",
       "      <td>2018-08-13</td>\n",
       "      <td>surf</td>\n",
       "      <td>2222-11-11</td>\n",
       "      <td>11</td>\n",
       "      <td>64</td>\n",
       "      <td>404.590</td>\n",
       "      <td>36.000</td>\n",
       "      <td>18504.300</td>\n",
       "    </tr>\n",
       "    <tr>\n",
       "      <th>...</th>\n",
       "      <td>...</td>\n",
       "      <td>...</td>\n",
       "      <td>...</td>\n",
       "      <td>...</td>\n",
       "      <td>...</td>\n",
       "      <td>...</td>\n",
       "      <td>...</td>\n",
       "      <td>...</td>\n",
       "      <td>...</td>\n",
       "      <td>...</td>\n",
       "      <td>...</td>\n",
       "      <td>...</td>\n",
       "      <td>...</td>\n",
       "    </tr>\n",
       "    <tr>\n",
       "      <th>2253</th>\n",
       "      <td>1498</td>\n",
       "      <td>Scot</td>\n",
       "      <td>Williamson</td>\n",
       "      <td>51</td>\n",
       "      <td>New York-Newark-Jersey City, NY-NJ-PA MSA</td>\n",
       "      <td>2018-02-04</td>\n",
       "      <td>surf</td>\n",
       "      <td>2222-11-11</td>\n",
       "      <td>12</td>\n",
       "      <td>39</td>\n",
       "      <td>324.770</td>\n",
       "      <td>NaN</td>\n",
       "      <td>23137.690</td>\n",
       "    </tr>\n",
       "    <tr>\n",
       "      <th>2254</th>\n",
       "      <td>1499</td>\n",
       "      <td>Shena</td>\n",
       "      <td>Dickson</td>\n",
       "      <td>37</td>\n",
       "      <td>Orlando-Kissimmee-Sanford, FL MSA</td>\n",
       "      <td>2018-05-06</td>\n",
       "      <td>surf</td>\n",
       "      <td>2222-11-11</td>\n",
       "      <td>9</td>\n",
       "      <td>41</td>\n",
       "      <td>330.370</td>\n",
       "      <td>NaN</td>\n",
       "      <td>12984.760</td>\n",
       "    </tr>\n",
       "    <tr>\n",
       "      <th>2255</th>\n",
       "      <td>1499</td>\n",
       "      <td>Shena</td>\n",
       "      <td>Dickson</td>\n",
       "      <td>37</td>\n",
       "      <td>Orlando-Kissimmee-Sanford, FL MSA</td>\n",
       "      <td>2018-05-06</td>\n",
       "      <td>surf</td>\n",
       "      <td>2222-11-11</td>\n",
       "      <td>10</td>\n",
       "      <td>53</td>\n",
       "      <td>363.280</td>\n",
       "      <td>NaN</td>\n",
       "      <td>19492.430</td>\n",
       "    </tr>\n",
       "    <tr>\n",
       "      <th>2256</th>\n",
       "      <td>1499</td>\n",
       "      <td>Shena</td>\n",
       "      <td>Dickson</td>\n",
       "      <td>37</td>\n",
       "      <td>Orlando-Kissimmee-Sanford, FL MSA</td>\n",
       "      <td>2018-05-06</td>\n",
       "      <td>surf</td>\n",
       "      <td>2222-11-11</td>\n",
       "      <td>11</td>\n",
       "      <td>45</td>\n",
       "      <td>288.560</td>\n",
       "      <td>NaN</td>\n",
       "      <td>16813.830</td>\n",
       "    </tr>\n",
       "    <tr>\n",
       "      <th>2257</th>\n",
       "      <td>1499</td>\n",
       "      <td>Shena</td>\n",
       "      <td>Dickson</td>\n",
       "      <td>37</td>\n",
       "      <td>Orlando-Kissimmee-Sanford, FL MSA</td>\n",
       "      <td>2018-05-06</td>\n",
       "      <td>surf</td>\n",
       "      <td>2222-11-11</td>\n",
       "      <td>12</td>\n",
       "      <td>65</td>\n",
       "      <td>468.100</td>\n",
       "      <td>NaN</td>\n",
       "      <td>22059.210</td>\n",
       "    </tr>\n",
       "  </tbody>\n",
       "</table>\n",
       "<p>2258 rows × 13 columns</p>\n",
       "</div>"
      ],
      "text/plain": [
       "      user_id first_name   last_name  age  \\\n",
       "0        1000   Anamaria       Bauer   45   \n",
       "1        1001     Mickey   Wilkerson   28   \n",
       "2        1001     Mickey   Wilkerson   28   \n",
       "3        1001     Mickey   Wilkerson   28   \n",
       "4        1001     Mickey   Wilkerson   28   \n",
       "...       ...        ...         ...  ...   \n",
       "2253     1498       Scot  Williamson   51   \n",
       "2254     1499      Shena     Dickson   37   \n",
       "2255     1499      Shena     Dickson   37   \n",
       "2256     1499      Shena     Dickson   37   \n",
       "2257     1499      Shena     Dickson   37   \n",
       "\n",
       "                                           city   reg_date      plan  \\\n",
       "0         Atlanta-Sandy Springs-Roswell, GA MSA 2018-12-24  ultimate   \n",
       "1               Seattle-Tacoma-Bellevue, WA MSA 2018-08-13      surf   \n",
       "2               Seattle-Tacoma-Bellevue, WA MSA 2018-08-13      surf   \n",
       "3               Seattle-Tacoma-Bellevue, WA MSA 2018-08-13      surf   \n",
       "4               Seattle-Tacoma-Bellevue, WA MSA 2018-08-13      surf   \n",
       "...                                         ...        ...       ...   \n",
       "2253  New York-Newark-Jersey City, NY-NJ-PA MSA 2018-02-04      surf   \n",
       "2254          Orlando-Kissimmee-Sanford, FL MSA 2018-05-06      surf   \n",
       "2255          Orlando-Kissimmee-Sanford, FL MSA 2018-05-06      surf   \n",
       "2256          Orlando-Kissimmee-Sanford, FL MSA 2018-05-06      surf   \n",
       "2257          Orlando-Kissimmee-Sanford, FL MSA 2018-05-06      surf   \n",
       "\n",
       "     churn_date  month  count     sum     id   mb_used  \n",
       "0    2222-11-11     12     16 116.830 11.000  1901.470  \n",
       "1    2222-11-11      8     27 171.140 30.000  6919.150  \n",
       "2    2222-11-11      9     49 297.690 44.000 13314.820  \n",
       "3    2222-11-11     10     65 374.110 53.000 22330.490  \n",
       "4    2222-11-11     11     64 404.590 36.000 18504.300  \n",
       "...         ...    ...    ...     ...    ...       ...  \n",
       "2253 2222-11-11     12     39 324.770    NaN 23137.690  \n",
       "2254 2222-11-11      9     41 330.370    NaN 12984.760  \n",
       "2255 2222-11-11     10     53 363.280    NaN 19492.430  \n",
       "2256 2222-11-11     11     45 288.560    NaN 16813.830  \n",
       "2257 2222-11-11     12     65 468.100    NaN 22059.210  \n",
       "\n",
       "[2258 rows x 13 columns]"
      ]
     },
     "execution_count": 42,
     "metadata": {},
     "output_type": "execute_result"
    }
   ],
   "source": [
    "# merge internet usage table to megaline_user_data\n",
    "megaline_user_data = megaline_user_data.merge(internet_table, on = ['user_id','month'], how = 'left')\n",
    "megaline_user_data"
   ]
  },
  {
   "cell_type": "code",
   "execution_count": 43,
   "metadata": {},
   "outputs": [
    {
     "data": {
      "text/plain": [
       "481"
      ]
     },
     "execution_count": 43,
     "metadata": {},
     "output_type": "execute_result"
    }
   ],
   "source": [
    "# checking number of unique users after merge\n",
    "megaline_user_data['user_id'].nunique()"
   ]
  },
  {
   "cell_type": "code",
   "execution_count": 44,
   "metadata": {},
   "outputs": [
    {
     "name": "stdout",
     "output_type": "stream",
     "text": [
      "<class 'pandas.core.frame.DataFrame'>\n",
      "Int64Index: 2258 entries, 0 to 2257\n",
      "Data columns (total 13 columns):\n",
      " #   Column      Non-Null Count  Dtype         \n",
      "---  ------      --------------  -----         \n",
      " 0   user_id     2258 non-null   int64         \n",
      " 1   first_name  2258 non-null   object        \n",
      " 2   last_name   2258 non-null   object        \n",
      " 3   age         2258 non-null   int64         \n",
      " 4   city        2258 non-null   object        \n",
      " 5   reg_date    2258 non-null   datetime64[ns]\n",
      " 6   plan        2258 non-null   object        \n",
      " 7   churn_date  2258 non-null   datetime64[ns]\n",
      " 8   month       2258 non-null   int64         \n",
      " 9   count       2258 non-null   int64         \n",
      " 10  sum         2258 non-null   float64       \n",
      " 11  id          1773 non-null   float64       \n",
      " 12  mb_used     2243 non-null   float64       \n",
      "dtypes: datetime64[ns](2), float64(3), int64(4), object(4)\n",
      "memory usage: 247.0+ KB\n"
     ]
    }
   ],
   "source": [
    "# result of merge\n",
    "megaline_user_data.info()"
   ]
  },
  {
   "cell_type": "markdown",
   "metadata": {},
   "source": [
    "As shown above, there are missing values in both the `'id'` and `'mb_used'` columns. Three column names are also unclear so we need to rename therm for clarity."
   ]
  },
  {
   "cell_type": "code",
   "execution_count": 45,
   "metadata": {},
   "outputs": [],
   "source": [
    "# renaming columns\n",
    "megaline_user_data = megaline_user_data.rename(columns = {'count':'call_count','sum':'call_time','id': 'msg_count',})"
   ]
  },
  {
   "cell_type": "code",
   "execution_count": 46,
   "metadata": {},
   "outputs": [
    {
     "data": {
      "text/plain": [
       "user_id         0\n",
       "first_name      0\n",
       "last_name       0\n",
       "age             0\n",
       "city            0\n",
       "reg_date        0\n",
       "plan            0\n",
       "churn_date      0\n",
       "month           0\n",
       "call_count      0\n",
       "call_time       0\n",
       "msg_count     485\n",
       "mb_used        15\n",
       "dtype: int64"
      ]
     },
     "execution_count": 46,
     "metadata": {},
     "output_type": "execute_result"
    }
   ],
   "source": [
    "# checking for missing values\n",
    "megaline_user_data.isna().sum()"
   ]
  },
  {
   "cell_type": "markdown",
   "metadata": {},
   "source": [
    "For the missing values, we can replace the values with 0 as it is possible no messages were sent or internet used by the represented users during the months recorded."
   ]
  },
  {
   "cell_type": "code",
   "execution_count": 47,
   "metadata": {},
   "outputs": [],
   "source": [
    "# fill missing values\n",
    "megaline_user_data.fillna(0, inplace = True)"
   ]
  },
  {
   "cell_type": "code",
   "execution_count": 48,
   "metadata": {},
   "outputs": [
    {
     "data": {
      "text/plain": [
       "user_id       0\n",
       "first_name    0\n",
       "last_name     0\n",
       "age           0\n",
       "city          0\n",
       "reg_date      0\n",
       "plan          0\n",
       "churn_date    0\n",
       "month         0\n",
       "call_count    0\n",
       "call_time     0\n",
       "msg_count     0\n",
       "mb_used       0\n",
       "dtype: int64"
      ]
     },
     "execution_count": 48,
     "metadata": {},
     "output_type": "execute_result"
    }
   ],
   "source": [
    "# check to see if filled\n",
    "megaline_user_data.isna().sum()"
   ]
  },
  {
   "cell_type": "code",
   "execution_count": 49,
   "metadata": {},
   "outputs": [
    {
     "data": {
      "text/html": [
       "<div>\n",
       "<style scoped>\n",
       "    .dataframe tbody tr th:only-of-type {\n",
       "        vertical-align: middle;\n",
       "    }\n",
       "\n",
       "    .dataframe tbody tr th {\n",
       "        vertical-align: top;\n",
       "    }\n",
       "\n",
       "    .dataframe thead th {\n",
       "        text-align: right;\n",
       "    }\n",
       "</style>\n",
       "<table border=\"1\" class=\"dataframe\">\n",
       "  <thead>\n",
       "    <tr style=\"text-align: right;\">\n",
       "      <th></th>\n",
       "      <th>messages_included</th>\n",
       "      <th>mb_per_month_included</th>\n",
       "      <th>minutes_included</th>\n",
       "      <th>usd_monthly_pay</th>\n",
       "      <th>usd_per_gb</th>\n",
       "      <th>usd_per_message</th>\n",
       "      <th>usd_per_minute</th>\n",
       "      <th>plan_name</th>\n",
       "    </tr>\n",
       "  </thead>\n",
       "  <tbody>\n",
       "    <tr>\n",
       "      <th>0</th>\n",
       "      <td>50</td>\n",
       "      <td>15360</td>\n",
       "      <td>500</td>\n",
       "      <td>20</td>\n",
       "      <td>10</td>\n",
       "      <td>0.030</td>\n",
       "      <td>0.030</td>\n",
       "      <td>surf</td>\n",
       "    </tr>\n",
       "    <tr>\n",
       "      <th>1</th>\n",
       "      <td>1000</td>\n",
       "      <td>30720</td>\n",
       "      <td>3000</td>\n",
       "      <td>70</td>\n",
       "      <td>7</td>\n",
       "      <td>0.010</td>\n",
       "      <td>0.010</td>\n",
       "      <td>ultimate</td>\n",
       "    </tr>\n",
       "  </tbody>\n",
       "</table>\n",
       "</div>"
      ],
      "text/plain": [
       "   messages_included  mb_per_month_included  minutes_included  \\\n",
       "0                 50                  15360               500   \n",
       "1               1000                  30720              3000   \n",
       "\n",
       "   usd_monthly_pay  usd_per_gb  usd_per_message  usd_per_minute plan_name  \n",
       "0               20          10            0.030           0.030      surf  \n",
       "1               70           7            0.010           0.010  ultimate  "
      ]
     },
     "execution_count": 49,
     "metadata": {},
     "output_type": "execute_result"
    }
   ],
   "source": [
    "# view plan dataframe\n",
    "megaline_plan_data"
   ]
  },
  {
   "cell_type": "markdown",
   "metadata": {},
   "source": [
    "In order to calculate revenue based on call time, message count and internet usage monthly for each user per plan, we would merge both dataframes together"
   ]
  },
  {
   "cell_type": "code",
   "execution_count": 50,
   "metadata": {},
   "outputs": [],
   "source": [
    "# merge plan datafram for revenue calculation\n",
    "megaline_user_data = megaline_user_data.merge(megaline_plan_data, left_on = 'plan', right_on = 'plan_name', how = 'left')"
   ]
  },
  {
   "cell_type": "code",
   "execution_count": 51,
   "metadata": {},
   "outputs": [
    {
     "data": {
      "text/plain": [
       "481"
      ]
     },
     "execution_count": 51,
     "metadata": {},
     "output_type": "execute_result"
    }
   ],
   "source": [
    "megaline_user_data.user_id.nunique()"
   ]
  },
  {
   "cell_type": "code",
   "execution_count": 52,
   "metadata": {},
   "outputs": [],
   "source": [
    "# function to calculate revenue\n",
    "def fill_rev(row):\n",
    "    calld = 0\n",
    "    msgd = 0\n",
    "    mbd = 0\n",
    "    msgd = row['msg_count'] - row['messages_included']\n",
    "    mbd = math.ceil((row['mb_used'] - row['mb_per_month_included']) / 1024) # round up mb used\n",
    "    calld = math.ceil(row['call_time'] - row['minutes_included']) # round up call time\n",
    "    if msgd <= 0:\n",
    "        msgd = 0\n",
    "    if mbd <= 0:\n",
    "        mbd = 0\n",
    "    if calld <= 0:\n",
    "        calld = 0\n",
    "    return (row['usd_per_message'] * msgd) + (row['usd_per_gb'] * mbd) + (row['usd_per_minute'] * calld) + row['usd_monthly_pay']"
   ]
  },
  {
   "cell_type": "code",
   "execution_count": 53,
   "metadata": {},
   "outputs": [
    {
     "data": {
      "text/plain": [
       "70.0"
      ]
     },
     "execution_count": 53,
     "metadata": {},
     "output_type": "execute_result"
    }
   ],
   "source": [
    "# test function\n",
    "rowa = megaline_user_data.loc[0]\n",
    "fill_rev(rowa)"
   ]
  },
  {
   "cell_type": "code",
   "execution_count": 54,
   "metadata": {},
   "outputs": [],
   "source": [
    "# apply function to dataframe\n",
    "megaline_user_data['revenue'] = megaline_user_data.apply(fill_rev, axis = 1)"
   ]
  },
  {
   "cell_type": "code",
   "execution_count": 55,
   "metadata": {},
   "outputs": [
    {
     "data": {
      "text/html": [
       "<div>\n",
       "<style scoped>\n",
       "    .dataframe tbody tr th:only-of-type {\n",
       "        vertical-align: middle;\n",
       "    }\n",
       "\n",
       "    .dataframe tbody tr th {\n",
       "        vertical-align: top;\n",
       "    }\n",
       "\n",
       "    .dataframe thead th {\n",
       "        text-align: right;\n",
       "    }\n",
       "</style>\n",
       "<table border=\"1\" class=\"dataframe\">\n",
       "  <thead>\n",
       "    <tr style=\"text-align: right;\">\n",
       "      <th></th>\n",
       "      <th>user_id</th>\n",
       "      <th>first_name</th>\n",
       "      <th>last_name</th>\n",
       "      <th>age</th>\n",
       "      <th>city</th>\n",
       "      <th>reg_date</th>\n",
       "      <th>plan</th>\n",
       "      <th>churn_date</th>\n",
       "      <th>month</th>\n",
       "      <th>call_count</th>\n",
       "      <th>...</th>\n",
       "      <th>mb_used</th>\n",
       "      <th>messages_included</th>\n",
       "      <th>mb_per_month_included</th>\n",
       "      <th>minutes_included</th>\n",
       "      <th>usd_monthly_pay</th>\n",
       "      <th>usd_per_gb</th>\n",
       "      <th>usd_per_message</th>\n",
       "      <th>usd_per_minute</th>\n",
       "      <th>plan_name</th>\n",
       "      <th>revenue</th>\n",
       "    </tr>\n",
       "  </thead>\n",
       "  <tbody>\n",
       "    <tr>\n",
       "      <th>0</th>\n",
       "      <td>1000</td>\n",
       "      <td>Anamaria</td>\n",
       "      <td>Bauer</td>\n",
       "      <td>45</td>\n",
       "      <td>Atlanta-Sandy Springs-Roswell, GA MSA</td>\n",
       "      <td>2018-12-24</td>\n",
       "      <td>ultimate</td>\n",
       "      <td>2222-11-11</td>\n",
       "      <td>12</td>\n",
       "      <td>16</td>\n",
       "      <td>...</td>\n",
       "      <td>1901.470</td>\n",
       "      <td>1000</td>\n",
       "      <td>30720</td>\n",
       "      <td>3000</td>\n",
       "      <td>70</td>\n",
       "      <td>7</td>\n",
       "      <td>0.010</td>\n",
       "      <td>0.010</td>\n",
       "      <td>ultimate</td>\n",
       "      <td>70.000</td>\n",
       "    </tr>\n",
       "    <tr>\n",
       "      <th>1</th>\n",
       "      <td>1001</td>\n",
       "      <td>Mickey</td>\n",
       "      <td>Wilkerson</td>\n",
       "      <td>28</td>\n",
       "      <td>Seattle-Tacoma-Bellevue, WA MSA</td>\n",
       "      <td>2018-08-13</td>\n",
       "      <td>surf</td>\n",
       "      <td>2222-11-11</td>\n",
       "      <td>8</td>\n",
       "      <td>27</td>\n",
       "      <td>...</td>\n",
       "      <td>6919.150</td>\n",
       "      <td>50</td>\n",
       "      <td>15360</td>\n",
       "      <td>500</td>\n",
       "      <td>20</td>\n",
       "      <td>10</td>\n",
       "      <td>0.030</td>\n",
       "      <td>0.030</td>\n",
       "      <td>surf</td>\n",
       "      <td>20.000</td>\n",
       "    </tr>\n",
       "    <tr>\n",
       "      <th>2</th>\n",
       "      <td>1001</td>\n",
       "      <td>Mickey</td>\n",
       "      <td>Wilkerson</td>\n",
       "      <td>28</td>\n",
       "      <td>Seattle-Tacoma-Bellevue, WA MSA</td>\n",
       "      <td>2018-08-13</td>\n",
       "      <td>surf</td>\n",
       "      <td>2222-11-11</td>\n",
       "      <td>9</td>\n",
       "      <td>49</td>\n",
       "      <td>...</td>\n",
       "      <td>13314.820</td>\n",
       "      <td>50</td>\n",
       "      <td>15360</td>\n",
       "      <td>500</td>\n",
       "      <td>20</td>\n",
       "      <td>10</td>\n",
       "      <td>0.030</td>\n",
       "      <td>0.030</td>\n",
       "      <td>surf</td>\n",
       "      <td>20.000</td>\n",
       "    </tr>\n",
       "    <tr>\n",
       "      <th>3</th>\n",
       "      <td>1001</td>\n",
       "      <td>Mickey</td>\n",
       "      <td>Wilkerson</td>\n",
       "      <td>28</td>\n",
       "      <td>Seattle-Tacoma-Bellevue, WA MSA</td>\n",
       "      <td>2018-08-13</td>\n",
       "      <td>surf</td>\n",
       "      <td>2222-11-11</td>\n",
       "      <td>10</td>\n",
       "      <td>65</td>\n",
       "      <td>...</td>\n",
       "      <td>22330.490</td>\n",
       "      <td>50</td>\n",
       "      <td>15360</td>\n",
       "      <td>500</td>\n",
       "      <td>20</td>\n",
       "      <td>10</td>\n",
       "      <td>0.030</td>\n",
       "      <td>0.030</td>\n",
       "      <td>surf</td>\n",
       "      <td>90.090</td>\n",
       "    </tr>\n",
       "    <tr>\n",
       "      <th>4</th>\n",
       "      <td>1001</td>\n",
       "      <td>Mickey</td>\n",
       "      <td>Wilkerson</td>\n",
       "      <td>28</td>\n",
       "      <td>Seattle-Tacoma-Bellevue, WA MSA</td>\n",
       "      <td>2018-08-13</td>\n",
       "      <td>surf</td>\n",
       "      <td>2222-11-11</td>\n",
       "      <td>11</td>\n",
       "      <td>64</td>\n",
       "      <td>...</td>\n",
       "      <td>18504.300</td>\n",
       "      <td>50</td>\n",
       "      <td>15360</td>\n",
       "      <td>500</td>\n",
       "      <td>20</td>\n",
       "      <td>10</td>\n",
       "      <td>0.030</td>\n",
       "      <td>0.030</td>\n",
       "      <td>surf</td>\n",
       "      <td>60.000</td>\n",
       "    </tr>\n",
       "    <tr>\n",
       "      <th>...</th>\n",
       "      <td>...</td>\n",
       "      <td>...</td>\n",
       "      <td>...</td>\n",
       "      <td>...</td>\n",
       "      <td>...</td>\n",
       "      <td>...</td>\n",
       "      <td>...</td>\n",
       "      <td>...</td>\n",
       "      <td>...</td>\n",
       "      <td>...</td>\n",
       "      <td>...</td>\n",
       "      <td>...</td>\n",
       "      <td>...</td>\n",
       "      <td>...</td>\n",
       "      <td>...</td>\n",
       "      <td>...</td>\n",
       "      <td>...</td>\n",
       "      <td>...</td>\n",
       "      <td>...</td>\n",
       "      <td>...</td>\n",
       "      <td>...</td>\n",
       "    </tr>\n",
       "    <tr>\n",
       "      <th>2253</th>\n",
       "      <td>1498</td>\n",
       "      <td>Scot</td>\n",
       "      <td>Williamson</td>\n",
       "      <td>51</td>\n",
       "      <td>New York-Newark-Jersey City, NY-NJ-PA MSA</td>\n",
       "      <td>2018-02-04</td>\n",
       "      <td>surf</td>\n",
       "      <td>2222-11-11</td>\n",
       "      <td>12</td>\n",
       "      <td>39</td>\n",
       "      <td>...</td>\n",
       "      <td>23137.690</td>\n",
       "      <td>50</td>\n",
       "      <td>15360</td>\n",
       "      <td>500</td>\n",
       "      <td>20</td>\n",
       "      <td>10</td>\n",
       "      <td>0.030</td>\n",
       "      <td>0.030</td>\n",
       "      <td>surf</td>\n",
       "      <td>100.000</td>\n",
       "    </tr>\n",
       "    <tr>\n",
       "      <th>2254</th>\n",
       "      <td>1499</td>\n",
       "      <td>Shena</td>\n",
       "      <td>Dickson</td>\n",
       "      <td>37</td>\n",
       "      <td>Orlando-Kissimmee-Sanford, FL MSA</td>\n",
       "      <td>2018-05-06</td>\n",
       "      <td>surf</td>\n",
       "      <td>2222-11-11</td>\n",
       "      <td>9</td>\n",
       "      <td>41</td>\n",
       "      <td>...</td>\n",
       "      <td>12984.760</td>\n",
       "      <td>50</td>\n",
       "      <td>15360</td>\n",
       "      <td>500</td>\n",
       "      <td>20</td>\n",
       "      <td>10</td>\n",
       "      <td>0.030</td>\n",
       "      <td>0.030</td>\n",
       "      <td>surf</td>\n",
       "      <td>20.000</td>\n",
       "    </tr>\n",
       "    <tr>\n",
       "      <th>2255</th>\n",
       "      <td>1499</td>\n",
       "      <td>Shena</td>\n",
       "      <td>Dickson</td>\n",
       "      <td>37</td>\n",
       "      <td>Orlando-Kissimmee-Sanford, FL MSA</td>\n",
       "      <td>2018-05-06</td>\n",
       "      <td>surf</td>\n",
       "      <td>2222-11-11</td>\n",
       "      <td>10</td>\n",
       "      <td>53</td>\n",
       "      <td>...</td>\n",
       "      <td>19492.430</td>\n",
       "      <td>50</td>\n",
       "      <td>15360</td>\n",
       "      <td>500</td>\n",
       "      <td>20</td>\n",
       "      <td>10</td>\n",
       "      <td>0.030</td>\n",
       "      <td>0.030</td>\n",
       "      <td>surf</td>\n",
       "      <td>70.000</td>\n",
       "    </tr>\n",
       "    <tr>\n",
       "      <th>2256</th>\n",
       "      <td>1499</td>\n",
       "      <td>Shena</td>\n",
       "      <td>Dickson</td>\n",
       "      <td>37</td>\n",
       "      <td>Orlando-Kissimmee-Sanford, FL MSA</td>\n",
       "      <td>2018-05-06</td>\n",
       "      <td>surf</td>\n",
       "      <td>2222-11-11</td>\n",
       "      <td>11</td>\n",
       "      <td>45</td>\n",
       "      <td>...</td>\n",
       "      <td>16813.830</td>\n",
       "      <td>50</td>\n",
       "      <td>15360</td>\n",
       "      <td>500</td>\n",
       "      <td>20</td>\n",
       "      <td>10</td>\n",
       "      <td>0.030</td>\n",
       "      <td>0.030</td>\n",
       "      <td>surf</td>\n",
       "      <td>40.000</td>\n",
       "    </tr>\n",
       "    <tr>\n",
       "      <th>2257</th>\n",
       "      <td>1499</td>\n",
       "      <td>Shena</td>\n",
       "      <td>Dickson</td>\n",
       "      <td>37</td>\n",
       "      <td>Orlando-Kissimmee-Sanford, FL MSA</td>\n",
       "      <td>2018-05-06</td>\n",
       "      <td>surf</td>\n",
       "      <td>2222-11-11</td>\n",
       "      <td>12</td>\n",
       "      <td>65</td>\n",
       "      <td>...</td>\n",
       "      <td>22059.210</td>\n",
       "      <td>50</td>\n",
       "      <td>15360</td>\n",
       "      <td>500</td>\n",
       "      <td>20</td>\n",
       "      <td>10</td>\n",
       "      <td>0.030</td>\n",
       "      <td>0.030</td>\n",
       "      <td>surf</td>\n",
       "      <td>90.000</td>\n",
       "    </tr>\n",
       "  </tbody>\n",
       "</table>\n",
       "<p>2258 rows × 22 columns</p>\n",
       "</div>"
      ],
      "text/plain": [
       "      user_id first_name   last_name  age  \\\n",
       "0        1000   Anamaria       Bauer   45   \n",
       "1        1001     Mickey   Wilkerson   28   \n",
       "2        1001     Mickey   Wilkerson   28   \n",
       "3        1001     Mickey   Wilkerson   28   \n",
       "4        1001     Mickey   Wilkerson   28   \n",
       "...       ...        ...         ...  ...   \n",
       "2253     1498       Scot  Williamson   51   \n",
       "2254     1499      Shena     Dickson   37   \n",
       "2255     1499      Shena     Dickson   37   \n",
       "2256     1499      Shena     Dickson   37   \n",
       "2257     1499      Shena     Dickson   37   \n",
       "\n",
       "                                           city   reg_date      plan  \\\n",
       "0         Atlanta-Sandy Springs-Roswell, GA MSA 2018-12-24  ultimate   \n",
       "1               Seattle-Tacoma-Bellevue, WA MSA 2018-08-13      surf   \n",
       "2               Seattle-Tacoma-Bellevue, WA MSA 2018-08-13      surf   \n",
       "3               Seattle-Tacoma-Bellevue, WA MSA 2018-08-13      surf   \n",
       "4               Seattle-Tacoma-Bellevue, WA MSA 2018-08-13      surf   \n",
       "...                                         ...        ...       ...   \n",
       "2253  New York-Newark-Jersey City, NY-NJ-PA MSA 2018-02-04      surf   \n",
       "2254          Orlando-Kissimmee-Sanford, FL MSA 2018-05-06      surf   \n",
       "2255          Orlando-Kissimmee-Sanford, FL MSA 2018-05-06      surf   \n",
       "2256          Orlando-Kissimmee-Sanford, FL MSA 2018-05-06      surf   \n",
       "2257          Orlando-Kissimmee-Sanford, FL MSA 2018-05-06      surf   \n",
       "\n",
       "     churn_date  month  call_count  ...   mb_used  messages_included  \\\n",
       "0    2222-11-11     12          16  ...  1901.470               1000   \n",
       "1    2222-11-11      8          27  ...  6919.150                 50   \n",
       "2    2222-11-11      9          49  ... 13314.820                 50   \n",
       "3    2222-11-11     10          65  ... 22330.490                 50   \n",
       "4    2222-11-11     11          64  ... 18504.300                 50   \n",
       "...         ...    ...         ...  ...       ...                ...   \n",
       "2253 2222-11-11     12          39  ... 23137.690                 50   \n",
       "2254 2222-11-11      9          41  ... 12984.760                 50   \n",
       "2255 2222-11-11     10          53  ... 19492.430                 50   \n",
       "2256 2222-11-11     11          45  ... 16813.830                 50   \n",
       "2257 2222-11-11     12          65  ... 22059.210                 50   \n",
       "\n",
       "      mb_per_month_included  minutes_included  usd_monthly_pay  usd_per_gb  \\\n",
       "0                     30720              3000               70           7   \n",
       "1                     15360               500               20          10   \n",
       "2                     15360               500               20          10   \n",
       "3                     15360               500               20          10   \n",
       "4                     15360               500               20          10   \n",
       "...                     ...               ...              ...         ...   \n",
       "2253                  15360               500               20          10   \n",
       "2254                  15360               500               20          10   \n",
       "2255                  15360               500               20          10   \n",
       "2256                  15360               500               20          10   \n",
       "2257                  15360               500               20          10   \n",
       "\n",
       "      usd_per_message  usd_per_minute  plan_name  revenue  \n",
       "0               0.010           0.010   ultimate   70.000  \n",
       "1               0.030           0.030       surf   20.000  \n",
       "2               0.030           0.030       surf   20.000  \n",
       "3               0.030           0.030       surf   90.090  \n",
       "4               0.030           0.030       surf   60.000  \n",
       "...               ...             ...        ...      ...  \n",
       "2253            0.030           0.030       surf  100.000  \n",
       "2254            0.030           0.030       surf   20.000  \n",
       "2255            0.030           0.030       surf   70.000  \n",
       "2256            0.030           0.030       surf   40.000  \n",
       "2257            0.030           0.030       surf   90.000  \n",
       "\n",
       "[2258 rows x 22 columns]"
      ]
     },
     "execution_count": 55,
     "metadata": {},
     "output_type": "execute_result"
    }
   ],
   "source": [
    "# view resultant dataframe\n",
    "megaline_user_data"
   ]
  },
  {
   "cell_type": "code",
   "execution_count": 56,
   "metadata": {},
   "outputs": [
    {
     "data": {
      "text/plain": [
       "count   2258.000\n",
       "mean      63.702\n",
       "std       45.002\n",
       "min       20.000\n",
       "25%       22.663\n",
       "50%       70.000\n",
       "75%       70.000\n",
       "max      588.660\n",
       "Name: revenue, dtype: float64"
      ]
     },
     "execution_count": 56,
     "metadata": {},
     "output_type": "execute_result"
    }
   ],
   "source": [
    "# statistics for revenue column\n",
    "megaline_user_data['revenue'].describe()"
   ]
  },
  {
   "cell_type": "markdown",
   "metadata": {},
   "source": [
    "## Data Exploration"
   ]
  },
  {
   "cell_type": "markdown",
   "metadata": {},
   "source": [
    "Now that the dataframes have been cleaned and merged, we can look deeper into the individual factors - call time, message count, internet usage - to further analysis on the most profitable data plan."
   ]
  },
  {
   "cell_type": "code",
   "execution_count": 57,
   "metadata": {},
   "outputs": [],
   "source": [
    "# pivot table of call time monthly per plan\n",
    "call_per_plan = megaline_user_data.pivot_table(index = 'month', columns = 'plan', values = 'call_time')"
   ]
  },
  {
   "cell_type": "code",
   "execution_count": 58,
   "metadata": {},
   "outputs": [
    {
     "data": {
      "image/png": "[encoded data removed]",
      "text/plain": [
       "<Figure size 720x432 with 1 Axes>"
      ]
     },
     "metadata": {
      "needs_background": "light"
     },
     "output_type": "display_data"
    }
   ],
   "source": [
    "# bar chart showing call data for both plans \n",
    "call_per_plan.plot(kind = 'bar', figsize = (10,6), grid = True)\n",
    "plt.show()"
   ]
  },
  {
   "cell_type": "markdown",
   "metadata": {},
   "source": [
    "In the figure above, both plans show the same frequency of higher call times in comparison to the other with regards to the number of months. The longest call time is however attributed to the Surf plan in December, while the shortest is attributed to the Ultimate plan in January. The figure also shows an large call time frequency for Ultimate users in February."
   ]
  },
  {
   "cell_type": "markdown",
   "metadata": {},
   "source": [
    "Below is a table showing statistical values - mean, variance and standard deviation- for call minutes monthly per plan"
   ]
  },
  {
   "cell_type": "code",
   "execution_count": 59,
   "metadata": {},
   "outputs": [
    {
     "data": {
      "text/html": [
       "<div>\n",
       "<style scoped>\n",
       "    .dataframe tbody tr th:only-of-type {\n",
       "        vertical-align: middle;\n",
       "    }\n",
       "\n",
       "    .dataframe tbody tr th {\n",
       "        vertical-align: top;\n",
       "    }\n",
       "\n",
       "    .dataframe thead th {\n",
       "        text-align: right;\n",
       "    }\n",
       "</style>\n",
       "<table border=\"1\" class=\"dataframe\">\n",
       "  <thead>\n",
       "    <tr style=\"text-align: right;\">\n",
       "      <th></th>\n",
       "      <th></th>\n",
       "      <th>mean</th>\n",
       "      <th>var</th>\n",
       "      <th>std</th>\n",
       "    </tr>\n",
       "    <tr>\n",
       "      <th>plan</th>\n",
       "      <th>month</th>\n",
       "      <th></th>\n",
       "      <th></th>\n",
       "      <th></th>\n",
       "    </tr>\n",
       "  </thead>\n",
       "  <tbody>\n",
       "    <tr>\n",
       "      <th rowspan=\"12\" valign=\"top\">surf</th>\n",
       "      <th>1</th>\n",
       "      <td>192.840</td>\n",
       "      <td>14795.440</td>\n",
       "      <td>121.637</td>\n",
       "    </tr>\n",
       "    <tr>\n",
       "      <th>2</th>\n",
       "      <td>280.851</td>\n",
       "      <td>46959.220</td>\n",
       "      <td>216.701</td>\n",
       "    </tr>\n",
       "    <tr>\n",
       "      <th>3</th>\n",
       "      <td>310.970</td>\n",
       "      <td>31821.318</td>\n",
       "      <td>178.385</td>\n",
       "    </tr>\n",
       "    <tr>\n",
       "      <th>4</th>\n",
       "      <td>332.380</td>\n",
       "      <td>45615.667</td>\n",
       "      <td>213.578</td>\n",
       "    </tr>\n",
       "    <tr>\n",
       "      <th>5</th>\n",
       "      <td>387.108</td>\n",
       "      <td>50778.127</td>\n",
       "      <td>225.340</td>\n",
       "    </tr>\n",
       "    <tr>\n",
       "      <th>6</th>\n",
       "      <td>411.451</td>\n",
       "      <td>39424.054</td>\n",
       "      <td>198.555</td>\n",
       "    </tr>\n",
       "    <tr>\n",
       "      <th>7</th>\n",
       "      <td>428.061</td>\n",
       "      <td>53364.540</td>\n",
       "      <td>231.008</td>\n",
       "    </tr>\n",
       "    <tr>\n",
       "      <th>8</th>\n",
       "      <td>394.475</td>\n",
       "      <td>46639.241</td>\n",
       "      <td>215.961</td>\n",
       "    </tr>\n",
       "    <tr>\n",
       "      <th>9</th>\n",
       "      <td>397.133</td>\n",
       "      <td>39785.303</td>\n",
       "      <td>199.463</td>\n",
       "    </tr>\n",
       "    <tr>\n",
       "      <th>10</th>\n",
       "      <td>414.436</td>\n",
       "      <td>44103.682</td>\n",
       "      <td>210.009</td>\n",
       "    </tr>\n",
       "    <tr>\n",
       "      <th>11</th>\n",
       "      <td>408.255</td>\n",
       "      <td>43560.875</td>\n",
       "      <td>208.712</td>\n",
       "    </tr>\n",
       "    <tr>\n",
       "      <th>12</th>\n",
       "      <td>457.547</td>\n",
       "      <td>53646.782</td>\n",
       "      <td>231.618</td>\n",
       "    </tr>\n",
       "    <tr>\n",
       "      <th rowspan=\"12\" valign=\"top\">ultimate</th>\n",
       "      <th>1</th>\n",
       "      <td>183.162</td>\n",
       "      <td>14991.370</td>\n",
       "      <td>122.439</td>\n",
       "    </tr>\n",
       "    <tr>\n",
       "      <th>2</th>\n",
       "      <td>443.172</td>\n",
       "      <td>48579.582</td>\n",
       "      <td>220.408</td>\n",
       "    </tr>\n",
       "    <tr>\n",
       "      <th>3</th>\n",
       "      <td>285.702</td>\n",
       "      <td>54273.917</td>\n",
       "      <td>232.968</td>\n",
       "    </tr>\n",
       "    <tr>\n",
       "      <th>4</th>\n",
       "      <td>316.508</td>\n",
       "      <td>31057.727</td>\n",
       "      <td>176.232</td>\n",
       "    </tr>\n",
       "    <tr>\n",
       "      <th>5</th>\n",
       "      <td>383.665</td>\n",
       "      <td>39290.611</td>\n",
       "      <td>198.219</td>\n",
       "    </tr>\n",
       "    <tr>\n",
       "      <th>6</th>\n",
       "      <td>365.358</td>\n",
       "      <td>33837.770</td>\n",
       "      <td>183.950</td>\n",
       "    </tr>\n",
       "    <tr>\n",
       "      <th>7</th>\n",
       "      <td>403.767</td>\n",
       "      <td>64844.427</td>\n",
       "      <td>254.646</td>\n",
       "    </tr>\n",
       "    <tr>\n",
       "      <th>8</th>\n",
       "      <td>397.275</td>\n",
       "      <td>47680.189</td>\n",
       "      <td>218.358</td>\n",
       "    </tr>\n",
       "    <tr>\n",
       "      <th>9</th>\n",
       "      <td>413.287</td>\n",
       "      <td>50994.506</td>\n",
       "      <td>225.820</td>\n",
       "    </tr>\n",
       "    <tr>\n",
       "      <th>10</th>\n",
       "      <td>429.217</td>\n",
       "      <td>47081.624</td>\n",
       "      <td>216.983</td>\n",
       "    </tr>\n",
       "    <tr>\n",
       "      <th>11</th>\n",
       "      <td>423.815</td>\n",
       "      <td>53273.637</td>\n",
       "      <td>230.811</td>\n",
       "    </tr>\n",
       "    <tr>\n",
       "      <th>12</th>\n",
       "      <td>438.825</td>\n",
       "      <td>53967.732</td>\n",
       "      <td>232.310</td>\n",
       "    </tr>\n",
       "  </tbody>\n",
       "</table>\n",
       "</div>"
      ],
      "text/plain": [
       "                  mean       var     std\n",
       "plan     month                          \n",
       "surf     1     192.840 14795.440 121.637\n",
       "         2     280.851 46959.220 216.701\n",
       "         3     310.970 31821.318 178.385\n",
       "         4     332.380 45615.667 213.578\n",
       "         5     387.108 50778.127 225.340\n",
       "         6     411.451 39424.054 198.555\n",
       "         7     428.061 53364.540 231.008\n",
       "         8     394.475 46639.241 215.961\n",
       "         9     397.133 39785.303 199.463\n",
       "         10    414.436 44103.682 210.009\n",
       "         11    408.255 43560.875 208.712\n",
       "         12    457.547 53646.782 231.618\n",
       "ultimate 1     183.162 14991.370 122.439\n",
       "         2     443.172 48579.582 220.408\n",
       "         3     285.702 54273.917 232.968\n",
       "         4     316.508 31057.727 176.232\n",
       "         5     383.665 39290.611 198.219\n",
       "         6     365.358 33837.770 183.950\n",
       "         7     403.767 64844.427 254.646\n",
       "         8     397.275 47680.189 218.358\n",
       "         9     413.287 50994.506 225.820\n",
       "         10    429.217 47081.624 216.983\n",
       "         11    423.815 53273.637 230.811\n",
       "         12    438.825 53967.732 232.310"
      ]
     },
     "execution_count": 59,
     "metadata": {},
     "output_type": "execute_result"
    }
   ],
   "source": [
    "#statistics of call data\n",
    "call_dist = megaline_user_data.groupby(['plan','month'])['call_time'].agg(['mean','var','std'])\n",
    "call_dist"
   ]
  },
  {
   "cell_type": "markdown",
   "metadata": {},
   "source": [
    "We will plot histograms per plan showing the frequency of call minutes"
   ]
  },
  {
   "cell_type": "code",
   "execution_count": 60,
   "metadata": {},
   "outputs": [
    {
     "data": {
      "image/png": "[encoded data removed]",
      "text/plain": [
       "<Figure size 1080x432 with 2 Axes>"
      ]
     },
     "metadata": {
      "needs_background": "light"
     },
     "output_type": "display_data"
    }
   ],
   "source": [
    "# histogram of call time per plan\n",
    "plots = megaline_user_data.hist('call_time',by = 'plan', figsize = (15,6))\n",
    "for ax in plots.flatten():\n",
    "    ax.set_ylabel('Call Minutes')\n",
    "plt.show()\n"
   ]
  },
  {
   "cell_type": "markdown",
   "metadata": {},
   "source": [
    "Per the graph above, Surf users mostly spend about 300 minutes making calls while Ultimate users spend about 500 minutes for calls."
   ]
  },
  {
   "cell_type": "markdown",
   "metadata": {},
   "source": [
    "Moving on to the analysis of message count per plan"
   ]
  },
  {
   "cell_type": "code",
   "execution_count": 61,
   "metadata": {},
   "outputs": [],
   "source": [
    "# pivot table of monthly message count per plan\n",
    "msg_per_plan = megaline_user_data.pivot_table(index = 'month', columns = 'plan', values = 'msg_count')"
   ]
  },
  {
   "cell_type": "code",
   "execution_count": 62,
   "metadata": {},
   "outputs": [
    {
     "data": {
      "image/png": "[encoded data removed]",
      "text/plain": [
       "<Figure size 720x432 with 1 Axes>"
      ]
     },
     "metadata": {
      "needs_background": "light"
     },
     "output_type": "display_data"
    }
   ],
   "source": [
    "# bar chart of message count for both plans\n",
    "msg_per_plan.plot(kind = 'bar', figsize = (10,6), grid = True)\n",
    "plt.show()"
   ]
  },
  {
   "cell_type": "markdown",
   "metadata": {},
   "source": [
    "Compared to the previous bar chart for call time data, Ultimate plan users amass more message counts than Surf plan users. The highest data attributed to December and the lowest to January."
   ]
  },
  {
   "cell_type": "code",
   "execution_count": 63,
   "metadata": {},
   "outputs": [
    {
     "data": {
      "text/html": [
       "<div>\n",
       "<style scoped>\n",
       "    .dataframe tbody tr th:only-of-type {\n",
       "        vertical-align: middle;\n",
       "    }\n",
       "\n",
       "    .dataframe tbody tr th {\n",
       "        vertical-align: top;\n",
       "    }\n",
       "\n",
       "    .dataframe thead th {\n",
       "        text-align: right;\n",
       "    }\n",
       "</style>\n",
       "<table border=\"1\" class=\"dataframe\">\n",
       "  <thead>\n",
       "    <tr style=\"text-align: right;\">\n",
       "      <th></th>\n",
       "      <th></th>\n",
       "      <th>mean</th>\n",
       "      <th>var</th>\n",
       "      <th>std</th>\n",
       "    </tr>\n",
       "    <tr>\n",
       "      <th>plan</th>\n",
       "      <th>month</th>\n",
       "      <th></th>\n",
       "      <th></th>\n",
       "      <th></th>\n",
       "    </tr>\n",
       "  </thead>\n",
       "  <tbody>\n",
       "    <tr>\n",
       "      <th rowspan=\"12\" valign=\"top\">surf</th>\n",
       "      <th>1</th>\n",
       "      <td>10.500</td>\n",
       "      <td>220.500</td>\n",
       "      <td>14.849</td>\n",
       "    </tr>\n",
       "    <tr>\n",
       "      <th>2</th>\n",
       "      <td>12.000</td>\n",
       "      <td>386.000</td>\n",
       "      <td>19.647</td>\n",
       "    </tr>\n",
       "    <tr>\n",
       "      <th>3</th>\n",
       "      <td>15.261</td>\n",
       "      <td>346.565</td>\n",
       "      <td>18.616</td>\n",
       "    </tr>\n",
       "    <tr>\n",
       "      <th>4</th>\n",
       "      <td>17.400</td>\n",
       "      <td>501.592</td>\n",
       "      <td>22.396</td>\n",
       "    </tr>\n",
       "    <tr>\n",
       "      <th>5</th>\n",
       "      <td>24.387</td>\n",
       "      <td>862.916</td>\n",
       "      <td>29.375</td>\n",
       "    </tr>\n",
       "    <tr>\n",
       "      <th>6</th>\n",
       "      <td>25.281</td>\n",
       "      <td>924.520</td>\n",
       "      <td>30.406</td>\n",
       "    </tr>\n",
       "    <tr>\n",
       "      <th>7</th>\n",
       "      <td>27.025</td>\n",
       "      <td>931.672</td>\n",
       "      <td>30.523</td>\n",
       "    </tr>\n",
       "    <tr>\n",
       "      <th>8</th>\n",
       "      <td>28.855</td>\n",
       "      <td>1046.681</td>\n",
       "      <td>32.352</td>\n",
       "    </tr>\n",
       "    <tr>\n",
       "      <th>9</th>\n",
       "      <td>30.377</td>\n",
       "      <td>1002.826</td>\n",
       "      <td>31.667</td>\n",
       "    </tr>\n",
       "    <tr>\n",
       "      <th>10</th>\n",
       "      <td>33.267</td>\n",
       "      <td>1278.707</td>\n",
       "      <td>35.759</td>\n",
       "    </tr>\n",
       "    <tr>\n",
       "      <th>11</th>\n",
       "      <td>32.116</td>\n",
       "      <td>1070.697</td>\n",
       "      <td>32.722</td>\n",
       "    </tr>\n",
       "    <tr>\n",
       "      <th>12</th>\n",
       "      <td>38.212</td>\n",
       "      <td>1474.206</td>\n",
       "      <td>38.395</td>\n",
       "    </tr>\n",
       "    <tr>\n",
       "      <th rowspan=\"12\" valign=\"top\">ultimate</th>\n",
       "      <th>1</th>\n",
       "      <td>15.500</td>\n",
       "      <td>313.667</td>\n",
       "      <td>17.711</td>\n",
       "    </tr>\n",
       "    <tr>\n",
       "      <th>2</th>\n",
       "      <td>23.167</td>\n",
       "      <td>552.567</td>\n",
       "      <td>23.507</td>\n",
       "    </tr>\n",
       "    <tr>\n",
       "      <th>3</th>\n",
       "      <td>20.250</td>\n",
       "      <td>654.386</td>\n",
       "      <td>25.581</td>\n",
       "    </tr>\n",
       "    <tr>\n",
       "      <th>4</th>\n",
       "      <td>22.048</td>\n",
       "      <td>544.148</td>\n",
       "      <td>23.327</td>\n",
       "    </tr>\n",
       "    <tr>\n",
       "      <th>5</th>\n",
       "      <td>32.103</td>\n",
       "      <td>1297.310</td>\n",
       "      <td>36.018</td>\n",
       "    </tr>\n",
       "    <tr>\n",
       "      <th>6</th>\n",
       "      <td>30.533</td>\n",
       "      <td>862.118</td>\n",
       "      <td>29.362</td>\n",
       "    </tr>\n",
       "    <tr>\n",
       "      <th>7</th>\n",
       "      <td>32.831</td>\n",
       "      <td>960.488</td>\n",
       "      <td>30.992</td>\n",
       "    </tr>\n",
       "    <tr>\n",
       "      <th>8</th>\n",
       "      <td>38.479</td>\n",
       "      <td>1196.367</td>\n",
       "      <td>34.589</td>\n",
       "    </tr>\n",
       "    <tr>\n",
       "      <th>9</th>\n",
       "      <td>37.895</td>\n",
       "      <td>1050.918</td>\n",
       "      <td>32.418</td>\n",
       "    </tr>\n",
       "    <tr>\n",
       "      <th>10</th>\n",
       "      <td>39.800</td>\n",
       "      <td>1219.238</td>\n",
       "      <td>34.918</td>\n",
       "    </tr>\n",
       "    <tr>\n",
       "      <th>11</th>\n",
       "      <td>38.579</td>\n",
       "      <td>1242.438</td>\n",
       "      <td>35.248</td>\n",
       "    </tr>\n",
       "    <tr>\n",
       "      <th>12</th>\n",
       "      <td>45.087</td>\n",
       "      <td>1549.310</td>\n",
       "      <td>39.361</td>\n",
       "    </tr>\n",
       "  </tbody>\n",
       "</table>\n",
       "</div>"
      ],
      "text/plain": [
       "                 mean      var    std\n",
       "plan     month                       \n",
       "surf     1     10.500  220.500 14.849\n",
       "         2     12.000  386.000 19.647\n",
       "         3     15.261  346.565 18.616\n",
       "         4     17.400  501.592 22.396\n",
       "         5     24.387  862.916 29.375\n",
       "         6     25.281  924.520 30.406\n",
       "         7     27.025  931.672 30.523\n",
       "         8     28.855 1046.681 32.352\n",
       "         9     30.377 1002.826 31.667\n",
       "         10    33.267 1278.707 35.759\n",
       "         11    32.116 1070.697 32.722\n",
       "         12    38.212 1474.206 38.395\n",
       "ultimate 1     15.500  313.667 17.711\n",
       "         2     23.167  552.567 23.507\n",
       "         3     20.250  654.386 25.581\n",
       "         4     22.048  544.148 23.327\n",
       "         5     32.103 1297.310 36.018\n",
       "         6     30.533  862.118 29.362\n",
       "         7     32.831  960.488 30.992\n",
       "         8     38.479 1196.367 34.589\n",
       "         9     37.895 1050.918 32.418\n",
       "         10    39.800 1219.238 34.918\n",
       "         11    38.579 1242.438 35.248\n",
       "         12    45.087 1549.310 39.361"
      ]
     },
     "execution_count": 63,
     "metadata": {},
     "output_type": "execute_result"
    }
   ],
   "source": [
    "# statistics table for message count\n",
    "msg_dist = megaline_user_data.groupby(['plan','month'])['msg_count'].agg(['mean','var','std'])\n",
    "msg_dist"
   ]
  },
  {
   "cell_type": "code",
   "execution_count": 64,
   "metadata": {},
   "outputs": [
    {
     "data": {
      "image/png": "[encoded data removed]",
      "text/plain": [
       "<Figure size 1080x432 with 2 Axes>"
      ]
     },
     "metadata": {
      "needs_background": "light"
     },
     "output_type": "display_data"
    }
   ],
   "source": [
    "# histogram of message count per plan\n",
    "plotsb = megaline_user_data.hist('msg_count', by = 'plan', figsize = (15,6))\n",
    "for ax in plotsb.flatten():\n",
    "    ax.set_ylabel('Message Count')\n",
    "plt.show()\n"
   ]
  },
  {
   "cell_type": "markdown",
   "metadata": {},
   "source": [
    "The graphs above are similar in that more users send about 0 - 20 messages regardless of the plan. There are also obvious outliers in the Surf histogram with message counts between 210 and 260."
   ]
  },
  {
   "cell_type": "markdown",
   "metadata": {},
   "source": [
    "Finally, analysis on internet usage per plan"
   ]
  },
  {
   "cell_type": "code",
   "execution_count": 65,
   "metadata": {},
   "outputs": [],
   "source": [
    "# pivot table of monthly internet usage per plan\n",
    "mb_per_plan = megaline_user_data.pivot_table(index = 'month', columns = 'plan', values = 'mb_used')"
   ]
  },
  {
   "cell_type": "code",
   "execution_count": 66,
   "metadata": {},
   "outputs": [
    {
     "data": {
      "image/png": "[encoded data removed]",
      "text/plain": [
       "<Figure size 720x432 with 1 Axes>"
      ]
     },
     "metadata": {
      "needs_background": "light"
     },
     "output_type": "display_data"
    }
   ],
   "source": [
    "# bar chart of internet usage for both plans\n",
    "mb_per_plan.plot(kind = 'bar', figsize = (10,6), grid = True)\n",
    "plt.show()"
   ]
  },
  {
   "cell_type": "markdown",
   "metadata": {},
   "source": [
    "In the graph above, the most internet usage is shown for Ultimate plan users in March while the lowest is for January."
   ]
  },
  {
   "cell_type": "code",
   "execution_count": 67,
   "metadata": {},
   "outputs": [
    {
     "data": {
      "text/html": [
       "<div>\n",
       "<style scoped>\n",
       "    .dataframe tbody tr th:only-of-type {\n",
       "        vertical-align: middle;\n",
       "    }\n",
       "\n",
       "    .dataframe tbody tr th {\n",
       "        vertical-align: top;\n",
       "    }\n",
       "\n",
       "    .dataframe thead th {\n",
       "        text-align: right;\n",
       "    }\n",
       "</style>\n",
       "<table border=\"1\" class=\"dataframe\">\n",
       "  <thead>\n",
       "    <tr style=\"text-align: right;\">\n",
       "      <th></th>\n",
       "      <th></th>\n",
       "      <th>mean</th>\n",
       "      <th>var</th>\n",
       "      <th>std</th>\n",
       "    </tr>\n",
       "    <tr>\n",
       "      <th>plan</th>\n",
       "      <th>month</th>\n",
       "      <th></th>\n",
       "      <th></th>\n",
       "      <th></th>\n",
       "    </tr>\n",
       "  </thead>\n",
       "  <tbody>\n",
       "    <tr>\n",
       "      <th rowspan=\"12\" valign=\"top\">surf</th>\n",
       "      <th>1</th>\n",
       "      <td>4874.860</td>\n",
       "      <td>18239954.410</td>\n",
       "      <td>4270.826</td>\n",
       "    </tr>\n",
       "    <tr>\n",
       "      <th>2</th>\n",
       "      <td>12178.843</td>\n",
       "      <td>43672958.907</td>\n",
       "      <td>6608.552</td>\n",
       "    </tr>\n",
       "    <tr>\n",
       "      <th>3</th>\n",
       "      <td>13345.440</td>\n",
       "      <td>68245557.531</td>\n",
       "      <td>8261.087</td>\n",
       "    </tr>\n",
       "    <tr>\n",
       "      <th>4</th>\n",
       "      <td>11984.203</td>\n",
       "      <td>59044940.655</td>\n",
       "      <td>7684.071</td>\n",
       "    </tr>\n",
       "    <tr>\n",
       "      <th>5</th>\n",
       "      <td>14201.487</td>\n",
       "      <td>60229678.630</td>\n",
       "      <td>7760.778</td>\n",
       "    </tr>\n",
       "    <tr>\n",
       "      <th>6</th>\n",
       "      <td>15308.451</td>\n",
       "      <td>49645886.757</td>\n",
       "      <td>7045.984</td>\n",
       "    </tr>\n",
       "    <tr>\n",
       "      <th>7</th>\n",
       "      <td>16785.430</td>\n",
       "      <td>65229723.696</td>\n",
       "      <td>8076.492</td>\n",
       "    </tr>\n",
       "    <tr>\n",
       "      <th>8</th>\n",
       "      <td>16870.108</td>\n",
       "      <td>75052245.655</td>\n",
       "      <td>8663.270</td>\n",
       "    </tr>\n",
       "    <tr>\n",
       "      <th>9</th>\n",
       "      <td>16441.598</td>\n",
       "      <td>49424797.955</td>\n",
       "      <td>7030.277</td>\n",
       "    </tr>\n",
       "    <tr>\n",
       "      <th>10</th>\n",
       "      <td>17240.075</td>\n",
       "      <td>61679542.851</td>\n",
       "      <td>7853.632</td>\n",
       "    </tr>\n",
       "    <tr>\n",
       "      <th>11</th>\n",
       "      <td>16290.384</td>\n",
       "      <td>53301526.188</td>\n",
       "      <td>7300.789</td>\n",
       "    </tr>\n",
       "    <tr>\n",
       "      <th>12</th>\n",
       "      <td>17980.815</td>\n",
       "      <td>64881904.542</td>\n",
       "      <td>8054.930</td>\n",
       "    </tr>\n",
       "    <tr>\n",
       "      <th rowspan=\"12\" valign=\"top\">ultimate</th>\n",
       "      <th>1</th>\n",
       "      <td>6918.092</td>\n",
       "      <td>16394711.894</td>\n",
       "      <td>4049.038</td>\n",
       "    </tr>\n",
       "    <tr>\n",
       "      <th>2</th>\n",
       "      <td>17884.958</td>\n",
       "      <td>40376110.953</td>\n",
       "      <td>6354.220</td>\n",
       "    </tr>\n",
       "    <tr>\n",
       "      <th>3</th>\n",
       "      <td>18321.518</td>\n",
       "      <td>140339165.297</td>\n",
       "      <td>11846.483</td>\n",
       "    </tr>\n",
       "    <tr>\n",
       "      <th>4</th>\n",
       "      <td>16121.655</td>\n",
       "      <td>88428607.065</td>\n",
       "      <td>9403.649</td>\n",
       "    </tr>\n",
       "    <tr>\n",
       "      <th>5</th>\n",
       "      <td>16624.482</td>\n",
       "      <td>56790115.888</td>\n",
       "      <td>7535.922</td>\n",
       "    </tr>\n",
       "    <tr>\n",
       "      <th>6</th>\n",
       "      <td>15920.383</td>\n",
       "      <td>67109590.411</td>\n",
       "      <td>8192.044</td>\n",
       "    </tr>\n",
       "    <tr>\n",
       "      <th>7</th>\n",
       "      <td>16344.744</td>\n",
       "      <td>68419210.682</td>\n",
       "      <td>8271.591</td>\n",
       "    </tr>\n",
       "    <tr>\n",
       "      <th>8</th>\n",
       "      <td>17814.720</td>\n",
       "      <td>60447083.748</td>\n",
       "      <td>7774.772</td>\n",
       "    </tr>\n",
       "    <tr>\n",
       "      <th>9</th>\n",
       "      <td>16969.870</td>\n",
       "      <td>49339038.238</td>\n",
       "      <td>7024.175</td>\n",
       "    </tr>\n",
       "    <tr>\n",
       "      <th>10</th>\n",
       "      <td>17780.292</td>\n",
       "      <td>54532189.672</td>\n",
       "      <td>7384.591</td>\n",
       "    </tr>\n",
       "    <tr>\n",
       "      <th>11</th>\n",
       "      <td>16999.453</td>\n",
       "      <td>57900178.341</td>\n",
       "      <td>7609.217</td>\n",
       "    </tr>\n",
       "    <tr>\n",
       "      <th>12</th>\n",
       "      <td>18321.065</td>\n",
       "      <td>58217116.139</td>\n",
       "      <td>7630.014</td>\n",
       "    </tr>\n",
       "  </tbody>\n",
       "</table>\n",
       "</div>"
      ],
      "text/plain": [
       "                    mean           var       std\n",
       "plan     month                                  \n",
       "surf     1      4874.860  18239954.410  4270.826\n",
       "         2     12178.843  43672958.907  6608.552\n",
       "         3     13345.440  68245557.531  8261.087\n",
       "         4     11984.203  59044940.655  7684.071\n",
       "         5     14201.487  60229678.630  7760.778\n",
       "         6     15308.451  49645886.757  7045.984\n",
       "         7     16785.430  65229723.696  8076.492\n",
       "         8     16870.108  75052245.655  8663.270\n",
       "         9     16441.598  49424797.955  7030.277\n",
       "         10    17240.075  61679542.851  7853.632\n",
       "         11    16290.384  53301526.188  7300.789\n",
       "         12    17980.815  64881904.542  8054.930\n",
       "ultimate 1      6918.092  16394711.894  4049.038\n",
       "         2     17884.958  40376110.953  6354.220\n",
       "         3     18321.518 140339165.297 11846.483\n",
       "         4     16121.655  88428607.065  9403.649\n",
       "         5     16624.482  56790115.888  7535.922\n",
       "         6     15920.383  67109590.411  8192.044\n",
       "         7     16344.744  68419210.682  8271.591\n",
       "         8     17814.720  60447083.748  7774.772\n",
       "         9     16969.870  49339038.238  7024.175\n",
       "         10    17780.292  54532189.672  7384.591\n",
       "         11    16999.453  57900178.341  7609.217\n",
       "         12    18321.065  58217116.139  7630.014"
      ]
     },
     "execution_count": 67,
     "metadata": {},
     "output_type": "execute_result"
    }
   ],
   "source": [
    "# statistics for internet usage monthly per plan\n",
    "mb_dist = megaline_user_data.groupby(['plan','month'])['mb_used'].agg(['mean','var','std'])\n",
    "mb_dist"
   ]
  },
  {
   "cell_type": "code",
   "execution_count": 68,
   "metadata": {},
   "outputs": [
    {
     "data": {
      "image/png": "[encoded data removed]",
      "text/plain": [
       "<Figure size 1080x432 with 2 Axes>"
      ]
     },
     "metadata": {
      "needs_background": "light"
     },
     "output_type": "display_data"
    }
   ],
   "source": [
    "# histogram of internet usage per plan\n",
    "plotsc = megaline_user_data.hist('mb_used', by = 'plan', figsize = (15,6))\n",
    "for ax in plotsc.flatten():\n",
    "    ax.set_ylabel('Internet Usage')\n",
    "plt.show()\n"
   ]
  },
  {
   "cell_type": "markdown",
   "metadata": {},
   "source": [
    "For both plans, users tend to use about 15,000 to 20,000 MB of data as shown in the graph above. The graph for Surf skews more to the left than that of Ultimate which skews more to the right showing higher MBs used."
   ]
  },
  {
   "cell_type": "markdown",
   "metadata": {},
   "source": [
    "Below is a table showing overall statistical values - mean, variance and standard deviation- for offered services per plan"
   ]
  },
  {
   "cell_type": "code",
   "execution_count": 69,
   "metadata": {},
   "outputs": [
    {
     "data": {
      "text/html": [
       "<div>\n",
       "<style scoped>\n",
       "    .dataframe tbody tr th:only-of-type {\n",
       "        vertical-align: middle;\n",
       "    }\n",
       "\n",
       "    .dataframe tbody tr th {\n",
       "        vertical-align: top;\n",
       "    }\n",
       "\n",
       "    .dataframe thead tr th {\n",
       "        text-align: left;\n",
       "    }\n",
       "\n",
       "    .dataframe thead tr:last-of-type th {\n",
       "        text-align: right;\n",
       "    }\n",
       "</style>\n",
       "<table border=\"1\" class=\"dataframe\">\n",
       "  <thead>\n",
       "    <tr>\n",
       "      <th></th>\n",
       "      <th colspan=\"3\" halign=\"left\">call_time</th>\n",
       "      <th colspan=\"3\" halign=\"left\">mb_used</th>\n",
       "      <th colspan=\"3\" halign=\"left\">msg_count</th>\n",
       "    </tr>\n",
       "    <tr>\n",
       "      <th></th>\n",
       "      <th>mean</th>\n",
       "      <th>std</th>\n",
       "      <th>var</th>\n",
       "      <th>mean</th>\n",
       "      <th>std</th>\n",
       "      <th>var</th>\n",
       "      <th>mean</th>\n",
       "      <th>std</th>\n",
       "      <th>var</th>\n",
       "    </tr>\n",
       "    <tr>\n",
       "      <th>plan</th>\n",
       "      <th></th>\n",
       "      <th></th>\n",
       "      <th></th>\n",
       "      <th></th>\n",
       "      <th></th>\n",
       "      <th></th>\n",
       "      <th></th>\n",
       "      <th></th>\n",
       "      <th></th>\n",
       "    </tr>\n",
       "  </thead>\n",
       "  <tbody>\n",
       "    <tr>\n",
       "      <th>surf</th>\n",
       "      <td>412.098</td>\n",
       "      <td>216.798</td>\n",
       "      <td>47001.254</td>\n",
       "      <td>16505.727</td>\n",
       "      <td>7847.816</td>\n",
       "      <td>61588219.761</td>\n",
       "      <td>30.898</td>\n",
       "      <td>33.644</td>\n",
       "      <td>1131.949</td>\n",
       "    </tr>\n",
       "    <tr>\n",
       "      <th>ultimate</th>\n",
       "      <td>410.181</td>\n",
       "      <td>224.746</td>\n",
       "      <td>50510.632</td>\n",
       "      <td>17278.004</td>\n",
       "      <td>7759.655</td>\n",
       "      <td>60212248.305</td>\n",
       "      <td>37.725</td>\n",
       "      <td>34.787</td>\n",
       "      <td>1210.143</td>\n",
       "    </tr>\n",
       "  </tbody>\n",
       "</table>\n",
       "</div>"
      ],
      "text/plain": [
       "         call_time                     mb_used                        \\\n",
       "              mean     std       var      mean      std          var   \n",
       "plan                                                                   \n",
       "surf       412.098 216.798 47001.254 16505.727 7847.816 61588219.761   \n",
       "ultimate   410.181 224.746 50510.632 17278.004 7759.655 60212248.305   \n",
       "\n",
       "         msg_count                  \n",
       "              mean    std      var  \n",
       "plan                                \n",
       "surf        30.898 33.644 1131.949  \n",
       "ultimate    37.725 34.787 1210.143  "
      ]
     },
     "execution_count": 69,
     "metadata": {},
     "output_type": "execute_result"
    }
   ],
   "source": [
    "# statistics for the entire data per plan\n",
    "megaline_user_data.pivot_table( index = 'plan', values = ['call_time', 'msg_count', 'mb_used'], aggfunc = ('mean','var','std'))"
   ]
  },
  {
   "cell_type": "markdown",
   "metadata": {},
   "source": [
    "## Testing the Hypotheses"
   ]
  },
  {
   "cell_type": "markdown",
   "metadata": {},
   "source": [
    "### The average revenue from users of Ultimate and Surf calling plans differs"
   ]
  },
  {
   "cell_type": "code",
   "execution_count": 70,
   "metadata": {},
   "outputs": [
    {
     "name": "stdout",
     "output_type": "stream",
     "text": [
      "p-value:  6.596684931934826e-10\n",
      "We reject the null hypothesis\n"
     ]
    }
   ],
   "source": [
    "# testing hypotheses\n",
    "surf_rev = megaline_user_data[megaline_user_data['plan'] == 'surf']['revenue']\n",
    "ult_rev = megaline_user_data[megaline_user_data['plan'] == 'ultimate']['revenue']\n",
    "alpha = 0.05  # critical statistical significance level\n",
    "# if the p-value is less than alpha, we reject the hypothesis\n",
    "\n",
    "results = st.ttest_ind(surf_rev, ult_rev)\n",
    "\n",
    "print('p-value: ', results.pvalue)\n",
    "\n",
    "if results.pvalue < alpha:\n",
    "    print(\"We reject the null hypothesis\")\n",
    "else:\n",
    "    print(\"We can't reject the null hypothesis\")"
   ]
  },
  {
   "cell_type": "markdown",
   "metadata": {},
   "source": [
    "The result gotten from the test above shows that we reject the null hypothesis as the mean revenue of both plans differs.\n",
    "\n",
    "H0: The average revenue from users of Ultimate and Surf calling plans is equal.\n",
    "\n",
    "H1: The average revenue from users of Ultimate and Surf calling plans differs."
   ]
  },
  {
   "cell_type": "code",
   "execution_count": 71,
   "metadata": {},
   "outputs": [
    {
     "data": {
      "text/html": [
       "<div>\n",
       "<style scoped>\n",
       "    .dataframe tbody tr th:only-of-type {\n",
       "        vertical-align: middle;\n",
       "    }\n",
       "\n",
       "    .dataframe tbody tr th {\n",
       "        vertical-align: top;\n",
       "    }\n",
       "\n",
       "    .dataframe thead th {\n",
       "        text-align: right;\n",
       "    }\n",
       "</style>\n",
       "<table border=\"1\" class=\"dataframe\">\n",
       "  <thead>\n",
       "    <tr style=\"text-align: right;\">\n",
       "      <th></th>\n",
       "      <th>mean</th>\n",
       "      <th>sum</th>\n",
       "    </tr>\n",
       "    <tr>\n",
       "      <th>plan</th>\n",
       "      <th></th>\n",
       "      <th></th>\n",
       "    </tr>\n",
       "  </thead>\n",
       "  <tbody>\n",
       "    <tr>\n",
       "      <th>surf</th>\n",
       "      <td>59.744</td>\n",
       "      <td>92304.870</td>\n",
       "    </tr>\n",
       "    <tr>\n",
       "      <th>ultimate</th>\n",
       "      <td>72.278</td>\n",
       "      <td>51534.000</td>\n",
       "    </tr>\n",
       "  </tbody>\n",
       "</table>\n",
       "</div>"
      ],
      "text/plain": [
       "           mean       sum\n",
       "plan                     \n",
       "surf     59.744 92304.870\n",
       "ultimate 72.278 51534.000"
      ]
     },
     "execution_count": 71,
     "metadata": {},
     "output_type": "execute_result"
    }
   ],
   "source": [
    "# pivot table showing mean and sum of revenue per plan\n",
    "total_rev = megaline_user_data.pivot_table(index = 'plan', values = 'revenue', aggfunc = ('mean','sum'))\n",
    "total_rev"
   ]
  },
  {
   "cell_type": "markdown",
   "metadata": {},
   "source": [
    "As shown above, though the mean revenue is lower in Surf plan, the total revenue is higher than that of the Ultimate plan"
   ]
  },
  {
   "cell_type": "markdown",
   "metadata": {},
   "source": [
    "### The average revenue from users in NY-NJ area is different from that of the users from other regions"
   ]
  },
  {
   "cell_type": "code",
   "execution_count": 72,
   "metadata": {},
   "outputs": [],
   "source": [
    "# filter data for just NY-NJ\n",
    "NY_NJ_data = megaline_user_data[megaline_user_data['city'].str.contains('NY-NJ')]"
   ]
  },
  {
   "cell_type": "code",
   "execution_count": 73,
   "metadata": {},
   "outputs": [],
   "source": [
    "# Table without data for NY-NJ\n",
    "other_city_data = megaline_user_data[~(megaline_user_data['city'].str.contains('NY-NJ'))]"
   ]
  },
  {
   "cell_type": "code",
   "execution_count": 74,
   "metadata": {},
   "outputs": [
    {
     "name": "stdout",
     "output_type": "stream",
     "text": [
      "p-value:  4.385277525374623e-09\n",
      "We reject the null hypothesis\n"
     ]
    }
   ],
   "source": [
    "# Testing the hypotheses\n",
    "NY_city_value = NY_NJ_data['revenue'].mean()\n",
    "city_data = other_city_data['revenue']\n",
    "\n",
    "alpha = 0.05  # critical statistical significance level\n",
    "\n",
    "results = st.ttest_1samp(city_data, NY_city_value)\n",
    "\n",
    "# \n",
    "print('p-value: ', results.pvalue)\n",
    "\n",
    "if results.pvalue < alpha:\n",
    "    print('We reject the null hypothesis')\n",
    "else:\n",
    "    print(\"We can't reject the null hypothesis\")"
   ]
  },
  {
   "cell_type": "markdown",
   "metadata": {},
   "source": [
    "For the result of the test above, we reject the null hypothesis which means the average revenues between NY-NJ city and the other represented cities differs.\n",
    "\n",
    "H0: The average revenue from users in NY-NJ area and that of the users from other regions is equal.\n",
    "\n",
    "H1: The average revenue from users in NY-NJ area is different from that of the users from other regions."
   ]
  },
  {
   "cell_type": "markdown",
   "metadata": {},
   "source": [
    "## General Conclusion"
   ]
  },
  {
   "cell_type": "markdown",
   "metadata": {},
   "source": [
    "For this project we worked with multiple datasets to analyze the most profitable prepaid plan between Surf and Ultimate.\n",
    "There was not much cleaning to be done to the data other than filling in the missing values for the `'churn date'`column. \n",
    "This was done by setting all NaN values to the date 2019-01-01 as the data represented was that of the year 2018.\n",
    "\n",
    "The tables had to be merged to show call minutes data, message count data and internet usage data monthly based on the plans for all users represented. We used this information to determine monthly revenue for each plan.\n",
    "\n",
    "Based on the bar charts for call minutes, Surf users mostly spend about 300 minutes making calls while Ultimate users spend about 500 minutes for calls. The longest call time is however attributed to the Surf plan, while the shortest is attributed to the Ultimate plan.\n",
    "\n",
    "For message count, Ultimate plan users amassed more message counts than Surf plan users most likely due to the higher count for free messages under the plan.\n",
    "\n",
    "And for internet usage, for both plans, users tend to use about 15,000 to 20,000 MB of data as shown in the graph above. The graph for Surf skews more to the left than that of Ultimate which skews more to the right showing higher MBs used. The most internet usage is shown for Ultimate plan users.\n",
    "\n",
    "With regards to the revenue for both plans, the average revenue monthly was higher in the Ultimate plan compared to the Surf plan, though the difference was not really significant since the monthly costs for Surf is 20 USD with a mean of about 60 USD and the monthly cost for Ultimate is 70 USD with a mean of about 72 USD. This is also proven by the higher total revenue associated with the Surf plan.\n",
    "\n",
    "The Surf plan therefore yields more revenue for the company.\n",
    "\n",
    "For the second hypotheses regarding the difference between average revenue in NY-NJ city and the other represented cities, we rejected the null hypotheses because the tested means differ from each other."
   ]
  },
  {
   "cell_type": "code",
   "execution_count": null,
   "metadata": {},
   "outputs": [],
   "source": []
  }
 ],
 "metadata": {
  "ExecuteTimeLog": [
   {
    "duration": 45,
    "start_time": "2022-06-16T23:24:22.846Z"
   },
   {
    "duration": 411,
    "start_time": "2022-06-16T23:24:30.431Z"
   },
   {
    "duration": 2,
    "start_time": "2022-06-16T23:26:02.831Z"
   },
   {
    "duration": 352,
    "start_time": "2022-06-16T23:26:20.656Z"
   },
   {
    "duration": 2,
    "start_time": "2022-06-16T23:26:41.054Z"
   },
   {
    "duration": 425,
    "start_time": "2022-06-16T23:27:07.599Z"
   },
   {
    "duration": 83,
    "start_time": "2022-06-16T23:29:06.093Z"
   },
   {
    "duration": 361,
    "start_time": "2022-06-16T23:29:46.787Z"
   },
   {
    "duration": 159,
    "start_time": "2022-06-16T23:30:05.570Z"
   },
   {
    "duration": 88,
    "start_time": "2022-06-16T23:30:24.782Z"
   },
   {
    "duration": 214,
    "start_time": "2022-06-16T23:30:37.241Z"
   },
   {
    "duration": 57,
    "start_time": "2022-06-16T23:31:02.709Z"
   },
   {
    "duration": 14,
    "start_time": "2022-06-16T23:32:38.432Z"
   },
   {
    "duration": 18,
    "start_time": "2022-06-16T23:33:08.007Z"
   },
   {
    "duration": 14,
    "start_time": "2022-06-16T23:33:26.174Z"
   },
   {
    "duration": 15,
    "start_time": "2022-06-16T23:33:41.791Z"
   },
   {
    "duration": 10,
    "start_time": "2022-06-16T23:34:01.055Z"
   },
   {
    "duration": 6,
    "start_time": "2022-06-16T23:36:30.487Z"
   },
   {
    "duration": 4,
    "start_time": "2022-06-16T23:36:45.650Z"
   },
   {
    "duration": 5,
    "start_time": "2022-06-16T23:38:16.885Z"
   },
   {
    "duration": 3,
    "start_time": "2022-06-16T23:38:42.733Z"
   },
   {
    "duration": 6,
    "start_time": "2022-06-16T23:38:58.643Z"
   },
   {
    "duration": 12,
    "start_time": "2022-06-16T23:41:37.150Z"
   },
   {
    "duration": 9,
    "start_time": "2022-06-16T23:42:01.059Z"
   },
   {
    "duration": 10,
    "start_time": "2022-06-16T23:42:16.217Z"
   },
   {
    "duration": 421,
    "start_time": "2022-06-17T02:33:30.935Z"
   },
   {
    "duration": 2,
    "start_time": "2022-06-17T02:33:31.358Z"
   },
   {
    "duration": 366,
    "start_time": "2022-06-17T02:33:31.361Z"
   },
   {
    "duration": 2,
    "start_time": "2022-06-17T02:33:31.730Z"
   },
   {
    "duration": 481,
    "start_time": "2022-06-17T02:33:31.733Z"
   },
   {
    "duration": 80,
    "start_time": "2022-06-17T02:33:32.216Z"
   },
   {
    "duration": 353,
    "start_time": "2022-06-17T02:33:32.298Z"
   },
   {
    "duration": 135,
    "start_time": "2022-06-17T02:33:32.654Z"
   },
   {
    "duration": 194,
    "start_time": "2022-06-17T02:33:32.791Z"
   },
   {
    "duration": 46,
    "start_time": "2022-06-17T02:33:32.988Z"
   },
   {
    "duration": 20,
    "start_time": "2022-06-17T02:33:33.036Z"
   },
   {
    "duration": 14,
    "start_time": "2022-06-17T02:33:33.058Z"
   },
   {
    "duration": 22,
    "start_time": "2022-06-17T02:33:33.074Z"
   },
   {
    "duration": 13,
    "start_time": "2022-06-17T02:33:33.099Z"
   },
   {
    "duration": 23,
    "start_time": "2022-06-17T02:33:33.114Z"
   },
   {
    "duration": 14,
    "start_time": "2022-06-17T02:33:33.139Z"
   },
   {
    "duration": 14,
    "start_time": "2022-06-17T02:33:33.155Z"
   },
   {
    "duration": 13,
    "start_time": "2022-06-17T02:33:33.171Z"
   },
   {
    "duration": 6,
    "start_time": "2022-06-17T02:33:33.186Z"
   },
   {
    "duration": 7,
    "start_time": "2022-06-17T02:33:33.194Z"
   },
   {
    "duration": 12,
    "start_time": "2022-06-17T02:33:33.203Z"
   },
   {
    "duration": 23,
    "start_time": "2022-06-17T03:33:18.848Z"
   },
   {
    "duration": 15,
    "start_time": "2022-06-17T03:33:37.198Z"
   },
   {
    "duration": 12,
    "start_time": "2022-06-17T03:35:19.454Z"
   },
   {
    "duration": 12,
    "start_time": "2022-06-17T03:35:21.705Z"
   },
   {
    "duration": 17,
    "start_time": "2022-06-17T03:36:20.569Z"
   },
   {
    "duration": 14,
    "start_time": "2022-06-17T03:36:23.489Z"
   },
   {
    "duration": 9,
    "start_time": "2022-06-17T03:37:55.817Z"
   },
   {
    "duration": 6,
    "start_time": "2022-06-17T03:40:01.567Z"
   },
   {
    "duration": 4,
    "start_time": "2022-06-17T03:40:49.850Z"
   },
   {
    "duration": 10,
    "start_time": "2022-06-17T03:40:59.635Z"
   },
   {
    "duration": 3,
    "start_time": "2022-06-17T03:44:33.723Z"
   },
   {
    "duration": 6,
    "start_time": "2022-06-17T03:44:33.728Z"
   },
   {
    "duration": 6,
    "start_time": "2022-06-17T03:44:33.735Z"
   },
   {
    "duration": 4,
    "start_time": "2022-06-17T03:44:33.743Z"
   },
   {
    "duration": 5,
    "start_time": "2022-06-17T03:44:33.749Z"
   },
   {
    "duration": 42,
    "start_time": "2022-06-17T03:44:33.755Z"
   },
   {
    "duration": 105,
    "start_time": "2022-06-17T03:44:33.798Z"
   },
   {
    "duration": 58,
    "start_time": "2022-06-17T03:44:33.905Z"
   },
   {
    "duration": 85,
    "start_time": "2022-06-17T03:44:33.965Z"
   },
   {
    "duration": 14,
    "start_time": "2022-06-17T03:44:34.052Z"
   },
   {
    "duration": 18,
    "start_time": "2022-06-17T03:44:34.068Z"
   },
   {
    "duration": 10,
    "start_time": "2022-06-17T03:44:34.088Z"
   },
   {
    "duration": 30,
    "start_time": "2022-06-17T03:44:34.100Z"
   },
   {
    "duration": 33,
    "start_time": "2022-06-17T03:44:34.132Z"
   },
   {
    "duration": 15,
    "start_time": "2022-06-17T03:44:34.167Z"
   },
   {
    "duration": 9,
    "start_time": "2022-06-17T03:44:34.183Z"
   },
   {
    "duration": 23,
    "start_time": "2022-06-17T03:44:34.194Z"
   },
   {
    "duration": 35,
    "start_time": "2022-06-17T03:44:34.218Z"
   },
   {
    "duration": 18,
    "start_time": "2022-06-17T03:44:34.255Z"
   },
   {
    "duration": 10,
    "start_time": "2022-06-17T03:44:34.274Z"
   },
   {
    "duration": 19,
    "start_time": "2022-06-17T03:44:34.286Z"
   },
   {
    "duration": 14,
    "start_time": "2022-06-17T03:44:34.307Z"
   },
   {
    "duration": 38,
    "start_time": "2022-06-17T03:44:34.323Z"
   },
   {
    "duration": 13,
    "start_time": "2022-06-17T03:44:34.363Z"
   },
   {
    "duration": 14,
    "start_time": "2022-06-17T03:44:34.378Z"
   },
   {
    "duration": 6,
    "start_time": "2022-06-17T03:44:34.394Z"
   },
   {
    "duration": 7,
    "start_time": "2022-06-17T03:44:34.402Z"
   },
   {
    "duration": 11,
    "start_time": "2022-06-17T03:45:01.845Z"
   },
   {
    "duration": 5,
    "start_time": "2022-06-17T03:45:08.699Z"
   },
   {
    "duration": 10,
    "start_time": "2022-06-17T03:45:38.565Z"
   },
   {
    "duration": 10,
    "start_time": "2022-06-17T03:45:51.542Z"
   },
   {
    "duration": 4,
    "start_time": "2022-06-17T03:45:54.289Z"
   },
   {
    "duration": 10,
    "start_time": "2022-06-17T03:45:56.710Z"
   },
   {
    "duration": 8,
    "start_time": "2022-06-17T03:46:21.954Z"
   },
   {
    "duration": 5,
    "start_time": "2022-06-17T03:46:51.853Z"
   },
   {
    "duration": 5,
    "start_time": "2022-06-17T03:46:59.579Z"
   },
   {
    "duration": 7,
    "start_time": "2022-06-17T03:47:05.307Z"
   },
   {
    "duration": 10,
    "start_time": "2022-06-17T03:47:14.989Z"
   },
   {
    "duration": 17,
    "start_time": "2022-06-17T03:49:15.233Z"
   },
   {
    "duration": 22,
    "start_time": "2022-06-17T03:49:31.959Z"
   },
   {
    "duration": 21,
    "start_time": "2022-06-17T03:49:44.163Z"
   },
   {
    "duration": 20,
    "start_time": "2022-06-17T03:49:58.011Z"
   },
   {
    "duration": 43,
    "start_time": "2022-06-17T03:50:47.820Z"
   },
   {
    "duration": 13,
    "start_time": "2022-06-17T03:52:56.277Z"
   },
   {
    "duration": 6,
    "start_time": "2022-06-17T03:53:36.621Z"
   },
   {
    "duration": 32,
    "start_time": "2022-06-17T03:53:42.956Z"
   },
   {
    "duration": 17,
    "start_time": "2022-06-17T03:53:51.848Z"
   },
   {
    "duration": 38,
    "start_time": "2022-06-17T03:54:07.406Z"
   },
   {
    "duration": 11,
    "start_time": "2022-06-17T03:54:34.845Z"
   },
   {
    "duration": 4,
    "start_time": "2022-06-17T04:02:41.018Z"
   },
   {
    "duration": 11,
    "start_time": "2022-06-17T04:02:44.116Z"
   },
   {
    "duration": 4,
    "start_time": "2022-06-17T04:03:03.311Z"
   },
   {
    "duration": 11,
    "start_time": "2022-06-17T04:03:06.759Z"
   },
   {
    "duration": 6,
    "start_time": "2022-06-17T04:03:15.225Z"
   },
   {
    "duration": 15,
    "start_time": "2022-06-17T04:03:48.266Z"
   },
   {
    "duration": 5,
    "start_time": "2022-06-17T04:04:23.897Z"
   },
   {
    "duration": 12,
    "start_time": "2022-06-17T04:04:31.186Z"
   },
   {
    "duration": 17,
    "start_time": "2022-06-17T04:04:41.402Z"
   },
   {
    "duration": 89,
    "start_time": "2022-06-17T04:04:54.991Z"
   },
   {
    "duration": 12,
    "start_time": "2022-06-17T04:04:58.886Z"
   },
   {
    "duration": 12,
    "start_time": "2022-06-17T04:05:50.136Z"
   },
   {
    "duration": 2,
    "start_time": "2022-06-17T04:08:36.277Z"
   },
   {
    "duration": 12,
    "start_time": "2022-06-17T04:08:36.281Z"
   },
   {
    "duration": 11,
    "start_time": "2022-06-17T04:08:36.294Z"
   },
   {
    "duration": 19,
    "start_time": "2022-06-17T04:08:36.306Z"
   },
   {
    "duration": 5,
    "start_time": "2022-06-17T04:08:36.326Z"
   },
   {
    "duration": 56,
    "start_time": "2022-06-17T04:08:36.332Z"
   },
   {
    "duration": 103,
    "start_time": "2022-06-17T04:08:36.389Z"
   },
   {
    "duration": 56,
    "start_time": "2022-06-17T04:08:36.494Z"
   },
   {
    "duration": 83,
    "start_time": "2022-06-17T04:08:36.552Z"
   },
   {
    "duration": 16,
    "start_time": "2022-06-17T04:08:36.636Z"
   },
   {
    "duration": 25,
    "start_time": "2022-06-17T04:08:36.653Z"
   },
   {
    "duration": 10,
    "start_time": "2022-06-17T04:08:36.680Z"
   },
   {
    "duration": 40,
    "start_time": "2022-06-17T04:08:36.691Z"
   },
   {
    "duration": 14,
    "start_time": "2022-06-17T04:08:36.732Z"
   },
   {
    "duration": 16,
    "start_time": "2022-06-17T04:08:36.748Z"
   },
   {
    "duration": 20,
    "start_time": "2022-06-17T04:08:36.766Z"
   },
   {
    "duration": 19,
    "start_time": "2022-06-17T04:08:36.788Z"
   },
   {
    "duration": 14,
    "start_time": "2022-06-17T04:08:36.809Z"
   },
   {
    "duration": 17,
    "start_time": "2022-06-17T04:08:36.825Z"
   },
   {
    "duration": 22,
    "start_time": "2022-06-17T04:08:36.844Z"
   },
   {
    "duration": 20,
    "start_time": "2022-06-17T04:08:36.868Z"
   },
   {
    "duration": 13,
    "start_time": "2022-06-17T04:08:36.889Z"
   },
   {
    "duration": 18,
    "start_time": "2022-06-17T04:08:36.904Z"
   },
   {
    "duration": 25,
    "start_time": "2022-06-17T04:08:36.924Z"
   },
   {
    "duration": 24,
    "start_time": "2022-06-17T04:08:36.950Z"
   },
   {
    "duration": 4,
    "start_time": "2022-06-17T04:08:57.487Z"
   },
   {
    "duration": 5,
    "start_time": "2022-06-17T04:09:18.275Z"
   },
   {
    "duration": 4,
    "start_time": "2022-06-17T04:09:28.548Z"
   },
   {
    "duration": 4,
    "start_time": "2022-06-17T04:09:31.742Z"
   },
   {
    "duration": 10,
    "start_time": "2022-06-17T04:09:33.806Z"
   },
   {
    "duration": 6,
    "start_time": "2022-06-17T04:09:52.600Z"
   },
   {
    "duration": 12,
    "start_time": "2022-06-17T04:09:59.013Z"
   },
   {
    "duration": 5,
    "start_time": "2022-06-17T04:13:53.052Z"
   },
   {
    "duration": 6,
    "start_time": "2022-06-17T04:14:15.416Z"
   },
   {
    "duration": 16,
    "start_time": "2022-06-17T04:21:08.846Z"
   },
   {
    "duration": 11,
    "start_time": "2022-06-17T04:21:58.486Z"
   },
   {
    "duration": 13,
    "start_time": "2022-06-17T04:22:27.405Z"
   },
   {
    "duration": 14,
    "start_time": "2022-06-17T04:24:38.079Z"
   },
   {
    "duration": 19,
    "start_time": "2022-06-17T04:26:17.224Z"
   },
   {
    "duration": 15,
    "start_time": "2022-06-17T04:26:54.580Z"
   },
   {
    "duration": 10,
    "start_time": "2022-06-17T04:27:52.163Z"
   },
   {
    "duration": 39,
    "start_time": "2022-06-17T04:29:14.650Z"
   },
   {
    "duration": 76,
    "start_time": "2022-06-17T04:30:21.797Z"
   },
   {
    "duration": 64,
    "start_time": "2022-06-17T04:41:04.504Z"
   },
   {
    "duration": 18,
    "start_time": "2022-06-17T04:41:46.588Z"
   },
   {
    "duration": 9,
    "start_time": "2022-06-17T04:41:55.898Z"
   },
   {
    "duration": 10,
    "start_time": "2022-06-17T04:42:13.401Z"
   },
   {
    "duration": 23,
    "start_time": "2022-06-17T04:42:40.210Z"
   },
   {
    "duration": 8,
    "start_time": "2022-06-17T04:43:19.294Z"
   },
   {
    "duration": 8,
    "start_time": "2022-06-17T04:45:38.482Z"
   },
   {
    "duration": 70,
    "start_time": "2022-06-17T04:48:19.006Z"
   },
   {
    "duration": 123,
    "start_time": "2022-06-17T04:48:48.451Z"
   },
   {
    "duration": 45,
    "start_time": "2022-06-17T04:49:30.732Z"
   },
   {
    "duration": 117,
    "start_time": "2022-06-17T04:50:01.860Z"
   },
   {
    "duration": 41,
    "start_time": "2022-06-17T05:41:30.619Z"
   },
   {
    "duration": 31,
    "start_time": "2022-06-17T05:42:04.706Z"
   },
   {
    "duration": 55,
    "start_time": "2022-06-17T05:43:02.429Z"
   },
   {
    "duration": 55,
    "start_time": "2022-06-17T05:43:40.176Z"
   },
   {
    "duration": 32,
    "start_time": "2022-06-17T05:44:04.515Z"
   },
   {
    "duration": 30,
    "start_time": "2022-06-17T05:44:15.973Z"
   },
   {
    "duration": 23,
    "start_time": "2022-06-17T05:44:27.347Z"
   },
   {
    "duration": 68,
    "start_time": "2022-06-17T05:46:05.112Z"
   },
   {
    "duration": 16,
    "start_time": "2022-06-17T05:47:19.337Z"
   },
   {
    "duration": 16,
    "start_time": "2022-06-17T05:48:27.123Z"
   },
   {
    "duration": 14,
    "start_time": "2022-06-17T05:48:44.860Z"
   },
   {
    "duration": 24,
    "start_time": "2022-06-17T05:48:56.709Z"
   },
   {
    "duration": 6,
    "start_time": "2022-06-17T05:55:11.509Z"
   },
   {
    "duration": 16,
    "start_time": "2022-06-17T05:55:17.461Z"
   },
   {
    "duration": 10,
    "start_time": "2022-06-17T05:57:25.639Z"
   },
   {
    "duration": 7,
    "start_time": "2022-06-17T05:57:36.298Z"
   },
   {
    "duration": 20,
    "start_time": "2022-06-17T05:58:26.362Z"
   },
   {
    "duration": 22,
    "start_time": "2022-06-17T06:00:35.288Z"
   },
   {
    "duration": 21,
    "start_time": "2022-06-17T06:00:50.378Z"
   },
   {
    "duration": 21,
    "start_time": "2022-06-17T06:00:55.070Z"
   },
   {
    "duration": 13,
    "start_time": "2022-06-17T06:02:06.924Z"
   },
   {
    "duration": 12,
    "start_time": "2022-06-17T06:03:48.590Z"
   },
   {
    "duration": 23,
    "start_time": "2022-06-17T06:04:01.213Z"
   },
   {
    "duration": 19,
    "start_time": "2022-06-17T06:10:11.432Z"
   },
   {
    "duration": 7,
    "start_time": "2022-06-17T06:10:29.316Z"
   },
   {
    "duration": 19,
    "start_time": "2022-06-17T06:10:35.917Z"
   },
   {
    "duration": 16,
    "start_time": "2022-06-17T06:11:34.512Z"
   },
   {
    "duration": 26,
    "start_time": "2022-06-17T06:11:46.721Z"
   },
   {
    "duration": 24,
    "start_time": "2022-06-17T06:13:16.214Z"
   },
   {
    "duration": 12,
    "start_time": "2022-06-17T06:14:30.995Z"
   },
   {
    "duration": 23,
    "start_time": "2022-06-17T06:15:05.260Z"
   },
   {
    "duration": 27,
    "start_time": "2022-06-17T06:15:15.064Z"
   },
   {
    "duration": 25,
    "start_time": "2022-06-17T06:17:34.923Z"
   },
   {
    "duration": 24,
    "start_time": "2022-06-17T06:18:17.075Z"
   },
   {
    "duration": 35,
    "start_time": "2022-06-17T06:19:06.719Z"
   },
   {
    "duration": 420,
    "start_time": "2022-06-17T23:27:29.702Z"
   },
   {
    "duration": 3,
    "start_time": "2022-06-17T23:27:30.124Z"
   },
   {
    "duration": 395,
    "start_time": "2022-06-17T23:27:30.128Z"
   },
   {
    "duration": 3,
    "start_time": "2022-06-17T23:27:30.525Z"
   },
   {
    "duration": 508,
    "start_time": "2022-06-17T23:27:30.530Z"
   },
   {
    "duration": 83,
    "start_time": "2022-06-17T23:27:31.040Z"
   },
   {
    "duration": 367,
    "start_time": "2022-06-17T23:27:31.125Z"
   },
   {
    "duration": 145,
    "start_time": "2022-06-17T23:27:31.494Z"
   },
   {
    "duration": 209,
    "start_time": "2022-06-17T23:27:31.641Z"
   },
   {
    "duration": 49,
    "start_time": "2022-06-17T23:27:31.852Z"
   },
   {
    "duration": 23,
    "start_time": "2022-06-17T23:27:31.903Z"
   },
   {
    "duration": 14,
    "start_time": "2022-06-17T23:27:31.928Z"
   },
   {
    "duration": 25,
    "start_time": "2022-06-17T23:27:31.944Z"
   },
   {
    "duration": 32,
    "start_time": "2022-06-17T23:27:31.971Z"
   },
   {
    "duration": 16,
    "start_time": "2022-06-17T23:27:32.005Z"
   },
   {
    "duration": 15,
    "start_time": "2022-06-17T23:27:32.022Z"
   },
   {
    "duration": 10,
    "start_time": "2022-06-17T23:27:32.039Z"
   },
   {
    "duration": 44,
    "start_time": "2022-06-17T23:27:32.051Z"
   },
   {
    "duration": 14,
    "start_time": "2022-06-17T23:27:32.097Z"
   },
   {
    "duration": 10,
    "start_time": "2022-06-17T23:27:32.112Z"
   },
   {
    "duration": 17,
    "start_time": "2022-06-17T23:27:32.124Z"
   },
   {
    "duration": 11,
    "start_time": "2022-06-17T23:27:32.142Z"
   },
   {
    "duration": 49,
    "start_time": "2022-06-17T23:27:32.155Z"
   },
   {
    "duration": 15,
    "start_time": "2022-06-17T23:27:32.206Z"
   },
   {
    "duration": 13,
    "start_time": "2022-06-17T23:27:32.223Z"
   },
   {
    "duration": 10,
    "start_time": "2022-06-17T23:27:32.237Z"
   },
   {
    "duration": 14,
    "start_time": "2022-06-17T23:27:32.249Z"
   },
   {
    "duration": 37,
    "start_time": "2022-06-17T23:27:32.266Z"
   },
   {
    "duration": 10,
    "start_time": "2022-06-17T23:27:32.305Z"
   },
   {
    "duration": 8,
    "start_time": "2022-06-17T23:27:32.317Z"
   },
   {
    "duration": 10,
    "start_time": "2022-06-17T23:27:32.327Z"
   },
   {
    "duration": 8,
    "start_time": "2022-06-17T23:27:32.339Z"
   },
   {
    "duration": 14,
    "start_time": "2022-06-17T23:27:32.349Z"
   },
   {
    "duration": 15,
    "start_time": "2022-06-17T23:27:32.365Z"
   },
   {
    "duration": 25,
    "start_time": "2022-06-17T23:27:32.395Z"
   },
   {
    "duration": 18,
    "start_time": "2022-06-17T23:27:32.422Z"
   },
   {
    "duration": 32,
    "start_time": "2022-06-17T23:27:32.442Z"
   },
   {
    "duration": 27,
    "start_time": "2022-06-17T23:27:32.495Z"
   },
   {
    "duration": 25,
    "start_time": "2022-06-17T23:27:32.524Z"
   },
   {
    "duration": 63,
    "start_time": "2022-06-17T23:27:32.551Z"
   },
   {
    "duration": 17,
    "start_time": "2022-06-17T23:40:49.323Z"
   },
   {
    "duration": 23,
    "start_time": "2022-06-17T23:53:33.734Z"
   },
   {
    "duration": 3,
    "start_time": "2022-06-17T23:58:02.332Z"
   },
   {
    "duration": 19,
    "start_time": "2022-06-17T23:58:10.645Z"
   },
   {
    "duration": 8,
    "start_time": "2022-06-17T23:59:10.401Z"
   },
   {
    "duration": 20,
    "start_time": "2022-06-17T23:59:15.130Z"
   },
   {
    "duration": 4,
    "start_time": "2022-06-17T23:59:20.608Z"
   },
   {
    "duration": 18,
    "start_time": "2022-06-17T23:59:22.401Z"
   },
   {
    "duration": 9,
    "start_time": "2022-06-18T00:00:42.741Z"
   },
   {
    "duration": 4,
    "start_time": "2022-06-18T00:02:47.279Z"
   },
   {
    "duration": 24,
    "start_time": "2022-06-18T00:03:42.751Z"
   },
   {
    "duration": 12,
    "start_time": "2022-06-18T00:04:37.189Z"
   },
   {
    "duration": 24,
    "start_time": "2022-06-18T00:04:47.602Z"
   },
   {
    "duration": 354,
    "start_time": "2022-06-18T19:40:23.512Z"
   },
   {
    "duration": 2,
    "start_time": "2022-06-18T19:40:23.868Z"
   },
   {
    "duration": 375,
    "start_time": "2022-06-18T19:40:23.872Z"
   },
   {
    "duration": 3,
    "start_time": "2022-06-18T19:40:24.249Z"
   },
   {
    "duration": 432,
    "start_time": "2022-06-18T19:40:24.254Z"
   },
   {
    "duration": 81,
    "start_time": "2022-06-18T19:40:24.687Z"
   },
   {
    "duration": 330,
    "start_time": "2022-06-18T19:40:24.770Z"
   },
   {
    "duration": 165,
    "start_time": "2022-06-18T19:40:25.102Z"
   },
   {
    "duration": 207,
    "start_time": "2022-06-18T19:40:25.269Z"
   },
   {
    "duration": 57,
    "start_time": "2022-06-18T19:40:25.478Z"
   },
   {
    "duration": 21,
    "start_time": "2022-06-18T19:40:25.537Z"
   },
   {
    "duration": 14,
    "start_time": "2022-06-18T19:40:25.559Z"
   },
   {
    "duration": 22,
    "start_time": "2022-06-18T19:40:25.574Z"
   },
   {
    "duration": 14,
    "start_time": "2022-06-18T19:40:25.598Z"
   },
   {
    "duration": 15,
    "start_time": "2022-06-18T19:40:25.613Z"
   },
   {
    "duration": 15,
    "start_time": "2022-06-18T19:40:25.651Z"
   },
   {
    "duration": 8,
    "start_time": "2022-06-18T19:40:25.667Z"
   },
   {
    "duration": 24,
    "start_time": "2022-06-18T19:40:25.676Z"
   },
   {
    "duration": 11,
    "start_time": "2022-06-18T19:40:25.702Z"
   },
   {
    "duration": 37,
    "start_time": "2022-06-18T19:40:25.715Z"
   },
   {
    "duration": 17,
    "start_time": "2022-06-18T19:40:25.754Z"
   },
   {
    "duration": 11,
    "start_time": "2022-06-18T19:40:25.772Z"
   },
   {
    "duration": 20,
    "start_time": "2022-06-18T19:40:25.784Z"
   },
   {
    "duration": 14,
    "start_time": "2022-06-18T19:40:25.806Z"
   },
   {
    "duration": 37,
    "start_time": "2022-06-18T19:40:25.822Z"
   },
   {
    "duration": 10,
    "start_time": "2022-06-18T19:40:25.861Z"
   },
   {
    "duration": 12,
    "start_time": "2022-06-18T19:40:25.873Z"
   },
   {
    "duration": 9,
    "start_time": "2022-06-18T19:40:25.888Z"
   },
   {
    "duration": 5,
    "start_time": "2022-06-18T19:40:25.899Z"
   },
   {
    "duration": 7,
    "start_time": "2022-06-18T19:40:25.905Z"
   },
   {
    "duration": 38,
    "start_time": "2022-06-18T19:40:25.914Z"
   },
   {
    "duration": 8,
    "start_time": "2022-06-18T19:40:25.954Z"
   },
   {
    "duration": 12,
    "start_time": "2022-06-18T19:40:25.963Z"
   },
   {
    "duration": 13,
    "start_time": "2022-06-18T19:40:25.977Z"
   },
   {
    "duration": 23,
    "start_time": "2022-06-18T19:40:25.991Z"
   },
   {
    "duration": 48,
    "start_time": "2022-06-18T19:40:26.016Z"
   },
   {
    "duration": 29,
    "start_time": "2022-06-18T19:40:26.066Z"
   },
   {
    "duration": 7,
    "start_time": "2022-06-18T19:40:26.097Z"
   },
   {
    "duration": 4,
    "start_time": "2022-06-18T19:40:26.106Z"
   },
   {
    "duration": 10,
    "start_time": "2022-06-18T19:40:26.112Z"
   },
   {
    "duration": 33,
    "start_time": "2022-06-18T19:40:26.123Z"
   },
   {
    "duration": 27,
    "start_time": "2022-06-18T19:40:26.158Z"
   },
   {
    "duration": 10,
    "start_time": "2022-06-18T19:40:26.187Z"
   },
   {
    "duration": 25,
    "start_time": "2022-06-18T19:40:26.199Z"
   },
   {
    "duration": 10,
    "start_time": "2022-06-18T19:55:05.406Z"
   },
   {
    "duration": 4,
    "start_time": "2022-06-18T19:57:38.090Z"
   },
   {
    "duration": 45,
    "start_time": "2022-06-18T19:57:54.755Z"
   },
   {
    "duration": 20,
    "start_time": "2022-06-18T19:58:17.419Z"
   },
   {
    "duration": 30,
    "start_time": "2022-06-18T19:58:23.540Z"
   },
   {
    "duration": 5,
    "start_time": "2022-06-18T19:58:40.412Z"
   },
   {
    "duration": 10,
    "start_time": "2022-06-18T19:58:48.946Z"
   },
   {
    "duration": 6,
    "start_time": "2022-06-18T19:58:53.112Z"
   },
   {
    "duration": 5,
    "start_time": "2022-06-18T19:59:54.971Z"
   },
   {
    "duration": 6,
    "start_time": "2022-06-18T20:00:06.069Z"
   },
   {
    "duration": 6,
    "start_time": "2022-06-18T20:02:23.200Z"
   },
   {
    "duration": 10,
    "start_time": "2022-06-18T20:13:36.300Z"
   },
   {
    "duration": 17,
    "start_time": "2022-06-18T20:14:39.806Z"
   },
   {
    "duration": 3,
    "start_time": "2022-06-18T20:16:24.668Z"
   },
   {
    "duration": 6,
    "start_time": "2022-06-18T20:16:24.673Z"
   },
   {
    "duration": 6,
    "start_time": "2022-06-18T20:16:24.680Z"
   },
   {
    "duration": 4,
    "start_time": "2022-06-18T20:16:24.688Z"
   },
   {
    "duration": 6,
    "start_time": "2022-06-18T20:16:24.694Z"
   },
   {
    "duration": 38,
    "start_time": "2022-06-18T20:16:24.702Z"
   },
   {
    "duration": 121,
    "start_time": "2022-06-18T20:16:24.742Z"
   },
   {
    "duration": 54,
    "start_time": "2022-06-18T20:16:24.864Z"
   },
   {
    "duration": 84,
    "start_time": "2022-06-18T20:16:24.920Z"
   },
   {
    "duration": 18,
    "start_time": "2022-06-18T20:16:25.006Z"
   },
   {
    "duration": 17,
    "start_time": "2022-06-18T20:16:25.026Z"
   },
   {
    "duration": 26,
    "start_time": "2022-06-18T20:16:25.044Z"
   },
   {
    "duration": 25,
    "start_time": "2022-06-18T20:16:25.071Z"
   },
   {
    "duration": 13,
    "start_time": "2022-06-18T20:16:25.098Z"
   },
   {
    "duration": 14,
    "start_time": "2022-06-18T20:16:25.113Z"
   },
   {
    "duration": 13,
    "start_time": "2022-06-18T20:16:25.128Z"
   },
   {
    "duration": 16,
    "start_time": "2022-06-18T20:16:25.155Z"
   },
   {
    "duration": 36,
    "start_time": "2022-06-18T20:16:25.173Z"
   },
   {
    "duration": 23,
    "start_time": "2022-06-18T20:16:25.211Z"
   },
   {
    "duration": 13,
    "start_time": "2022-06-18T20:16:25.236Z"
   },
   {
    "duration": 44,
    "start_time": "2022-06-18T20:16:25.251Z"
   },
   {
    "duration": 14,
    "start_time": "2022-06-18T20:16:25.297Z"
   },
   {
    "duration": 24,
    "start_time": "2022-06-18T20:16:25.312Z"
   },
   {
    "duration": 33,
    "start_time": "2022-06-18T20:16:25.338Z"
   },
   {
    "duration": 17,
    "start_time": "2022-06-18T20:16:25.373Z"
   },
   {
    "duration": 12,
    "start_time": "2022-06-18T20:16:25.392Z"
   },
   {
    "duration": 13,
    "start_time": "2022-06-18T20:16:25.405Z"
   },
   {
    "duration": 10,
    "start_time": "2022-06-18T20:16:25.421Z"
   },
   {
    "duration": 22,
    "start_time": "2022-06-18T20:16:25.433Z"
   },
   {
    "duration": 26,
    "start_time": "2022-06-18T20:16:25.456Z"
   },
   {
    "duration": 11,
    "start_time": "2022-06-18T20:16:25.483Z"
   },
   {
    "duration": 13,
    "start_time": "2022-06-18T20:16:25.495Z"
   },
   {
    "duration": 14,
    "start_time": "2022-06-18T20:16:25.510Z"
   },
   {
    "duration": 19,
    "start_time": "2022-06-18T20:18:07.101Z"
   },
   {
    "duration": 23,
    "start_time": "2022-06-18T20:18:09.644Z"
   },
   {
    "duration": 36,
    "start_time": "2022-06-18T20:18:14.171Z"
   },
   {
    "duration": 10,
    "start_time": "2022-06-18T20:18:43.091Z"
   },
   {
    "duration": 12,
    "start_time": "2022-06-18T20:19:00.269Z"
   },
   {
    "duration": 13,
    "start_time": "2022-06-18T20:19:13.201Z"
   },
   {
    "duration": 32,
    "start_time": "2022-06-18T20:21:30.149Z"
   },
   {
    "duration": 32,
    "start_time": "2022-06-18T20:22:41.524Z"
   },
   {
    "duration": 2,
    "start_time": "2022-06-18T20:23:41.327Z"
   },
   {
    "duration": 6,
    "start_time": "2022-06-18T20:23:41.331Z"
   },
   {
    "duration": 6,
    "start_time": "2022-06-18T20:23:41.338Z"
   },
   {
    "duration": 5,
    "start_time": "2022-06-18T20:23:41.346Z"
   },
   {
    "duration": 20,
    "start_time": "2022-06-18T20:23:41.353Z"
   },
   {
    "duration": 44,
    "start_time": "2022-06-18T20:23:41.375Z"
   },
   {
    "duration": 111,
    "start_time": "2022-06-18T20:23:41.421Z"
   },
   {
    "duration": 66,
    "start_time": "2022-06-18T20:23:41.533Z"
   },
   {
    "duration": 86,
    "start_time": "2022-06-18T20:23:41.601Z"
   },
   {
    "duration": 15,
    "start_time": "2022-06-18T20:23:41.689Z"
   },
   {
    "duration": 19,
    "start_time": "2022-06-18T20:23:41.706Z"
   },
   {
    "duration": 12,
    "start_time": "2022-06-18T20:23:41.727Z"
   },
   {
    "duration": 26,
    "start_time": "2022-06-18T20:23:41.754Z"
   },
   {
    "duration": 16,
    "start_time": "2022-06-18T20:23:41.782Z"
   },
   {
    "duration": 15,
    "start_time": "2022-06-18T20:23:41.800Z"
   },
   {
    "duration": 44,
    "start_time": "2022-06-18T20:23:41.817Z"
   },
   {
    "duration": 10,
    "start_time": "2022-06-18T20:23:41.867Z"
   },
   {
    "duration": 14,
    "start_time": "2022-06-18T20:23:41.879Z"
   },
   {
    "duration": 12,
    "start_time": "2022-06-18T20:23:41.895Z"
   },
   {
    "duration": 12,
    "start_time": "2022-06-18T20:23:41.909Z"
   },
   {
    "duration": 41,
    "start_time": "2022-06-18T20:23:41.923Z"
   },
   {
    "duration": 11,
    "start_time": "2022-06-18T20:23:41.969Z"
   },
   {
    "duration": 19,
    "start_time": "2022-06-18T20:23:41.982Z"
   },
   {
    "duration": 20,
    "start_time": "2022-06-18T20:23:42.003Z"
   },
   {
    "duration": 28,
    "start_time": "2022-06-18T20:23:42.025Z"
   },
   {
    "duration": 14,
    "start_time": "2022-06-18T20:23:42.058Z"
   },
   {
    "duration": 16,
    "start_time": "2022-06-18T20:23:42.074Z"
   },
   {
    "duration": 16,
    "start_time": "2022-06-18T20:23:42.092Z"
   },
   {
    "duration": 5,
    "start_time": "2022-06-18T20:23:42.110Z"
   },
   {
    "duration": 8,
    "start_time": "2022-06-18T20:23:42.117Z"
   },
   {
    "duration": 43,
    "start_time": "2022-06-18T20:23:42.126Z"
   },
   {
    "duration": 4,
    "start_time": "2022-06-18T20:23:42.172Z"
   },
   {
    "duration": 14,
    "start_time": "2022-06-18T20:23:42.178Z"
   },
   {
    "duration": 21,
    "start_time": "2022-06-18T20:23:42.193Z"
   },
   {
    "duration": 15,
    "start_time": "2022-06-18T20:23:42.216Z"
   },
   {
    "duration": 40,
    "start_time": "2022-06-18T20:23:42.233Z"
   },
   {
    "duration": 11,
    "start_time": "2022-06-18T20:23:42.275Z"
   },
   {
    "duration": 13,
    "start_time": "2022-06-18T20:23:42.287Z"
   },
   {
    "duration": 15,
    "start_time": "2022-06-18T20:23:42.303Z"
   },
   {
    "duration": 57,
    "start_time": "2022-06-18T20:23:42.319Z"
   },
   {
    "duration": 97,
    "start_time": "2022-06-18T20:24:10.003Z"
   },
   {
    "duration": 2,
    "start_time": "2022-06-18T20:25:25.708Z"
   },
   {
    "duration": 7,
    "start_time": "2022-06-18T20:25:25.712Z"
   },
   {
    "duration": 9,
    "start_time": "2022-06-18T20:25:25.721Z"
   },
   {
    "duration": 6,
    "start_time": "2022-06-18T20:25:25.731Z"
   },
   {
    "duration": 9,
    "start_time": "2022-06-18T20:25:25.739Z"
   },
   {
    "duration": 55,
    "start_time": "2022-06-18T20:25:25.749Z"
   },
   {
    "duration": 108,
    "start_time": "2022-06-18T20:25:25.806Z"
   },
   {
    "duration": 63,
    "start_time": "2022-06-18T20:25:25.916Z"
   },
   {
    "duration": 88,
    "start_time": "2022-06-18T20:25:25.981Z"
   },
   {
    "duration": 15,
    "start_time": "2022-06-18T20:25:26.073Z"
   },
   {
    "duration": 18,
    "start_time": "2022-06-18T20:25:26.089Z"
   },
   {
    "duration": 11,
    "start_time": "2022-06-18T20:25:26.109Z"
   },
   {
    "duration": 38,
    "start_time": "2022-06-18T20:25:26.122Z"
   },
   {
    "duration": 16,
    "start_time": "2022-06-18T20:25:26.169Z"
   },
   {
    "duration": 27,
    "start_time": "2022-06-18T20:25:26.187Z"
   },
   {
    "duration": 14,
    "start_time": "2022-06-18T20:25:26.216Z"
   },
   {
    "duration": 9,
    "start_time": "2022-06-18T20:25:26.232Z"
   },
   {
    "duration": 29,
    "start_time": "2022-06-18T20:25:26.243Z"
   },
   {
    "duration": 19,
    "start_time": "2022-06-18T20:25:26.274Z"
   },
   {
    "duration": 12,
    "start_time": "2022-06-18T20:25:26.296Z"
   },
   {
    "duration": 49,
    "start_time": "2022-06-18T20:25:26.310Z"
   },
   {
    "duration": 11,
    "start_time": "2022-06-18T20:25:26.367Z"
   },
   {
    "duration": 19,
    "start_time": "2022-06-18T20:25:26.380Z"
   },
   {
    "duration": 13,
    "start_time": "2022-06-18T20:25:26.402Z"
   },
   {
    "duration": 15,
    "start_time": "2022-06-18T20:25:26.418Z"
   },
   {
    "duration": 35,
    "start_time": "2022-06-18T20:25:26.435Z"
   },
   {
    "duration": 12,
    "start_time": "2022-06-18T20:25:26.472Z"
   },
   {
    "duration": 11,
    "start_time": "2022-06-18T20:25:26.486Z"
   },
   {
    "duration": 5,
    "start_time": "2022-06-18T20:25:26.499Z"
   },
   {
    "duration": 6,
    "start_time": "2022-06-18T20:25:26.506Z"
   },
   {
    "duration": 6,
    "start_time": "2022-06-18T20:25:26.514Z"
   },
   {
    "duration": 17,
    "start_time": "2022-06-18T20:25:26.521Z"
   },
   {
    "duration": 27,
    "start_time": "2022-06-18T20:25:26.540Z"
   },
   {
    "duration": 17,
    "start_time": "2022-06-18T20:25:26.572Z"
   },
   {
    "duration": 15,
    "start_time": "2022-06-18T20:25:26.590Z"
   },
   {
    "duration": 50,
    "start_time": "2022-06-18T20:25:26.607Z"
   },
   {
    "duration": 13,
    "start_time": "2022-06-18T20:25:26.659Z"
   },
   {
    "duration": 15,
    "start_time": "2022-06-18T20:25:26.674Z"
   },
   {
    "duration": 22,
    "start_time": "2022-06-18T20:25:26.692Z"
   },
   {
    "duration": 23,
    "start_time": "2022-06-18T20:25:40.990Z"
   },
   {
    "duration": 35,
    "start_time": "2022-06-18T20:26:07.767Z"
   },
   {
    "duration": 30,
    "start_time": "2022-06-18T20:27:30.855Z"
   },
   {
    "duration": 15,
    "start_time": "2022-06-18T20:29:15.264Z"
   },
   {
    "duration": 14,
    "start_time": "2022-06-18T20:36:08.094Z"
   },
   {
    "duration": 25,
    "start_time": "2022-06-18T20:36:56.306Z"
   },
   {
    "duration": 37,
    "start_time": "2022-06-18T20:37:38.140Z"
   },
   {
    "duration": 24,
    "start_time": "2022-06-18T20:38:14.620Z"
   },
   {
    "duration": 31,
    "start_time": "2022-06-18T20:39:52.074Z"
   },
   {
    "duration": 22,
    "start_time": "2022-06-18T20:40:04.315Z"
   },
   {
    "duration": 10,
    "start_time": "2022-06-18T20:40:10.958Z"
   },
   {
    "duration": 3,
    "start_time": "2022-06-18T20:40:29.261Z"
   },
   {
    "duration": 6,
    "start_time": "2022-06-18T20:40:29.266Z"
   },
   {
    "duration": 6,
    "start_time": "2022-06-18T20:40:29.274Z"
   },
   {
    "duration": 4,
    "start_time": "2022-06-18T20:40:29.283Z"
   },
   {
    "duration": 5,
    "start_time": "2022-06-18T20:40:29.288Z"
   },
   {
    "duration": 39,
    "start_time": "2022-06-18T20:40:29.296Z"
   },
   {
    "duration": 104,
    "start_time": "2022-06-18T20:40:29.336Z"
   },
   {
    "duration": 56,
    "start_time": "2022-06-18T20:40:29.441Z"
   },
   {
    "duration": 82,
    "start_time": "2022-06-18T20:40:29.498Z"
   },
   {
    "duration": 15,
    "start_time": "2022-06-18T20:40:29.583Z"
   },
   {
    "duration": 20,
    "start_time": "2022-06-18T20:40:29.599Z"
   },
   {
    "duration": 11,
    "start_time": "2022-06-18T20:40:29.620Z"
   },
   {
    "duration": 32,
    "start_time": "2022-06-18T20:40:29.632Z"
   },
   {
    "duration": 14,
    "start_time": "2022-06-18T20:40:29.666Z"
   },
   {
    "duration": 15,
    "start_time": "2022-06-18T20:40:29.681Z"
   },
   {
    "duration": 14,
    "start_time": "2022-06-18T20:40:29.698Z"
   },
   {
    "duration": 8,
    "start_time": "2022-06-18T20:40:29.713Z"
   },
   {
    "duration": 16,
    "start_time": "2022-06-18T20:40:29.752Z"
   },
   {
    "duration": 13,
    "start_time": "2022-06-18T20:40:29.769Z"
   },
   {
    "duration": 10,
    "start_time": "2022-06-18T20:40:29.784Z"
   },
   {
    "duration": 16,
    "start_time": "2022-06-18T20:40:29.795Z"
   },
   {
    "duration": 44,
    "start_time": "2022-06-18T20:40:29.813Z"
   },
   {
    "duration": 19,
    "start_time": "2022-06-18T20:40:29.859Z"
   },
   {
    "duration": 14,
    "start_time": "2022-06-18T20:40:29.879Z"
   },
   {
    "duration": 11,
    "start_time": "2022-06-18T20:40:29.895Z"
   },
   {
    "duration": 11,
    "start_time": "2022-06-18T20:40:29.908Z"
   },
   {
    "duration": 35,
    "start_time": "2022-06-18T20:40:29.920Z"
   },
   {
    "duration": 10,
    "start_time": "2022-06-18T20:40:29.959Z"
   },
   {
    "duration": 7,
    "start_time": "2022-06-18T20:40:29.971Z"
   },
   {
    "duration": 8,
    "start_time": "2022-06-18T20:40:29.979Z"
   },
   {
    "duration": 7,
    "start_time": "2022-06-18T20:40:29.989Z"
   },
   {
    "duration": 7,
    "start_time": "2022-06-18T20:40:29.998Z"
   },
   {
    "duration": 26,
    "start_time": "2022-06-18T20:40:30.008Z"
   },
   {
    "duration": 22,
    "start_time": "2022-06-18T20:40:30.052Z"
   },
   {
    "duration": 15,
    "start_time": "2022-06-18T20:40:30.076Z"
   },
   {
    "duration": 21,
    "start_time": "2022-06-18T20:40:30.093Z"
   },
   {
    "duration": 10,
    "start_time": "2022-06-18T20:40:30.116Z"
   },
   {
    "duration": 11,
    "start_time": "2022-06-18T20:40:30.153Z"
   },
   {
    "duration": 16,
    "start_time": "2022-06-18T20:40:30.166Z"
   },
   {
    "duration": 37,
    "start_time": "2022-06-18T20:40:30.184Z"
   },
   {
    "duration": 25,
    "start_time": "2022-06-18T20:40:43.747Z"
   },
   {
    "duration": 28,
    "start_time": "2022-06-18T20:40:53.541Z"
   },
   {
    "duration": 19,
    "start_time": "2022-06-18T20:41:00.344Z"
   },
   {
    "duration": 25,
    "start_time": "2022-06-18T20:41:27.582Z"
   },
   {
    "duration": 2,
    "start_time": "2022-06-18T20:43:05.068Z"
   },
   {
    "duration": 6,
    "start_time": "2022-06-18T20:43:05.073Z"
   },
   {
    "duration": 6,
    "start_time": "2022-06-18T20:43:05.081Z"
   },
   {
    "duration": 5,
    "start_time": "2022-06-18T20:43:05.089Z"
   },
   {
    "duration": 6,
    "start_time": "2022-06-18T20:43:05.096Z"
   },
   {
    "duration": 43,
    "start_time": "2022-06-18T20:43:05.103Z"
   },
   {
    "duration": 154,
    "start_time": "2022-06-18T20:43:05.148Z"
   },
   {
    "duration": 55,
    "start_time": "2022-06-18T20:43:05.304Z"
   },
   {
    "duration": 80,
    "start_time": "2022-06-18T20:43:05.362Z"
   },
   {
    "duration": 16,
    "start_time": "2022-06-18T20:43:05.443Z"
   },
   {
    "duration": 17,
    "start_time": "2022-06-18T20:43:05.460Z"
   },
   {
    "duration": 11,
    "start_time": "2022-06-18T20:43:05.479Z"
   },
   {
    "duration": 20,
    "start_time": "2022-06-18T20:43:05.491Z"
   },
   {
    "duration": 40,
    "start_time": "2022-06-18T20:43:05.513Z"
   },
   {
    "duration": 20,
    "start_time": "2022-06-18T20:43:05.555Z"
   },
   {
    "duration": 19,
    "start_time": "2022-06-18T20:43:05.577Z"
   },
   {
    "duration": 8,
    "start_time": "2022-06-18T20:43:05.598Z"
   },
   {
    "duration": 16,
    "start_time": "2022-06-18T20:43:05.608Z"
   },
   {
    "duration": 35,
    "start_time": "2022-06-18T20:43:05.625Z"
   },
   {
    "duration": 11,
    "start_time": "2022-06-18T20:43:05.661Z"
   },
   {
    "duration": 17,
    "start_time": "2022-06-18T20:43:05.673Z"
   },
   {
    "duration": 11,
    "start_time": "2022-06-18T20:43:05.692Z"
   },
   {
    "duration": 65,
    "start_time": "2022-06-18T20:43:05.705Z"
   },
   {
    "duration": 15,
    "start_time": "2022-06-18T20:43:05.774Z"
   },
   {
    "duration": 12,
    "start_time": "2022-06-18T20:43:05.791Z"
   },
   {
    "duration": 10,
    "start_time": "2022-06-18T20:43:05.805Z"
   },
   {
    "duration": 35,
    "start_time": "2022-06-18T20:43:05.817Z"
   },
   {
    "duration": 10,
    "start_time": "2022-06-18T20:43:05.854Z"
   },
   {
    "duration": 7,
    "start_time": "2022-06-18T20:43:05.865Z"
   },
   {
    "duration": 10,
    "start_time": "2022-06-18T20:43:05.874Z"
   },
   {
    "duration": 11,
    "start_time": "2022-06-18T20:43:05.885Z"
   },
   {
    "duration": 11,
    "start_time": "2022-06-18T20:43:05.898Z"
   },
   {
    "duration": 20,
    "start_time": "2022-06-18T20:43:05.911Z"
   },
   {
    "duration": 26,
    "start_time": "2022-06-18T20:43:05.932Z"
   },
   {
    "duration": 15,
    "start_time": "2022-06-18T20:43:05.959Z"
   },
   {
    "duration": 24,
    "start_time": "2022-06-18T20:43:05.976Z"
   },
   {
    "duration": 8,
    "start_time": "2022-06-18T20:43:15.954Z"
   },
   {
    "duration": 8,
    "start_time": "2022-06-18T20:43:28.265Z"
   },
   {
    "duration": 8,
    "start_time": "2022-06-18T20:43:40.951Z"
   },
   {
    "duration": 13,
    "start_time": "2022-06-18T20:43:45.923Z"
   },
   {
    "duration": 24,
    "start_time": "2022-06-18T20:44:06.236Z"
   },
   {
    "duration": 6,
    "start_time": "2022-06-18T20:46:10.384Z"
   },
   {
    "duration": 9,
    "start_time": "2022-06-18T20:46:34.985Z"
   },
   {
    "duration": 5,
    "start_time": "2022-06-18T20:48:46.502Z"
   },
   {
    "duration": 4,
    "start_time": "2022-06-18T20:51:16.616Z"
   },
   {
    "duration": 13,
    "start_time": "2022-06-18T21:48:42.515Z"
   },
   {
    "duration": 5,
    "start_time": "2022-06-18T21:59:44.086Z"
   },
   {
    "duration": 5,
    "start_time": "2022-06-18T22:00:19.918Z"
   },
   {
    "duration": 13,
    "start_time": "2022-06-18T22:00:45.520Z"
   },
   {
    "duration": 34,
    "start_time": "2022-06-18T22:06:28.082Z"
   },
   {
    "duration": 4,
    "start_time": "2022-06-18T22:07:01.166Z"
   },
   {
    "duration": 19,
    "start_time": "2022-06-18T22:07:07.259Z"
   },
   {
    "duration": 32,
    "start_time": "2022-06-18T22:10:39.677Z"
   },
   {
    "duration": 4,
    "start_time": "2022-06-18T22:11:44.439Z"
   },
   {
    "duration": 12,
    "start_time": "2022-06-18T22:11:46.957Z"
   },
   {
    "duration": 4,
    "start_time": "2022-06-18T22:12:38.165Z"
   },
   {
    "duration": 16,
    "start_time": "2022-06-18T22:12:40.321Z"
   },
   {
    "duration": 4,
    "start_time": "2022-06-18T22:13:27.347Z"
   },
   {
    "duration": 3,
    "start_time": "2022-06-18T22:13:30.373Z"
   },
   {
    "duration": 4,
    "start_time": "2022-06-18T22:13:56.339Z"
   },
   {
    "duration": 12,
    "start_time": "2022-06-18T22:13:58.428Z"
   },
   {
    "duration": 4,
    "start_time": "2022-06-18T22:14:40.930Z"
   },
   {
    "duration": 4,
    "start_time": "2022-06-18T22:14:43.730Z"
   },
   {
    "duration": 4,
    "start_time": "2022-06-18T22:14:55.721Z"
   },
   {
    "duration": 7,
    "start_time": "2022-06-18T22:14:59.503Z"
   },
   {
    "duration": 4,
    "start_time": "2022-06-18T22:15:33.868Z"
   },
   {
    "duration": 4,
    "start_time": "2022-06-18T22:16:24.051Z"
   },
   {
    "duration": 11,
    "start_time": "2022-06-18T22:16:26.771Z"
   },
   {
    "duration": 6,
    "start_time": "2022-06-18T22:16:45.404Z"
   },
   {
    "duration": 3,
    "start_time": "2022-06-18T22:16:48.472Z"
   },
   {
    "duration": 24,
    "start_time": "2022-06-18T22:16:58.341Z"
   },
   {
    "duration": 4,
    "start_time": "2022-06-18T22:17:02.724Z"
   },
   {
    "duration": 12,
    "start_time": "2022-06-18T22:17:05.324Z"
   },
   {
    "duration": 4,
    "start_time": "2022-06-18T22:21:05.711Z"
   },
   {
    "duration": 9,
    "start_time": "2022-06-18T22:21:07.948Z"
   },
   {
    "duration": 3,
    "start_time": "2022-06-18T22:22:08.600Z"
   },
   {
    "duration": 12,
    "start_time": "2022-06-18T22:22:10.876Z"
   },
   {
    "duration": 5,
    "start_time": "2022-06-18T22:22:50.583Z"
   },
   {
    "duration": 15,
    "start_time": "2022-06-18T22:22:52.945Z"
   },
   {
    "duration": 28,
    "start_time": "2022-06-18T22:26:53.977Z"
   },
   {
    "duration": 36,
    "start_time": "2022-06-18T22:27:15.907Z"
   },
   {
    "duration": 34,
    "start_time": "2022-06-18T22:28:58.467Z"
   },
   {
    "duration": 20,
    "start_time": "2022-06-18T22:29:28.896Z"
   },
   {
    "duration": 36,
    "start_time": "2022-06-18T22:30:04.585Z"
   },
   {
    "duration": 8,
    "start_time": "2022-06-18T22:31:05.418Z"
   },
   {
    "duration": 10,
    "start_time": "2022-06-18T22:31:12.646Z"
   },
   {
    "duration": 4,
    "start_time": "2022-06-18T22:33:32.741Z"
   },
   {
    "duration": 4,
    "start_time": "2022-06-18T22:33:50.494Z"
   },
   {
    "duration": 3,
    "start_time": "2022-06-18T22:34:08.979Z"
   },
   {
    "duration": 4,
    "start_time": "2022-06-18T22:34:12.110Z"
   },
   {
    "duration": 31,
    "start_time": "2022-06-18T22:35:18.096Z"
   },
   {
    "duration": 4,
    "start_time": "2022-06-18T22:35:22.836Z"
   },
   {
    "duration": 6,
    "start_time": "2022-06-18T22:35:25.194Z"
   },
   {
    "duration": 5,
    "start_time": "2022-06-18T22:38:20.167Z"
   },
   {
    "duration": 5,
    "start_time": "2022-06-18T22:39:49.319Z"
   },
   {
    "duration": 306,
    "start_time": "2022-06-18T22:44:45.984Z"
   },
   {
    "duration": 65,
    "start_time": "2022-06-18T22:46:40.736Z"
   },
   {
    "duration": 31,
    "start_time": "2022-06-18T22:46:47.510Z"
   },
   {
    "duration": 2,
    "start_time": "2022-06-18T22:47:53.884Z"
   },
   {
    "duration": 31,
    "start_time": "2022-06-18T22:48:10.269Z"
   },
   {
    "duration": 8,
    "start_time": "2022-06-18T22:48:47.833Z"
   },
   {
    "duration": 4,
    "start_time": "2022-06-18T22:50:14.787Z"
   },
   {
    "duration": 5,
    "start_time": "2022-06-18T22:50:17.197Z"
   },
   {
    "duration": 72,
    "start_time": "2022-06-18T22:50:20.060Z"
   },
   {
    "duration": 36,
    "start_time": "2022-06-18T22:50:23.432Z"
   },
   {
    "duration": 9,
    "start_time": "2022-06-18T22:50:36.979Z"
   },
   {
    "duration": 4,
    "start_time": "2022-06-18T22:51:04.868Z"
   },
   {
    "duration": 4,
    "start_time": "2022-06-18T22:56:20.212Z"
   },
   {
    "duration": 4,
    "start_time": "2022-06-18T22:56:25.917Z"
   },
   {
    "duration": 8,
    "start_time": "2022-06-18T23:00:16.410Z"
   },
   {
    "duration": 8,
    "start_time": "2022-06-18T23:00:24.649Z"
   },
   {
    "duration": 3,
    "start_time": "2022-06-18T23:05:51.189Z"
   },
   {
    "duration": 4,
    "start_time": "2022-06-18T23:06:00.494Z"
   },
   {
    "duration": 3,
    "start_time": "2022-06-18T23:06:04.532Z"
   },
   {
    "duration": 8,
    "start_time": "2022-06-18T23:06:23.385Z"
   },
   {
    "duration": 4,
    "start_time": "2022-06-18T23:07:23.927Z"
   },
   {
    "duration": 4,
    "start_time": "2022-06-18T23:07:37.599Z"
   },
   {
    "duration": 3,
    "start_time": "2022-06-18T23:09:50.050Z"
   },
   {
    "duration": 4,
    "start_time": "2022-06-18T23:10:16.403Z"
   },
   {
    "duration": 5,
    "start_time": "2022-06-18T23:10:34.969Z"
   },
   {
    "duration": 5,
    "start_time": "2022-06-18T23:10:37.155Z"
   },
   {
    "duration": 69,
    "start_time": "2022-06-18T23:10:54.945Z"
   },
   {
    "duration": 28,
    "start_time": "2022-06-18T23:10:57.461Z"
   },
   {
    "duration": 9,
    "start_time": "2022-06-18T23:11:52.409Z"
   },
   {
    "duration": 2,
    "start_time": "2022-06-18T23:14:09.594Z"
   },
   {
    "duration": 18,
    "start_time": "2022-06-18T23:14:09.598Z"
   },
   {
    "duration": 14,
    "start_time": "2022-06-18T23:14:09.618Z"
   },
   {
    "duration": 18,
    "start_time": "2022-06-18T23:14:09.634Z"
   },
   {
    "duration": 17,
    "start_time": "2022-06-18T23:14:09.654Z"
   },
   {
    "duration": 41,
    "start_time": "2022-06-18T23:14:09.673Z"
   },
   {
    "duration": 100,
    "start_time": "2022-06-18T23:14:09.716Z"
   },
   {
    "duration": 54,
    "start_time": "2022-06-18T23:14:09.818Z"
   },
   {
    "duration": 81,
    "start_time": "2022-06-18T23:14:09.874Z"
   },
   {
    "duration": 16,
    "start_time": "2022-06-18T23:14:09.956Z"
   },
   {
    "duration": 2,
    "start_time": "2022-06-18T23:14:09.974Z"
   },
   {
    "duration": 27,
    "start_time": "2022-06-18T23:14:09.978Z"
   },
   {
    "duration": 13,
    "start_time": "2022-06-18T23:14:10.006Z"
   },
   {
    "duration": 24,
    "start_time": "2022-06-18T23:14:10.021Z"
   },
   {
    "duration": 16,
    "start_time": "2022-06-18T23:14:10.047Z"
   },
   {
    "duration": 20,
    "start_time": "2022-06-18T23:14:10.064Z"
   },
   {
    "duration": 12,
    "start_time": "2022-06-18T23:14:10.086Z"
   },
   {
    "duration": 12,
    "start_time": "2022-06-18T23:14:10.100Z"
   },
   {
    "duration": 18,
    "start_time": "2022-06-18T23:14:10.113Z"
   },
   {
    "duration": 42,
    "start_time": "2022-06-18T23:14:10.133Z"
   },
   {
    "duration": 12,
    "start_time": "2022-06-18T23:14:10.176Z"
   },
   {
    "duration": 21,
    "start_time": "2022-06-18T23:14:10.190Z"
   },
   {
    "duration": 10,
    "start_time": "2022-06-18T23:14:10.212Z"
   },
   {
    "duration": 28,
    "start_time": "2022-06-18T23:14:10.223Z"
   },
   {
    "duration": 24,
    "start_time": "2022-06-18T23:14:10.252Z"
   },
   {
    "duration": 12,
    "start_time": "2022-06-18T23:14:10.278Z"
   },
   {
    "duration": 10,
    "start_time": "2022-06-18T23:14:10.292Z"
   },
   {
    "duration": 31,
    "start_time": "2022-06-18T23:14:10.304Z"
   },
   {
    "duration": 15,
    "start_time": "2022-06-18T23:14:10.339Z"
   },
   {
    "duration": 30,
    "start_time": "2022-06-18T23:14:10.355Z"
   },
   {
    "duration": 18,
    "start_time": "2022-06-18T23:14:10.386Z"
   },
   {
    "duration": 22,
    "start_time": "2022-06-18T23:14:10.405Z"
   },
   {
    "duration": 30,
    "start_time": "2022-06-18T23:14:10.429Z"
   },
   {
    "duration": 16,
    "start_time": "2022-06-18T23:14:10.460Z"
   },
   {
    "duration": 24,
    "start_time": "2022-06-18T23:14:10.478Z"
   },
   {
    "duration": 16,
    "start_time": "2022-06-18T23:14:10.503Z"
   },
   {
    "duration": 24,
    "start_time": "2022-06-18T23:14:10.520Z"
   },
   {
    "duration": 9,
    "start_time": "2022-06-18T23:14:10.552Z"
   },
   {
    "duration": 21,
    "start_time": "2022-06-18T23:14:10.562Z"
   },
   {
    "duration": 13,
    "start_time": "2022-06-18T23:14:10.585Z"
   },
   {
    "duration": 18,
    "start_time": "2022-06-18T23:14:10.600Z"
   },
   {
    "duration": 4,
    "start_time": "2022-06-18T23:14:10.619Z"
   },
   {
    "duration": 30,
    "start_time": "2022-06-18T23:14:10.624Z"
   },
   {
    "duration": 23,
    "start_time": "2022-06-18T23:14:10.655Z"
   },
   {
    "duration": 21,
    "start_time": "2022-06-18T23:14:10.679Z"
   },
   {
    "duration": 20,
    "start_time": "2022-06-18T23:14:10.702Z"
   },
   {
    "duration": 63,
    "start_time": "2022-06-18T23:14:10.723Z"
   },
   {
    "duration": 27,
    "start_time": "2022-06-18T23:14:10.788Z"
   },
   {
    "duration": 7,
    "start_time": "2022-06-18T23:14:10.817Z"
   },
   {
    "duration": 381,
    "start_time": "2022-06-19T18:03:56.090Z"
   },
   {
    "duration": 3,
    "start_time": "2022-06-19T18:03:56.473Z"
   },
   {
    "duration": 416,
    "start_time": "2022-06-19T18:03:56.478Z"
   },
   {
    "duration": 3,
    "start_time": "2022-06-19T18:03:56.897Z"
   },
   {
    "duration": 494,
    "start_time": "2022-06-19T18:03:56.902Z"
   },
   {
    "duration": 72,
    "start_time": "2022-06-19T18:03:57.399Z"
   },
   {
    "duration": 168,
    "start_time": "2022-06-19T18:03:57.473Z"
   },
   {
    "duration": 172,
    "start_time": "2022-06-19T18:03:57.642Z"
   },
   {
    "duration": 251,
    "start_time": "2022-06-19T18:03:57.816Z"
   },
   {
    "duration": 56,
    "start_time": "2022-06-19T18:03:58.070Z"
   },
   {
    "duration": 3,
    "start_time": "2022-06-19T18:03:58.127Z"
   },
   {
    "duration": 21,
    "start_time": "2022-06-19T18:03:58.132Z"
   },
   {
    "duration": 13,
    "start_time": "2022-06-19T18:03:58.154Z"
   },
   {
    "duration": 23,
    "start_time": "2022-06-19T18:03:58.169Z"
   },
   {
    "duration": 15,
    "start_time": "2022-06-19T18:03:58.193Z"
   },
   {
    "duration": 35,
    "start_time": "2022-06-19T18:03:58.209Z"
   },
   {
    "duration": 15,
    "start_time": "2022-06-19T18:03:58.246Z"
   },
   {
    "duration": 13,
    "start_time": "2022-06-19T18:03:58.262Z"
   },
   {
    "duration": 13,
    "start_time": "2022-06-19T18:03:58.277Z"
   },
   {
    "duration": 13,
    "start_time": "2022-06-19T18:03:58.291Z"
   },
   {
    "duration": 37,
    "start_time": "2022-06-19T18:03:58.305Z"
   },
   {
    "duration": 18,
    "start_time": "2022-06-19T18:03:58.343Z"
   },
   {
    "duration": 9,
    "start_time": "2022-06-19T18:03:58.362Z"
   },
   {
    "duration": 22,
    "start_time": "2022-06-19T18:03:58.372Z"
   },
   {
    "duration": 13,
    "start_time": "2022-06-19T18:03:58.396Z"
   },
   {
    "duration": 34,
    "start_time": "2022-06-19T18:03:58.411Z"
   },
   {
    "duration": 10,
    "start_time": "2022-06-19T18:03:58.447Z"
   },
   {
    "duration": 10,
    "start_time": "2022-06-19T18:03:58.460Z"
   },
   {
    "duration": 12,
    "start_time": "2022-06-19T18:03:58.472Z"
   },
   {
    "duration": 3,
    "start_time": "2022-06-19T18:03:58.486Z"
   },
   {
    "duration": 6,
    "start_time": "2022-06-19T18:03:58.491Z"
   },
   {
    "duration": 6,
    "start_time": "2022-06-19T18:03:58.498Z"
   },
   {
    "duration": 36,
    "start_time": "2022-06-19T18:03:58.506Z"
   },
   {
    "duration": 13,
    "start_time": "2022-06-19T18:03:58.544Z"
   },
   {
    "duration": 23,
    "start_time": "2022-06-19T18:03:58.558Z"
   },
   {
    "duration": 16,
    "start_time": "2022-06-19T18:03:58.582Z"
   },
   {
    "duration": 42,
    "start_time": "2022-06-19T18:03:58.600Z"
   },
   {
    "duration": 8,
    "start_time": "2022-06-19T18:03:58.643Z"
   },
   {
    "duration": 8,
    "start_time": "2022-06-19T18:03:58.652Z"
   },
   {
    "duration": 7,
    "start_time": "2022-06-19T18:03:58.661Z"
   },
   {
    "duration": 12,
    "start_time": "2022-06-19T18:03:58.670Z"
   },
   {
    "duration": 3,
    "start_time": "2022-06-19T18:03:58.683Z"
   },
   {
    "duration": 12,
    "start_time": "2022-06-19T18:03:58.688Z"
   },
   {
    "duration": 40,
    "start_time": "2022-06-19T18:03:58.702Z"
   },
   {
    "duration": 6,
    "start_time": "2022-06-19T18:03:58.744Z"
   },
   {
    "duration": 8,
    "start_time": "2022-06-19T18:03:58.752Z"
   },
   {
    "duration": 87,
    "start_time": "2022-06-19T18:03:58.762Z"
   },
   {
    "duration": 32,
    "start_time": "2022-06-19T18:03:58.851Z"
   },
   {
    "duration": 7,
    "start_time": "2022-06-19T18:03:58.885Z"
   },
   {
    "duration": 423,
    "start_time": "2022-06-19T18:07:10.953Z"
   },
   {
    "duration": 2,
    "start_time": "2022-06-19T18:07:11.378Z"
   },
   {
    "duration": 218,
    "start_time": "2022-06-19T18:07:11.382Z"
   },
   {
    "duration": 3,
    "start_time": "2022-06-19T18:07:11.602Z"
   },
   {
    "duration": 478,
    "start_time": "2022-06-19T18:07:11.606Z"
   },
   {
    "duration": 39,
    "start_time": "2022-06-19T18:07:12.086Z"
   },
   {
    "duration": 108,
    "start_time": "2022-06-19T18:07:12.126Z"
   },
   {
    "duration": 54,
    "start_time": "2022-06-19T18:07:12.236Z"
   },
   {
    "duration": 92,
    "start_time": "2022-06-19T18:07:12.292Z"
   },
   {
    "duration": 16,
    "start_time": "2022-06-19T18:07:12.387Z"
   },
   {
    "duration": 2,
    "start_time": "2022-06-19T18:07:12.405Z"
   },
   {
    "duration": 27,
    "start_time": "2022-06-19T18:07:12.408Z"
   },
   {
    "duration": 16,
    "start_time": "2022-06-19T18:07:12.438Z"
   },
   {
    "duration": 31,
    "start_time": "2022-06-19T18:07:12.456Z"
   },
   {
    "duration": 16,
    "start_time": "2022-06-19T18:07:12.489Z"
   },
   {
    "duration": 39,
    "start_time": "2022-06-19T18:07:12.507Z"
   },
   {
    "duration": 16,
    "start_time": "2022-06-19T18:07:12.548Z"
   },
   {
    "duration": 9,
    "start_time": "2022-06-19T18:07:12.566Z"
   },
   {
    "duration": 16,
    "start_time": "2022-06-19T18:07:12.576Z"
   },
   {
    "duration": 13,
    "start_time": "2022-06-19T18:07:12.594Z"
   },
   {
    "duration": 41,
    "start_time": "2022-06-19T18:07:12.608Z"
   },
   {
    "duration": 27,
    "start_time": "2022-06-19T18:07:12.651Z"
   },
   {
    "duration": 20,
    "start_time": "2022-06-19T18:07:12.679Z"
   },
   {
    "duration": 25,
    "start_time": "2022-06-19T18:07:12.701Z"
   },
   {
    "duration": 15,
    "start_time": "2022-06-19T18:07:12.728Z"
   },
   {
    "duration": 16,
    "start_time": "2022-06-19T18:07:12.745Z"
   },
   {
    "duration": 13,
    "start_time": "2022-06-19T18:07:12.763Z"
   },
   {
    "duration": 24,
    "start_time": "2022-06-19T18:07:12.779Z"
   },
   {
    "duration": 11,
    "start_time": "2022-06-19T18:07:12.805Z"
   },
   {
    "duration": 8,
    "start_time": "2022-06-19T18:07:12.818Z"
   },
   {
    "duration": 17,
    "start_time": "2022-06-19T18:07:12.827Z"
   },
   {
    "duration": 21,
    "start_time": "2022-06-19T18:07:12.846Z"
   },
   {
    "duration": 12,
    "start_time": "2022-06-19T18:07:12.868Z"
   },
   {
    "duration": 16,
    "start_time": "2022-06-19T18:07:12.882Z"
   },
   {
    "duration": 22,
    "start_time": "2022-06-19T18:07:12.900Z"
   },
   {
    "duration": 16,
    "start_time": "2022-06-19T18:07:12.923Z"
   },
   {
    "duration": 25,
    "start_time": "2022-06-19T18:07:12.942Z"
   },
   {
    "duration": 7,
    "start_time": "2022-06-19T18:07:12.969Z"
   },
   {
    "duration": 19,
    "start_time": "2022-06-19T18:07:12.978Z"
   },
   {
    "duration": 15,
    "start_time": "2022-06-19T18:07:12.999Z"
   },
   {
    "duration": 20,
    "start_time": "2022-06-19T18:07:13.016Z"
   },
   {
    "duration": 4,
    "start_time": "2022-06-19T18:07:13.042Z"
   },
   {
    "duration": 12,
    "start_time": "2022-06-19T18:07:13.047Z"
   },
   {
    "duration": 11,
    "start_time": "2022-06-19T18:07:13.061Z"
   },
   {
    "duration": 4,
    "start_time": "2022-06-19T18:07:13.074Z"
   },
   {
    "duration": 8,
    "start_time": "2022-06-19T18:07:13.080Z"
   },
   {
    "duration": 83,
    "start_time": "2022-06-19T18:07:13.090Z"
   },
   {
    "duration": 32,
    "start_time": "2022-06-19T18:07:13.175Z"
   },
   {
    "duration": 8,
    "start_time": "2022-06-19T18:07:13.209Z"
   },
   {
    "duration": 33,
    "start_time": "2022-06-19T19:08:29.114Z"
   },
   {
    "duration": 16,
    "start_time": "2022-06-19T19:18:11.056Z"
   },
   {
    "duration": 18,
    "start_time": "2022-06-19T19:19:41.637Z"
   },
   {
    "duration": 19,
    "start_time": "2022-06-19T19:29:09.386Z"
   },
   {
    "duration": 20,
    "start_time": "2022-06-19T19:30:49.548Z"
   },
   {
    "duration": 23,
    "start_time": "2022-06-19T19:31:08.634Z"
   },
   {
    "duration": 401,
    "start_time": "2022-06-19T19:34:00.577Z"
   },
   {
    "duration": 1721,
    "start_time": "2022-06-19T19:35:13.456Z"
   },
   {
    "duration": 370,
    "start_time": "2022-06-19T19:35:30.426Z"
   },
   {
    "duration": 209,
    "start_time": "2022-06-19T19:37:53.424Z"
   },
   {
    "duration": 334,
    "start_time": "2022-06-19T19:38:20.936Z"
   },
   {
    "duration": 341,
    "start_time": "2022-06-19T19:38:32.540Z"
   },
   {
    "duration": 3,
    "start_time": "2022-06-19T19:39:33.286Z"
   },
   {
    "duration": 311,
    "start_time": "2022-06-19T19:39:39.843Z"
   },
   {
    "duration": 287,
    "start_time": "2022-06-19T19:40:16.831Z"
   },
   {
    "duration": 238,
    "start_time": "2022-06-19T19:40:32.070Z"
   },
   {
    "duration": 162,
    "start_time": "2022-06-19T19:46:04.095Z"
   },
   {
    "duration": 178,
    "start_time": "2022-06-19T19:46:20.237Z"
   },
   {
    "duration": 158,
    "start_time": "2022-06-19T19:46:28.694Z"
   },
   {
    "duration": 5,
    "start_time": "2022-06-19T19:48:43.148Z"
   },
   {
    "duration": 16,
    "start_time": "2022-06-19T19:49:13.911Z"
   },
   {
    "duration": 378,
    "start_time": "2022-06-19T19:49:23.047Z"
   },
   {
    "duration": 466,
    "start_time": "2022-06-19T19:49:42.631Z"
   },
   {
    "duration": 5,
    "start_time": "2022-06-19T19:49:52.496Z"
   },
   {
    "duration": 6,
    "start_time": "2022-06-19T19:50:20.095Z"
   },
   {
    "duration": 9,
    "start_time": "2022-06-19T20:00:22.274Z"
   },
   {
    "duration": 9,
    "start_time": "2022-06-19T20:00:49.073Z"
   },
   {
    "duration": 11,
    "start_time": "2022-06-19T20:00:54.539Z"
   },
   {
    "duration": 11,
    "start_time": "2022-06-19T20:01:06.675Z"
   },
   {
    "duration": 18,
    "start_time": "2022-06-19T20:05:00.866Z"
   },
   {
    "duration": 20,
    "start_time": "2022-06-19T20:05:49.611Z"
   },
   {
    "duration": 28,
    "start_time": "2022-06-19T20:06:21.637Z"
   },
   {
    "duration": 15,
    "start_time": "2022-06-19T20:09:39.257Z"
   },
   {
    "duration": 17,
    "start_time": "2022-06-19T20:09:58.641Z"
   },
   {
    "duration": 14,
    "start_time": "2022-06-19T20:10:24.425Z"
   },
   {
    "duration": 13,
    "start_time": "2022-06-19T20:10:51.227Z"
   },
   {
    "duration": 13,
    "start_time": "2022-06-19T20:11:02.383Z"
   },
   {
    "duration": 15,
    "start_time": "2022-06-19T20:11:14.660Z"
   },
   {
    "duration": 21,
    "start_time": "2022-06-19T20:13:09.269Z"
   },
   {
    "duration": 15,
    "start_time": "2022-06-19T20:13:20.191Z"
   },
   {
    "duration": 16,
    "start_time": "2022-06-19T20:23:21.100Z"
   },
   {
    "duration": 21,
    "start_time": "2022-06-19T20:23:40.342Z"
   },
   {
    "duration": 16,
    "start_time": "2022-06-19T20:23:57.813Z"
   },
   {
    "duration": 405,
    "start_time": "2022-06-19T20:24:15.786Z"
   },
   {
    "duration": 301,
    "start_time": "2022-06-19T20:24:34.008Z"
   },
   {
    "duration": 11,
    "start_time": "2022-06-19T20:24:54.720Z"
   },
   {
    "duration": 322,
    "start_time": "2022-06-19T20:25:07.780Z"
   },
   {
    "duration": 20,
    "start_time": "2022-06-19T20:57:01.252Z"
   },
   {
    "duration": 31,
    "start_time": "2022-06-19T20:57:40.384Z"
   },
   {
    "duration": 20,
    "start_time": "2022-06-19T20:58:00.513Z"
   },
   {
    "duration": 6,
    "start_time": "2022-06-19T21:04:34.502Z"
   },
   {
    "duration": 11,
    "start_time": "2022-06-19T21:04:53.518Z"
   },
   {
    "duration": 5,
    "start_time": "2022-06-19T21:04:57.751Z"
   },
   {
    "duration": 8,
    "start_time": "2022-06-19T21:05:16.437Z"
   },
   {
    "duration": 6,
    "start_time": "2022-06-19T21:06:06.421Z"
   },
   {
    "duration": 6,
    "start_time": "2022-06-19T21:06:10.959Z"
   },
   {
    "duration": 5,
    "start_time": "2022-06-19T21:08:56.193Z"
   },
   {
    "duration": 35,
    "start_time": "2022-06-19T21:11:14.374Z"
   },
   {
    "duration": 4,
    "start_time": "2022-06-19T21:12:12.777Z"
   },
   {
    "duration": 33,
    "start_time": "2022-06-19T21:12:51.332Z"
   },
   {
    "duration": 27,
    "start_time": "2022-06-19T21:13:15.228Z"
   },
   {
    "duration": 25,
    "start_time": "2022-06-19T21:13:45.450Z"
   },
   {
    "duration": 32,
    "start_time": "2022-06-19T21:15:35.755Z"
   },
   {
    "duration": 37,
    "start_time": "2022-06-19T21:15:58.058Z"
   },
   {
    "duration": 75,
    "start_time": "2022-06-19T21:28:47.018Z"
   },
   {
    "duration": 8,
    "start_time": "2022-06-19T21:30:21.428Z"
   },
   {
    "duration": 4,
    "start_time": "2022-06-19T21:31:12.591Z"
   },
   {
    "duration": 6,
    "start_time": "2022-06-19T21:34:12.299Z"
   },
   {
    "duration": 8,
    "start_time": "2022-06-19T21:34:28.772Z"
   },
   {
    "duration": 5,
    "start_time": "2022-06-19T21:34:39.212Z"
   },
   {
    "duration": 158,
    "start_time": "2022-06-19T21:42:12.636Z"
   },
   {
    "duration": 24,
    "start_time": "2022-06-19T21:42:44.205Z"
   },
   {
    "duration": 266,
    "start_time": "2022-06-19T21:43:32.863Z"
   },
   {
    "duration": 366,
    "start_time": "2022-06-19T21:43:50.511Z"
   },
   {
    "duration": 304,
    "start_time": "2022-06-19T21:44:09.561Z"
   },
   {
    "duration": 482,
    "start_time": "2022-06-19T21:44:16.249Z"
   },
   {
    "duration": 310,
    "start_time": "2022-06-19T21:44:27.939Z"
   },
   {
    "duration": 291,
    "start_time": "2022-06-19T21:45:30.276Z"
   },
   {
    "duration": 294,
    "start_time": "2022-06-19T21:45:59.381Z"
   },
   {
    "duration": 62,
    "start_time": "2022-06-19T21:47:24.074Z"
   },
   {
    "duration": 13,
    "start_time": "2022-06-19T22:05:58.424Z"
   },
   {
    "duration": 6,
    "start_time": "2022-06-19T22:15:38.755Z"
   },
   {
    "duration": 443,
    "start_time": "2022-06-20T00:19:02.819Z"
   },
   {
    "duration": 3,
    "start_time": "2022-06-20T00:19:03.267Z"
   },
   {
    "duration": 459,
    "start_time": "2022-06-20T00:19:03.272Z"
   },
   {
    "duration": 4,
    "start_time": "2022-06-20T00:19:03.735Z"
   },
   {
    "duration": 504,
    "start_time": "2022-06-20T00:19:03.741Z"
   },
   {
    "duration": 102,
    "start_time": "2022-06-20T00:19:04.248Z"
   },
   {
    "duration": 435,
    "start_time": "2022-06-20T00:19:04.352Z"
   },
   {
    "duration": 173,
    "start_time": "2022-06-20T00:19:04.790Z"
   },
   {
    "duration": 232,
    "start_time": "2022-06-20T00:19:04.966Z"
   },
   {
    "duration": 49,
    "start_time": "2022-06-20T00:19:05.202Z"
   },
   {
    "duration": 3,
    "start_time": "2022-06-20T00:19:05.253Z"
   },
   {
    "duration": 47,
    "start_time": "2022-06-20T00:19:05.259Z"
   },
   {
    "duration": 19,
    "start_time": "2022-06-20T00:19:05.308Z"
   },
   {
    "duration": 25,
    "start_time": "2022-06-20T00:19:05.329Z"
   },
   {
    "duration": 22,
    "start_time": "2022-06-20T00:19:05.356Z"
   },
   {
    "duration": 53,
    "start_time": "2022-06-20T00:19:05.380Z"
   },
   {
    "duration": 27,
    "start_time": "2022-06-20T00:19:05.436Z"
   },
   {
    "duration": 13,
    "start_time": "2022-06-20T00:19:05.465Z"
   },
   {
    "duration": 51,
    "start_time": "2022-06-20T00:19:05.481Z"
   },
   {
    "duration": 24,
    "start_time": "2022-06-20T00:19:05.534Z"
   },
   {
    "duration": 13,
    "start_time": "2022-06-20T00:19:05.560Z"
   },
   {
    "duration": 55,
    "start_time": "2022-06-20T00:19:05.576Z"
   },
   {
    "duration": 16,
    "start_time": "2022-06-20T00:19:05.633Z"
   },
   {
    "duration": 57,
    "start_time": "2022-06-20T00:19:05.651Z"
   },
   {
    "duration": 37,
    "start_time": "2022-06-20T00:19:05.711Z"
   },
   {
    "duration": 14,
    "start_time": "2022-06-20T00:19:05.750Z"
   },
   {
    "duration": 26,
    "start_time": "2022-06-20T00:19:05.766Z"
   },
   {
    "duration": 28,
    "start_time": "2022-06-20T00:19:05.798Z"
   },
   {
    "duration": 34,
    "start_time": "2022-06-20T00:19:05.829Z"
   },
   {
    "duration": 7,
    "start_time": "2022-06-20T00:19:05.865Z"
   },
   {
    "duration": 9,
    "start_time": "2022-06-20T00:19:05.874Z"
   },
   {
    "duration": 14,
    "start_time": "2022-06-20T00:19:05.885Z"
   },
   {
    "duration": 16,
    "start_time": "2022-06-20T00:19:05.901Z"
   },
   {
    "duration": 42,
    "start_time": "2022-06-20T00:19:05.922Z"
   },
   {
    "duration": 55,
    "start_time": "2022-06-20T00:19:05.967Z"
   },
   {
    "duration": 27,
    "start_time": "2022-06-20T00:19:06.024Z"
   },
   {
    "duration": 31,
    "start_time": "2022-06-20T00:19:06.053Z"
   },
   {
    "duration": 11,
    "start_time": "2022-06-20T00:19:06.086Z"
   },
   {
    "duration": 14,
    "start_time": "2022-06-20T00:19:06.125Z"
   },
   {
    "duration": 14,
    "start_time": "2022-06-20T00:19:06.141Z"
   },
   {
    "duration": 20,
    "start_time": "2022-06-20T00:19:06.158Z"
   },
   {
    "duration": 5,
    "start_time": "2022-06-20T00:19:06.181Z"
   },
   {
    "duration": 44,
    "start_time": "2022-06-20T00:19:06.188Z"
   },
   {
    "duration": 14,
    "start_time": "2022-06-20T00:19:06.234Z"
   },
   {
    "duration": 9,
    "start_time": "2022-06-20T00:19:06.250Z"
   },
   {
    "duration": 16,
    "start_time": "2022-06-20T00:19:06.263Z"
   },
   {
    "duration": 139,
    "start_time": "2022-06-20T00:19:06.282Z"
   },
   {
    "duration": 37,
    "start_time": "2022-06-20T00:19:06.423Z"
   },
   {
    "duration": 10,
    "start_time": "2022-06-20T00:19:06.462Z"
   },
   {
    "duration": 26,
    "start_time": "2022-06-20T00:19:06.474Z"
   },
   {
    "duration": 15,
    "start_time": "2022-06-20T00:19:06.527Z"
   },
   {
    "duration": 15,
    "start_time": "2022-06-20T00:19:06.545Z"
   },
   {
    "duration": 247,
    "start_time": "2022-06-20T00:19:06.562Z"
   },
   {
    "duration": 31,
    "start_time": "2022-06-20T00:19:06.811Z"
   },
   {
    "duration": 325,
    "start_time": "2022-06-20T00:19:06.844Z"
   },
   {
    "duration": 21,
    "start_time": "2022-06-20T00:19:07.172Z"
   },
   {
    "duration": 261,
    "start_time": "2022-06-20T00:19:07.196Z"
   },
   {
    "duration": 25,
    "start_time": "2022-06-20T00:19:07.460Z"
   },
   {
    "duration": 274,
    "start_time": "2022-06-20T00:19:07.488Z"
   },
   {
    "duration": 20,
    "start_time": "2022-06-20T00:19:07.764Z"
   },
   {
    "duration": 226,
    "start_time": "2022-06-20T00:19:07.786Z"
   },
   {
    "duration": 30,
    "start_time": "2022-06-20T00:19:08.015Z"
   },
   {
    "duration": 380,
    "start_time": "2022-06-20T00:19:08.047Z"
   },
   {
    "duration": 7,
    "start_time": "2022-06-20T00:19:08.430Z"
   },
   {
    "duration": 19,
    "start_time": "2022-06-20T00:19:08.439Z"
   },
   {
    "duration": 12,
    "start_time": "2022-06-20T00:19:08.461Z"
   },
   {
    "duration": 8,
    "start_time": "2022-06-20T00:19:08.475Z"
   },
   {
    "duration": 12,
    "start_time": "2022-06-20T00:19:08.485Z"
   },
   {
    "duration": 32,
    "start_time": "2022-06-20T00:19:08.500Z"
   },
   {
    "duration": 225,
    "start_time": "2022-06-20T01:20:36.142Z"
   },
   {
    "duration": 13,
    "start_time": "2022-06-20T01:22:57.438Z"
   },
   {
    "duration": 159,
    "start_time": "2022-06-20T01:23:35.182Z"
   },
   {
    "duration": 117,
    "start_time": "2022-06-20T01:24:01.964Z"
   },
   {
    "duration": 13,
    "start_time": "2022-06-20T01:33:58.111Z"
   },
   {
    "duration": 118,
    "start_time": "2022-06-20T01:34:07.785Z"
   },
   {
    "duration": 18,
    "start_time": "2022-06-20T01:49:42.568Z"
   },
   {
    "duration": 125,
    "start_time": "2022-06-20T01:50:11.744Z"
   },
   {
    "duration": 125,
    "start_time": "2022-06-20T01:50:33.754Z"
   },
   {
    "duration": 91,
    "start_time": "2022-06-20T01:53:10.569Z"
   },
   {
    "duration": 16,
    "start_time": "2022-06-20T01:53:53.286Z"
   },
   {
    "duration": 107,
    "start_time": "2022-06-20T01:54:11.581Z"
   },
   {
    "duration": 23,
    "start_time": "2022-06-20T01:54:18.578Z"
   },
   {
    "duration": 21,
    "start_time": "2022-06-20T01:55:01.696Z"
   },
   {
    "duration": 30,
    "start_time": "2022-06-20T01:55:25.738Z"
   },
   {
    "duration": 29,
    "start_time": "2022-06-20T01:56:19.478Z"
   },
   {
    "duration": 18,
    "start_time": "2022-06-20T01:57:27.547Z"
   },
   {
    "duration": 18,
    "start_time": "2022-06-20T01:57:53.786Z"
   },
   {
    "duration": 6,
    "start_time": "2022-06-20T01:58:31.089Z"
   },
   {
    "duration": 4,
    "start_time": "2022-06-20T01:58:43.868Z"
   },
   {
    "duration": 6,
    "start_time": "2022-06-20T02:20:59.576Z"
   },
   {
    "duration": 376,
    "start_time": "2022-06-20T02:25:47.672Z"
   },
   {
    "duration": 3,
    "start_time": "2022-06-20T02:25:48.049Z"
   },
   {
    "duration": 253,
    "start_time": "2022-06-20T02:25:48.053Z"
   },
   {
    "duration": 3,
    "start_time": "2022-06-20T02:25:48.308Z"
   },
   {
    "duration": 459,
    "start_time": "2022-06-20T02:25:48.331Z"
   },
   {
    "duration": 43,
    "start_time": "2022-06-20T02:25:48.791Z"
   },
   {
    "duration": 131,
    "start_time": "2022-06-20T02:25:48.836Z"
   },
   {
    "duration": 61,
    "start_time": "2022-06-20T02:25:48.969Z"
   },
   {
    "duration": 96,
    "start_time": "2022-06-20T02:25:49.032Z"
   },
   {
    "duration": 24,
    "start_time": "2022-06-20T02:25:49.131Z"
   },
   {
    "duration": 3,
    "start_time": "2022-06-20T02:25:49.156Z"
   },
   {
    "duration": 24,
    "start_time": "2022-06-20T02:25:49.161Z"
   },
   {
    "duration": 12,
    "start_time": "2022-06-20T02:25:49.188Z"
   },
   {
    "duration": 38,
    "start_time": "2022-06-20T02:25:49.202Z"
   },
   {
    "duration": 26,
    "start_time": "2022-06-20T02:25:49.242Z"
   },
   {
    "duration": 15,
    "start_time": "2022-06-20T02:25:49.270Z"
   },
   {
    "duration": 15,
    "start_time": "2022-06-20T02:25:49.286Z"
   },
   {
    "duration": 7,
    "start_time": "2022-06-20T02:25:49.303Z"
   },
   {
    "duration": 32,
    "start_time": "2022-06-20T02:25:49.312Z"
   },
   {
    "duration": 17,
    "start_time": "2022-06-20T02:25:49.346Z"
   },
   {
    "duration": 9,
    "start_time": "2022-06-20T02:25:49.365Z"
   },
   {
    "duration": 23,
    "start_time": "2022-06-20T02:25:49.376Z"
   },
   {
    "duration": 43,
    "start_time": "2022-06-20T02:25:49.400Z"
   },
   {
    "duration": 23,
    "start_time": "2022-06-20T02:25:49.445Z"
   },
   {
    "duration": 14,
    "start_time": "2022-06-20T02:25:49.470Z"
   },
   {
    "duration": 20,
    "start_time": "2022-06-20T02:25:49.486Z"
   },
   {
    "duration": 32,
    "start_time": "2022-06-20T02:25:49.508Z"
   },
   {
    "duration": 12,
    "start_time": "2022-06-20T02:25:49.544Z"
   },
   {
    "duration": 11,
    "start_time": "2022-06-20T02:25:49.557Z"
   },
   {
    "duration": 5,
    "start_time": "2022-06-20T02:25:49.570Z"
   },
   {
    "duration": 8,
    "start_time": "2022-06-20T02:25:49.576Z"
   },
   {
    "duration": 8,
    "start_time": "2022-06-20T02:25:49.586Z"
   },
   {
    "duration": 10,
    "start_time": "2022-06-20T02:25:49.596Z"
   },
   {
    "duration": 23,
    "start_time": "2022-06-20T02:25:49.607Z"
   },
   {
    "duration": 39,
    "start_time": "2022-06-20T02:25:49.637Z"
   },
   {
    "duration": 17,
    "start_time": "2022-06-20T02:25:49.677Z"
   },
   {
    "duration": 26,
    "start_time": "2022-06-20T02:25:49.696Z"
   },
   {
    "duration": 17,
    "start_time": "2022-06-20T02:25:49.723Z"
   },
   {
    "duration": 11,
    "start_time": "2022-06-20T02:25:49.742Z"
   },
   {
    "duration": 10,
    "start_time": "2022-06-20T02:25:49.754Z"
   },
   {
    "duration": 13,
    "start_time": "2022-06-20T02:25:49.765Z"
   },
   {
    "duration": 4,
    "start_time": "2022-06-20T02:25:49.780Z"
   },
   {
    "duration": 10,
    "start_time": "2022-06-20T02:25:49.786Z"
   },
   {
    "duration": 32,
    "start_time": "2022-06-20T02:25:49.798Z"
   },
   {
    "duration": 6,
    "start_time": "2022-06-20T02:25:49.837Z"
   },
   {
    "duration": 12,
    "start_time": "2022-06-20T02:25:49.845Z"
   },
   {
    "duration": 85,
    "start_time": "2022-06-20T02:25:49.859Z"
   },
   {
    "duration": 33,
    "start_time": "2022-06-20T02:25:49.946Z"
   },
   {
    "duration": 8,
    "start_time": "2022-06-20T02:25:49.981Z"
   },
   {
    "duration": 36,
    "start_time": "2022-06-20T02:25:49.991Z"
   },
   {
    "duration": 220,
    "start_time": "2022-06-20T02:25:50.030Z"
   },
   {
    "duration": 15,
    "start_time": "2022-06-20T02:25:50.252Z"
   },
   {
    "duration": 276,
    "start_time": "2022-06-20T02:25:50.269Z"
   },
   {
    "duration": 14,
    "start_time": "2022-06-20T02:25:50.547Z"
   },
   {
    "duration": 215,
    "start_time": "2022-06-20T02:25:50.563Z"
   },
   {
    "duration": 14,
    "start_time": "2022-06-20T02:25:50.780Z"
   },
   {
    "duration": 260,
    "start_time": "2022-06-20T02:25:50.796Z"
   },
   {
    "duration": 13,
    "start_time": "2022-06-20T02:25:51.057Z"
   },
   {
    "duration": 225,
    "start_time": "2022-06-20T02:25:51.071Z"
   },
   {
    "duration": 16,
    "start_time": "2022-06-20T02:25:51.298Z"
   },
   {
    "duration": 256,
    "start_time": "2022-06-20T02:25:51.329Z"
   },
   {
    "duration": 9,
    "start_time": "2022-06-20T02:25:51.586Z"
   },
   {
    "duration": 30,
    "start_time": "2022-06-20T02:25:51.596Z"
   },
   {
    "duration": 11,
    "start_time": "2022-06-20T02:25:51.629Z"
   },
   {
    "duration": 11,
    "start_time": "2022-06-20T02:25:51.642Z"
   },
   {
    "duration": 8,
    "start_time": "2022-06-20T02:25:51.655Z"
   },
   {
    "duration": 470,
    "start_time": "2022-06-20T05:22:54.902Z"
   },
   {
    "duration": 3,
    "start_time": "2022-06-20T05:22:55.375Z"
   },
   {
    "duration": 401,
    "start_time": "2022-06-20T05:22:55.379Z"
   },
   {
    "duration": 2,
    "start_time": "2022-06-20T05:22:55.782Z"
   },
   {
    "duration": 479,
    "start_time": "2022-06-20T05:22:55.786Z"
   },
   {
    "duration": 92,
    "start_time": "2022-06-20T05:22:56.267Z"
   },
   {
    "duration": 382,
    "start_time": "2022-06-20T05:22:56.361Z"
   },
   {
    "duration": 145,
    "start_time": "2022-06-20T05:22:56.744Z"
   },
   {
    "duration": 209,
    "start_time": "2022-06-20T05:22:56.890Z"
   },
   {
    "duration": 53,
    "start_time": "2022-06-20T05:22:57.100Z"
   },
   {
    "duration": 3,
    "start_time": "2022-06-20T05:22:57.154Z"
   },
   {
    "duration": 25,
    "start_time": "2022-06-20T05:22:57.158Z"
   },
   {
    "duration": 14,
    "start_time": "2022-06-20T05:22:57.185Z"
   },
   {
    "duration": 22,
    "start_time": "2022-06-20T05:22:57.202Z"
   },
   {
    "duration": 21,
    "start_time": "2022-06-20T05:22:57.226Z"
   },
   {
    "duration": 20,
    "start_time": "2022-06-20T05:22:57.249Z"
   },
   {
    "duration": 27,
    "start_time": "2022-06-20T05:22:57.271Z"
   },
   {
    "duration": 10,
    "start_time": "2022-06-20T05:22:57.301Z"
   },
   {
    "duration": 30,
    "start_time": "2022-06-20T05:22:57.313Z"
   },
   {
    "duration": 12,
    "start_time": "2022-06-20T05:22:57.345Z"
   },
   {
    "duration": 10,
    "start_time": "2022-06-20T05:22:57.359Z"
   },
   {
    "duration": 18,
    "start_time": "2022-06-20T05:22:57.371Z"
   },
   {
    "duration": 9,
    "start_time": "2022-06-20T05:22:57.391Z"
   },
   {
    "duration": 55,
    "start_time": "2022-06-20T05:22:57.401Z"
   },
   {
    "duration": 14,
    "start_time": "2022-06-20T05:22:57.457Z"
   },
   {
    "duration": 30,
    "start_time": "2022-06-20T05:22:57.472Z"
   },
   {
    "duration": 10,
    "start_time": "2022-06-20T05:22:57.503Z"
   },
   {
    "duration": 15,
    "start_time": "2022-06-20T05:22:57.515Z"
   },
   {
    "duration": 17,
    "start_time": "2022-06-20T05:22:57.531Z"
   },
   {
    "duration": 6,
    "start_time": "2022-06-20T05:22:57.549Z"
   },
   {
    "duration": 6,
    "start_time": "2022-06-20T05:22:57.557Z"
   },
   {
    "duration": 7,
    "start_time": "2022-06-20T05:22:57.564Z"
   },
   {
    "duration": 6,
    "start_time": "2022-06-20T05:22:57.572Z"
   },
   {
    "duration": 14,
    "start_time": "2022-06-20T05:22:57.579Z"
   },
   {
    "duration": 21,
    "start_time": "2022-06-20T05:22:57.595Z"
   },
   {
    "duration": 27,
    "start_time": "2022-06-20T05:22:57.618Z"
   },
   {
    "duration": 24,
    "start_time": "2022-06-20T05:22:57.647Z"
   },
   {
    "duration": 6,
    "start_time": "2022-06-20T05:22:57.673Z"
   },
   {
    "duration": 8,
    "start_time": "2022-06-20T05:22:57.680Z"
   },
   {
    "duration": 7,
    "start_time": "2022-06-20T05:22:57.689Z"
   },
   {
    "duration": 36,
    "start_time": "2022-06-20T05:22:57.699Z"
   },
   {
    "duration": 7,
    "start_time": "2022-06-20T05:22:57.738Z"
   },
   {
    "duration": 15,
    "start_time": "2022-06-20T05:22:57.747Z"
   },
   {
    "duration": 8,
    "start_time": "2022-06-20T05:22:57.763Z"
   },
   {
    "duration": 5,
    "start_time": "2022-06-20T05:22:57.772Z"
   },
   {
    "duration": 8,
    "start_time": "2022-06-20T05:22:57.778Z"
   },
   {
    "duration": 89,
    "start_time": "2022-06-20T05:22:57.787Z"
   },
   {
    "duration": 28,
    "start_time": "2022-06-20T05:22:57.878Z"
   },
   {
    "duration": 22,
    "start_time": "2022-06-20T05:22:57.908Z"
   },
   {
    "duration": 15,
    "start_time": "2022-06-20T05:22:57.932Z"
   },
   {
    "duration": 220,
    "start_time": "2022-06-20T05:22:57.948Z"
   },
   {
    "duration": 14,
    "start_time": "2022-06-20T05:22:58.170Z"
   },
   {
    "duration": 280,
    "start_time": "2022-06-20T05:22:58.186Z"
   },
   {
    "duration": 14,
    "start_time": "2022-06-20T05:22:58.467Z"
   },
   {
    "duration": 224,
    "start_time": "2022-06-20T05:22:58.483Z"
   },
   {
    "duration": 18,
    "start_time": "2022-06-20T05:22:58.709Z"
   },
   {
    "duration": 254,
    "start_time": "2022-06-20T05:22:58.729Z"
   },
   {
    "duration": 11,
    "start_time": "2022-06-20T05:22:58.984Z"
   },
   {
    "duration": 217,
    "start_time": "2022-06-20T05:22:58.997Z"
   },
   {
    "duration": 19,
    "start_time": "2022-06-20T05:22:59.216Z"
   },
   {
    "duration": 262,
    "start_time": "2022-06-20T05:22:59.237Z"
   },
   {
    "duration": 9,
    "start_time": "2022-06-20T05:22:59.501Z"
   },
   {
    "duration": 34,
    "start_time": "2022-06-20T05:22:59.512Z"
   },
   {
    "duration": 27,
    "start_time": "2022-06-20T05:22:59.548Z"
   },
   {
    "duration": 27,
    "start_time": "2022-06-20T05:22:59.576Z"
   },
   {
    "duration": 14,
    "start_time": "2022-06-20T05:22:59.605Z"
   },
   {
    "duration": 29,
    "start_time": "2022-06-20T05:49:35.547Z"
   },
   {
    "duration": 5,
    "start_time": "2022-06-20T05:49:45.422Z"
   },
   {
    "duration": 5,
    "start_time": "2022-06-20T05:49:50.299Z"
   },
   {
    "duration": 39,
    "start_time": "2022-06-20T05:52:07.596Z"
   },
   {
    "duration": 114,
    "start_time": "2022-06-20T05:52:07.847Z"
   },
   {
    "duration": 57,
    "start_time": "2022-06-20T05:52:08.052Z"
   },
   {
    "duration": 88,
    "start_time": "2022-06-20T05:52:08.260Z"
   },
   {
    "duration": 16,
    "start_time": "2022-06-20T05:52:08.457Z"
   },
   {
    "duration": 2,
    "start_time": "2022-06-20T05:52:08.895Z"
   },
   {
    "duration": 20,
    "start_time": "2022-06-20T05:52:10.214Z"
   },
   {
    "duration": 11,
    "start_time": "2022-06-20T05:52:10.447Z"
   },
   {
    "duration": 21,
    "start_time": "2022-06-20T05:52:10.963Z"
   },
   {
    "duration": 18,
    "start_time": "2022-06-20T05:52:11.277Z"
   },
   {
    "duration": 16,
    "start_time": "2022-06-20T05:52:11.794Z"
   },
   {
    "duration": 15,
    "start_time": "2022-06-20T05:52:12.424Z"
   },
   {
    "duration": 9,
    "start_time": "2022-06-20T05:52:12.687Z"
   },
   {
    "duration": 15,
    "start_time": "2022-06-20T05:52:13.192Z"
   },
   {
    "duration": 14,
    "start_time": "2022-06-20T05:52:13.472Z"
   },
   {
    "duration": 10,
    "start_time": "2022-06-20T05:52:13.744Z"
   },
   {
    "duration": 18,
    "start_time": "2022-06-20T05:52:14.284Z"
   },
   {
    "duration": 10,
    "start_time": "2022-06-20T05:52:14.681Z"
   },
   {
    "duration": 18,
    "start_time": "2022-06-20T05:52:15.052Z"
   },
   {
    "duration": 16,
    "start_time": "2022-06-20T05:52:15.399Z"
   },
   {
    "duration": 13,
    "start_time": "2022-06-20T05:52:16.067Z"
   },
   {
    "duration": 11,
    "start_time": "2022-06-20T05:52:17.301Z"
   },
   {
    "duration": 84,
    "start_time": "2022-06-20T05:52:17.534Z"
   },
   {
    "duration": 5,
    "start_time": "2022-06-20T05:52:17.748Z"
   },
   {
    "duration": 3,
    "start_time": "2022-06-20T05:52:18.916Z"
   },
   {
    "duration": 5,
    "start_time": "2022-06-20T05:52:19.655Z"
   },
   {
    "duration": 5,
    "start_time": "2022-06-20T05:52:20.681Z"
   },
   {
    "duration": 4,
    "start_time": "2022-06-20T05:52:21.561Z"
   },
   {
    "duration": 13,
    "start_time": "2022-06-20T05:52:21.945Z"
   },
   {
    "duration": 18,
    "start_time": "2022-06-20T05:52:27.414Z"
   },
   {
    "duration": 14,
    "start_time": "2022-06-20T05:52:28.443Z"
   },
   {
    "duration": 24,
    "start_time": "2022-06-20T05:52:29.243Z"
   },
   {
    "duration": 96,
    "start_time": "2022-06-20T05:52:31.339Z"
   },
   {
    "duration": 9,
    "start_time": "2022-06-20T05:52:55.547Z"
   },
   {
    "duration": 18,
    "start_time": "2022-06-20T05:55:15.423Z"
   },
   {
    "duration": 9,
    "start_time": "2022-06-20T05:55:55.613Z"
   },
   {
    "duration": 329,
    "start_time": "2022-06-20T23:12:42.721Z"
   },
   {
    "duration": 2,
    "start_time": "2022-06-20T23:12:43.052Z"
   },
   {
    "duration": 348,
    "start_time": "2022-06-20T23:12:43.055Z"
   },
   {
    "duration": 2,
    "start_time": "2022-06-20T23:12:43.405Z"
   },
   {
    "duration": 377,
    "start_time": "2022-06-20T23:12:43.409Z"
   },
   {
    "duration": 71,
    "start_time": "2022-06-20T23:12:43.788Z"
   },
   {
    "duration": 154,
    "start_time": "2022-06-20T23:12:43.860Z"
   },
   {
    "duration": 167,
    "start_time": "2022-06-20T23:12:44.016Z"
   },
   {
    "duration": 227,
    "start_time": "2022-06-20T23:12:44.185Z"
   },
   {
    "duration": 58,
    "start_time": "2022-06-20T23:12:44.414Z"
   },
   {
    "duration": 2,
    "start_time": "2022-06-20T23:12:44.474Z"
   },
   {
    "duration": 18,
    "start_time": "2022-06-20T23:12:44.478Z"
   },
   {
    "duration": 11,
    "start_time": "2022-06-20T23:12:44.498Z"
   },
   {
    "duration": 19,
    "start_time": "2022-06-20T23:12:44.510Z"
   },
   {
    "duration": 11,
    "start_time": "2022-06-20T23:12:44.531Z"
   },
   {
    "duration": 34,
    "start_time": "2022-06-20T23:12:44.544Z"
   },
   {
    "duration": 12,
    "start_time": "2022-06-20T23:12:44.579Z"
   },
   {
    "duration": 7,
    "start_time": "2022-06-20T23:12:44.592Z"
   },
   {
    "duration": 14,
    "start_time": "2022-06-20T23:12:44.600Z"
   },
   {
    "duration": 10,
    "start_time": "2022-06-20T23:12:44.615Z"
   },
   {
    "duration": 8,
    "start_time": "2022-06-20T23:12:44.626Z"
   },
   {
    "duration": 43,
    "start_time": "2022-06-20T23:12:44.635Z"
   },
   {
    "duration": 7,
    "start_time": "2022-06-20T23:12:44.680Z"
   },
   {
    "duration": 18,
    "start_time": "2022-06-20T23:12:44.688Z"
   },
   {
    "duration": 11,
    "start_time": "2022-06-20T23:12:44.708Z"
   },
   {
    "duration": 11,
    "start_time": "2022-06-20T23:12:44.720Z"
   },
   {
    "duration": 9,
    "start_time": "2022-06-20T23:12:44.732Z"
   },
   {
    "duration": 9,
    "start_time": "2022-06-20T23:12:44.743Z"
   },
   {
    "duration": 4,
    "start_time": "2022-06-20T23:12:44.778Z"
   },
   {
    "duration": 3,
    "start_time": "2022-06-20T23:14:10.845Z"
   },
   {
    "duration": 4,
    "start_time": "2022-06-20T23:14:13.661Z"
   },
   {
    "duration": 1103,
    "start_time": "2022-06-20T23:14:19.278Z"
   },
   {
    "duration": 2,
    "start_time": "2022-06-20T23:15:19.153Z"
   },
   {
    "duration": 4,
    "start_time": "2022-06-20T23:15:22.958Z"
   },
   {
    "duration": 1002,
    "start_time": "2022-06-20T23:15:32.282Z"
   },
   {
    "duration": 2,
    "start_time": "2022-06-20T23:15:44.576Z"
   },
   {
    "duration": 5,
    "start_time": "2022-06-20T23:15:44.579Z"
   },
   {
    "duration": 4,
    "start_time": "2022-06-20T23:15:44.586Z"
   },
   {
    "duration": 5,
    "start_time": "2022-06-20T23:15:44.591Z"
   },
   {
    "duration": 5,
    "start_time": "2022-06-20T23:15:44.597Z"
   },
   {
    "duration": 40,
    "start_time": "2022-06-20T23:15:44.603Z"
   },
   {
    "duration": 101,
    "start_time": "2022-06-20T23:15:44.645Z"
   },
   {
    "duration": 49,
    "start_time": "2022-06-20T23:15:44.747Z"
   },
   {
    "duration": 73,
    "start_time": "2022-06-20T23:15:44.798Z"
   },
   {
    "duration": 15,
    "start_time": "2022-06-20T23:15:44.872Z"
   },
   {
    "duration": 2,
    "start_time": "2022-06-20T23:15:44.888Z"
   },
   {
    "duration": 17,
    "start_time": "2022-06-20T23:15:44.892Z"
   },
   {
    "duration": 8,
    "start_time": "2022-06-20T23:15:44.910Z"
   },
   {
    "duration": 20,
    "start_time": "2022-06-20T23:15:44.919Z"
   },
   {
    "duration": 13,
    "start_time": "2022-06-20T23:15:44.942Z"
   },
   {
    "duration": 28,
    "start_time": "2022-06-20T23:15:44.956Z"
   },
   {
    "duration": 12,
    "start_time": "2022-06-20T23:15:44.985Z"
   },
   {
    "duration": 7,
    "start_time": "2022-06-20T23:15:44.998Z"
   },
   {
    "duration": 26,
    "start_time": "2022-06-20T23:15:45.006Z"
   },
   {
    "duration": 10,
    "start_time": "2022-06-20T23:15:45.034Z"
   },
   {
    "duration": 10,
    "start_time": "2022-06-20T23:15:45.046Z"
   },
   {
    "duration": 27,
    "start_time": "2022-06-20T23:15:45.057Z"
   },
   {
    "duration": 12,
    "start_time": "2022-06-20T23:15:45.086Z"
   },
   {
    "duration": 14,
    "start_time": "2022-06-20T23:15:45.099Z"
   },
   {
    "duration": 12,
    "start_time": "2022-06-20T23:15:45.114Z"
   },
   {
    "duration": 12,
    "start_time": "2022-06-20T23:15:45.127Z"
   },
   {
    "duration": 9,
    "start_time": "2022-06-20T23:15:45.141Z"
   },
   {
    "duration": 33,
    "start_time": "2022-06-20T23:15:45.151Z"
   },
   {
    "duration": 7,
    "start_time": "2022-06-20T23:15:45.185Z"
   },
   {
    "duration": 3,
    "start_time": "2022-06-20T23:16:16.621Z"
   },
   {
    "duration": 4,
    "start_time": "2022-06-20T23:16:21.263Z"
   },
   {
    "duration": 4,
    "start_time": "2022-06-20T23:16:24.159Z"
   },
   {
    "duration": 4,
    "start_time": "2022-06-20T23:16:26.595Z"
   },
   {
    "duration": 9,
    "start_time": "2022-06-20T23:16:28.849Z"
   },
   {
    "duration": 22,
    "start_time": "2022-06-20T23:21:00.543Z"
   },
   {
    "duration": 21,
    "start_time": "2022-06-20T23:21:06.010Z"
   },
   {
    "duration": 28,
    "start_time": "2022-06-20T23:21:12.585Z"
   },
   {
    "duration": 28,
    "start_time": "2022-06-20T23:23:03.269Z"
   },
   {
    "duration": 4,
    "start_time": "2022-06-20T23:24:11.520Z"
   },
   {
    "duration": 22,
    "start_time": "2022-06-20T23:24:47.158Z"
   },
   {
    "duration": 3,
    "start_time": "2022-06-20T23:25:03.379Z"
   },
   {
    "duration": 21,
    "start_time": "2022-06-20T23:25:08.714Z"
   },
   {
    "duration": 4,
    "start_time": "2022-06-20T23:25:15.694Z"
   },
   {
    "duration": 7,
    "start_time": "2022-06-20T23:25:51.232Z"
   },
   {
    "duration": 4,
    "start_time": "2022-06-20T23:27:51.210Z"
   },
   {
    "duration": 4,
    "start_time": "2022-06-20T23:29:37.567Z"
   },
   {
    "duration": 12,
    "start_time": "2022-06-20T23:47:04.676Z"
   },
   {
    "duration": 10,
    "start_time": "2022-06-20T23:49:01.428Z"
   },
   {
    "duration": 3,
    "start_time": "2022-06-20T23:50:46.346Z"
   },
   {
    "duration": 6,
    "start_time": "2022-06-20T23:51:26.607Z"
   },
   {
    "duration": 23,
    "start_time": "2022-06-20T23:55:17.917Z"
   },
   {
    "duration": 4,
    "start_time": "2022-06-20T23:56:03.096Z"
   },
   {
    "duration": 6,
    "start_time": "2022-06-20T23:56:35.349Z"
   },
   {
    "duration": 7,
    "start_time": "2022-06-20T23:57:01.911Z"
   },
   {
    "duration": 6,
    "start_time": "2022-06-20T23:57:04.482Z"
   },
   {
    "duration": 5,
    "start_time": "2022-06-20T23:57:05.878Z"
   },
   {
    "duration": 3,
    "start_time": "2022-06-20T23:57:21.557Z"
   },
   {
    "duration": 7,
    "start_time": "2022-06-20T23:57:37.729Z"
   },
   {
    "duration": 73,
    "start_time": "2022-06-20T23:57:40.218Z"
   },
   {
    "duration": 28,
    "start_time": "2022-06-20T23:57:41.481Z"
   },
   {
    "duration": 7,
    "start_time": "2022-06-20T23:58:02.801Z"
   },
   {
    "duration": 10,
    "start_time": "2022-06-20T23:58:08.873Z"
   },
   {
    "duration": 187,
    "start_time": "2022-06-20T23:58:10.033Z"
   },
   {
    "duration": 14,
    "start_time": "2022-06-21T00:00:04.070Z"
   },
   {
    "duration": 7,
    "start_time": "2022-06-21T00:00:52.589Z"
   },
   {
    "duration": 6,
    "start_time": "2022-06-21T00:01:57.931Z"
   },
   {
    "duration": 15,
    "start_time": "2022-06-21T00:02:38.431Z"
   },
   {
    "duration": 11,
    "start_time": "2022-06-21T00:02:57.199Z"
   },
   {
    "duration": 13,
    "start_time": "2022-06-21T00:04:31.306Z"
   },
   {
    "duration": 95,
    "start_time": "2022-06-21T00:04:50.476Z"
   },
   {
    "duration": 21,
    "start_time": "2022-06-21T00:05:18.442Z"
   },
   {
    "duration": 235,
    "start_time": "2022-06-21T00:06:51.355Z"
   },
   {
    "duration": 486,
    "start_time": "2022-06-21T00:07:54.430Z"
   },
   {
    "duration": 481,
    "start_time": "2022-06-21T00:09:25.331Z"
   },
   {
    "duration": 224,
    "start_time": "2022-06-21T00:10:14.091Z"
   },
   {
    "duration": 278,
    "start_time": "2022-06-21T00:12:22.469Z"
   },
   {
    "duration": 41,
    "start_time": "2022-06-21T00:26:46.354Z"
   },
   {
    "duration": 406,
    "start_time": "2022-06-21T00:27:16.282Z"
   },
   {
    "duration": 3,
    "start_time": "2022-06-21T00:27:16.690Z"
   },
   {
    "duration": 331,
    "start_time": "2022-06-21T00:27:16.695Z"
   },
   {
    "duration": 3,
    "start_time": "2022-06-21T00:27:17.029Z"
   },
   {
    "duration": 473,
    "start_time": "2022-06-21T00:27:17.034Z"
   },
   {
    "duration": 83,
    "start_time": "2022-06-21T00:27:17.508Z"
   },
   {
    "duration": 351,
    "start_time": "2022-06-21T00:27:17.593Z"
   },
   {
    "duration": 156,
    "start_time": "2022-06-21T00:27:17.946Z"
   },
   {
    "duration": 193,
    "start_time": "2022-06-21T00:27:18.103Z"
   },
   {
    "duration": 48,
    "start_time": "2022-06-21T00:27:18.298Z"
   },
   {
    "duration": 3,
    "start_time": "2022-06-21T00:27:18.349Z"
   },
   {
    "duration": 23,
    "start_time": "2022-06-21T00:27:18.354Z"
   },
   {
    "duration": 14,
    "start_time": "2022-06-21T00:27:18.379Z"
   },
   {
    "duration": 21,
    "start_time": "2022-06-21T00:27:18.395Z"
   },
   {
    "duration": 20,
    "start_time": "2022-06-21T00:27:18.418Z"
   },
   {
    "duration": 15,
    "start_time": "2022-06-21T00:27:18.440Z"
   },
   {
    "duration": 15,
    "start_time": "2022-06-21T00:27:18.456Z"
   },
   {
    "duration": 8,
    "start_time": "2022-06-21T00:27:18.472Z"
   },
   {
    "duration": 52,
    "start_time": "2022-06-21T00:27:18.481Z"
   },
   {
    "duration": 12,
    "start_time": "2022-06-21T00:27:18.535Z"
   },
   {
    "duration": 11,
    "start_time": "2022-06-21T00:27:18.548Z"
   },
   {
    "duration": 17,
    "start_time": "2022-06-21T00:27:18.560Z"
   },
   {
    "duration": 10,
    "start_time": "2022-06-21T00:27:18.579Z"
   },
   {
    "duration": 52,
    "start_time": "2022-06-21T00:27:18.591Z"
   },
   {
    "duration": 15,
    "start_time": "2022-06-21T00:27:18.645Z"
   },
   {
    "duration": 13,
    "start_time": "2022-06-21T00:27:18.661Z"
   },
   {
    "duration": 10,
    "start_time": "2022-06-21T00:27:18.675Z"
   },
   {
    "duration": 14,
    "start_time": "2022-06-21T00:27:18.687Z"
   },
   {
    "duration": 4,
    "start_time": "2022-06-21T00:27:18.726Z"
   },
   {
    "duration": 6,
    "start_time": "2022-06-21T00:27:18.732Z"
   },
   {
    "duration": 6,
    "start_time": "2022-06-21T00:27:18.740Z"
   },
   {
    "duration": 6,
    "start_time": "2022-06-21T00:27:18.748Z"
   },
   {
    "duration": 6,
    "start_time": "2022-06-21T00:27:18.756Z"
   },
   {
    "duration": 14,
    "start_time": "2022-06-21T00:27:18.763Z"
   },
   {
    "duration": 52,
    "start_time": "2022-06-21T00:27:18.779Z"
   },
   {
    "duration": 23,
    "start_time": "2022-06-21T00:27:18.832Z"
   },
   {
    "duration": 36,
    "start_time": "2022-06-21T00:27:18.856Z"
   },
   {
    "duration": 46,
    "start_time": "2022-06-21T00:27:18.894Z"
   },
   {
    "duration": 4,
    "start_time": "2022-06-21T00:27:18.941Z"
   },
   {
    "duration": 26,
    "start_time": "2022-06-21T00:27:18.947Z"
   },
   {
    "duration": 4,
    "start_time": "2022-06-21T00:27:18.977Z"
   },
   {
    "duration": 24,
    "start_time": "2022-06-21T00:27:18.982Z"
   },
   {
    "duration": 21,
    "start_time": "2022-06-21T00:27:19.008Z"
   },
   {
    "duration": 12,
    "start_time": "2022-06-21T00:27:19.031Z"
   },
   {
    "duration": 4,
    "start_time": "2022-06-21T00:27:19.045Z"
   },
   {
    "duration": 9,
    "start_time": "2022-06-21T00:27:19.051Z"
   },
   {
    "duration": 7,
    "start_time": "2022-06-21T00:27:19.062Z"
   },
   {
    "duration": 9,
    "start_time": "2022-06-21T00:27:19.070Z"
   },
   {
    "duration": 8,
    "start_time": "2022-06-21T00:27:19.080Z"
   },
   {
    "duration": 40,
    "start_time": "2022-06-21T00:27:19.090Z"
   },
   {
    "duration": 6,
    "start_time": "2022-06-21T00:27:19.132Z"
   },
   {
    "duration": 4,
    "start_time": "2022-06-21T00:27:19.139Z"
   },
   {
    "duration": 8,
    "start_time": "2022-06-21T00:27:19.145Z"
   },
   {
    "duration": 94,
    "start_time": "2022-06-21T00:27:19.154Z"
   },
   {
    "duration": 29,
    "start_time": "2022-06-21T00:27:19.250Z"
   },
   {
    "duration": 7,
    "start_time": "2022-06-21T00:27:19.281Z"
   },
   {
    "duration": 12,
    "start_time": "2022-06-21T00:27:19.290Z"
   },
   {
    "duration": 226,
    "start_time": "2022-06-21T00:27:19.303Z"
   },
   {
    "duration": 14,
    "start_time": "2022-06-21T00:27:19.531Z"
   },
   {
    "duration": 24,
    "start_time": "2022-06-21T00:27:19.547Z"
   },
   {
    "duration": 263,
    "start_time": "2022-06-21T00:27:37.218Z"
   },
   {
    "duration": 315,
    "start_time": "2022-06-21T00:33:41.926Z"
   },
   {
    "duration": 275,
    "start_time": "2022-06-21T00:34:22.178Z"
   },
   {
    "duration": 264,
    "start_time": "2022-06-21T00:34:39.050Z"
   },
   {
    "duration": 268,
    "start_time": "2022-06-21T00:35:13.172Z"
   },
   {
    "duration": 15,
    "start_time": "2022-06-21T00:35:34.618Z"
   },
   {
    "duration": 203,
    "start_time": "2022-06-21T00:35:35.876Z"
   },
   {
    "duration": 15,
    "start_time": "2022-06-21T00:35:50.202Z"
   },
   {
    "duration": 267,
    "start_time": "2022-06-21T00:36:39.804Z"
   },
   {
    "duration": 14,
    "start_time": "2022-06-21T00:37:25.032Z"
   },
   {
    "duration": 205,
    "start_time": "2022-06-21T00:37:26.286Z"
   },
   {
    "duration": 15,
    "start_time": "2022-06-21T00:38:02.116Z"
   },
   {
    "duration": 346,
    "start_time": "2022-06-21T00:38:51.946Z"
   },
   {
    "duration": 7,
    "start_time": "2022-06-21T00:40:26.185Z"
   },
   {
    "duration": 405,
    "start_time": "2022-06-21T00:48:41.737Z"
   },
   {
    "duration": 2,
    "start_time": "2022-06-21T00:48:42.145Z"
   },
   {
    "duration": 227,
    "start_time": "2022-06-21T00:48:42.149Z"
   },
   {
    "duration": 2,
    "start_time": "2022-06-21T00:48:42.378Z"
   },
   {
    "duration": 429,
    "start_time": "2022-06-21T00:48:42.382Z"
   },
   {
    "duration": 42,
    "start_time": "2022-06-21T00:48:42.812Z"
   },
   {
    "duration": 110,
    "start_time": "2022-06-21T00:48:42.856Z"
   },
   {
    "duration": 55,
    "start_time": "2022-06-21T00:48:42.968Z"
   },
   {
    "duration": 100,
    "start_time": "2022-06-21T00:48:43.025Z"
   },
   {
    "duration": 22,
    "start_time": "2022-06-21T00:48:43.126Z"
   },
   {
    "duration": 2,
    "start_time": "2022-06-21T00:48:43.150Z"
   },
   {
    "duration": 27,
    "start_time": "2022-06-21T00:48:43.153Z"
   },
   {
    "duration": 12,
    "start_time": "2022-06-21T00:48:43.181Z"
   },
   {
    "duration": 22,
    "start_time": "2022-06-21T00:48:43.196Z"
   },
   {
    "duration": 22,
    "start_time": "2022-06-21T00:48:43.220Z"
   },
   {
    "duration": 16,
    "start_time": "2022-06-21T00:48:43.244Z"
   },
   {
    "duration": 13,
    "start_time": "2022-06-21T00:48:43.262Z"
   },
   {
    "duration": 7,
    "start_time": "2022-06-21T00:48:43.277Z"
   },
   {
    "duration": 17,
    "start_time": "2022-06-21T00:48:43.286Z"
   },
   {
    "duration": 38,
    "start_time": "2022-06-21T00:48:43.304Z"
   },
   {
    "duration": 15,
    "start_time": "2022-06-21T00:48:43.344Z"
   },
   {
    "duration": 19,
    "start_time": "2022-06-21T00:48:43.360Z"
   },
   {
    "duration": 11,
    "start_time": "2022-06-21T00:48:43.381Z"
   },
   {
    "duration": 52,
    "start_time": "2022-06-21T00:48:43.394Z"
   },
   {
    "duration": 15,
    "start_time": "2022-06-21T00:48:43.451Z"
   },
   {
    "duration": 12,
    "start_time": "2022-06-21T00:48:43.467Z"
   },
   {
    "duration": 10,
    "start_time": "2022-06-21T00:48:43.480Z"
   },
   {
    "duration": 11,
    "start_time": "2022-06-21T00:48:43.491Z"
   },
   {
    "duration": 11,
    "start_time": "2022-06-21T00:48:43.504Z"
   },
   {
    "duration": 10,
    "start_time": "2022-06-21T00:48:43.516Z"
   },
   {
    "duration": 4,
    "start_time": "2022-06-21T00:48:43.537Z"
   },
   {
    "duration": 9,
    "start_time": "2022-06-21T00:48:43.542Z"
   },
   {
    "duration": 7,
    "start_time": "2022-06-21T00:48:43.553Z"
   },
   {
    "duration": 16,
    "start_time": "2022-06-21T00:48:43.561Z"
   },
   {
    "duration": 36,
    "start_time": "2022-06-21T00:48:43.578Z"
   },
   {
    "duration": 28,
    "start_time": "2022-06-21T00:48:43.616Z"
   },
   {
    "duration": 31,
    "start_time": "2022-06-21T00:48:43.646Z"
   },
   {
    "duration": 21,
    "start_time": "2022-06-21T00:48:43.679Z"
   },
   {
    "duration": 4,
    "start_time": "2022-06-21T00:48:43.702Z"
   },
   {
    "duration": 54,
    "start_time": "2022-06-21T00:48:43.707Z"
   },
   {
    "duration": 4,
    "start_time": "2022-06-21T00:48:43.765Z"
   },
   {
    "duration": 30,
    "start_time": "2022-06-21T00:48:43.771Z"
   },
   {
    "duration": 3,
    "start_time": "2022-06-21T00:48:43.803Z"
   },
   {
    "duration": 31,
    "start_time": "2022-06-21T00:48:43.808Z"
   },
   {
    "duration": 4,
    "start_time": "2022-06-21T00:48:43.841Z"
   },
   {
    "duration": 21,
    "start_time": "2022-06-21T00:48:43.846Z"
   },
   {
    "duration": 8,
    "start_time": "2022-06-21T00:48:43.869Z"
   },
   {
    "duration": 8,
    "start_time": "2022-06-21T00:48:43.878Z"
   },
   {
    "duration": 9,
    "start_time": "2022-06-21T00:48:43.887Z"
   },
   {
    "duration": 8,
    "start_time": "2022-06-21T00:48:43.898Z"
   },
   {
    "duration": 8,
    "start_time": "2022-06-21T00:48:43.907Z"
   },
   {
    "duration": 15,
    "start_time": "2022-06-21T00:48:43.916Z"
   },
   {
    "duration": 19,
    "start_time": "2022-06-21T00:48:43.933Z"
   },
   {
    "duration": 87,
    "start_time": "2022-06-21T00:48:43.954Z"
   },
   {
    "duration": 30,
    "start_time": "2022-06-21T00:48:44.042Z"
   },
   {
    "duration": 8,
    "start_time": "2022-06-21T00:48:44.073Z"
   },
   {
    "duration": 18,
    "start_time": "2022-06-21T00:48:44.082Z"
   },
   {
    "duration": 222,
    "start_time": "2022-06-21T00:48:44.102Z"
   },
   {
    "duration": 15,
    "start_time": "2022-06-21T00:48:44.328Z"
   },
   {
    "duration": 276,
    "start_time": "2022-06-21T00:48:44.344Z"
   },
   {
    "duration": 23,
    "start_time": "2022-06-21T00:48:44.621Z"
   },
   {
    "duration": 191,
    "start_time": "2022-06-21T00:48:44.645Z"
   },
   {
    "duration": 14,
    "start_time": "2022-06-21T00:48:44.838Z"
   },
   {
    "duration": 252,
    "start_time": "2022-06-21T00:48:44.853Z"
   },
   {
    "duration": 22,
    "start_time": "2022-06-21T00:48:45.107Z"
   },
   {
    "duration": 214,
    "start_time": "2022-06-21T00:48:45.130Z"
   },
   {
    "duration": 13,
    "start_time": "2022-06-21T00:48:45.346Z"
   },
   {
    "duration": 247,
    "start_time": "2022-06-21T00:48:45.360Z"
   },
   {
    "duration": 38,
    "start_time": "2022-06-21T00:48:45.609Z"
   },
   {
    "duration": 7,
    "start_time": "2022-06-21T00:48:45.649Z"
   },
   {
    "duration": 28,
    "start_time": "2022-06-21T00:48:45.658Z"
   },
   {
    "duration": 5,
    "start_time": "2022-06-21T00:48:45.688Z"
   },
   {
    "duration": 16,
    "start_time": "2022-06-21T00:48:45.695Z"
   },
   {
    "duration": 17,
    "start_time": "2022-06-21T00:48:45.713Z"
   }
  ],
  "kernelspec": {
   "display_name": "Python 3 (ipykernel)",
   "language": "python",
   "name": "python3"
  },
  "language_info": {
   "codemirror_mode": {
    "name": "ipython",
    "version": 3
   },
   "file_extension": ".py",
   "mimetype": "text/x-python",
   "name": "python",
   "nbconvert_exporter": "python",
   "pygments_lexer": "ipython3",
   "version": "3.9.7"
  },
  "toc": {
   "base_numbering": 1,
   "nav_menu": {},
   "number_sections": true,
   "sideBar": true,
   "skip_h1_title": true,
   "title_cell": "Table of Contents",
   "title_sidebar": "Contents",
   "toc_cell": false,
   "toc_position": {},
   "toc_section_display": true,
   "toc_window_display": false
  }
 },
 "nbformat": 4,
 "nbformat_minor": 2
}
